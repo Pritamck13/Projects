{
 "cells": [
  {
   "cell_type": "markdown",
   "id": "6877c771",
   "metadata": {},
   "source": [
    "# Morgan Stanley\n"
   ]
  },
  {
   "cell_type": "code",
   "execution_count": 216,
   "id": "f2a17e4e",
   "metadata": {},
   "outputs": [],
   "source": [
    "\n",
    "import numpy as np\n",
    "import pandas as pd\n",
    "import matplotlib.pyplot as plt\n",
    "import seaborn as sns\n",
    "import statsmodels.api as sm\n",
    "from sklearn import linear_model\n",
    "from statsmodels.compat import lzip\n",
    "import statsmodels.stats.api as sms\n",
    "from statsmodels.stats.outliers_influence import variance_inflation_factor\n",
    "from statsmodels.tools.tools import add_constant\n",
    "from statsmodels.tsa.stattools import adfuller\n",
    "from statsmodels.tsa.api import ARDL\n",
    "\n",
    "sns.set()\n",
    "import warnings\n",
    "warnings.filterwarnings(\"ignore\")\n"
   ]
  },
  {
   "cell_type": "code",
   "execution_count": 217,
   "id": "e7d27894",
   "metadata": {},
   "outputs": [],
   "source": [
    "date = pd.date_range(start = '2007-12-01',end= '2022-12-01',freq = 'Q')\n"
   ]
  },
  {
   "cell_type": "code",
   "execution_count": 218,
   "id": "1d7ba469",
   "metadata": {},
   "outputs": [
    {
     "data": {
      "text/plain": [
       "DatetimeIndex(['2007-12-31', '2008-03-31', '2008-06-30', '2008-09-30',\n",
       "               '2008-12-31', '2009-03-31', '2009-06-30', '2009-09-30',\n",
       "               '2009-12-31', '2010-03-31', '2010-06-30', '2010-09-30',\n",
       "               '2010-12-31', '2011-03-31', '2011-06-30', '2011-09-30',\n",
       "               '2011-12-31', '2012-03-31', '2012-06-30', '2012-09-30',\n",
       "               '2012-12-31', '2013-03-31', '2013-06-30', '2013-09-30',\n",
       "               '2013-12-31', '2014-03-31', '2014-06-30', '2014-09-30',\n",
       "               '2014-12-31', '2015-03-31', '2015-06-30', '2015-09-30',\n",
       "               '2015-12-31', '2016-03-31', '2016-06-30', '2016-09-30',\n",
       "               '2016-12-31', '2017-03-31', '2017-06-30', '2017-09-30',\n",
       "               '2017-12-31', '2018-03-31', '2018-06-30', '2018-09-30',\n",
       "               '2018-12-31', '2019-03-31', '2019-06-30', '2019-09-30',\n",
       "               '2019-12-31', '2020-03-31', '2020-06-30', '2020-09-30',\n",
       "               '2020-12-31', '2021-03-31', '2021-06-30', '2021-09-30',\n",
       "               '2021-12-31', '2022-03-31', '2022-06-30', '2022-09-30'],\n",
       "              dtype='datetime64[ns]', freq='Q-DEC')"
      ]
     },
     "execution_count": 218,
     "metadata": {},
     "output_type": "execute_result"
    }
   ],
   "source": [
    "date"
   ]
  },
  {
   "cell_type": "code",
   "execution_count": 219,
   "id": "a7d7c6be",
   "metadata": {},
   "outputs": [
    {
     "data": {
      "text/plain": [
       "PeriodIndex(['2007', '2008', '2008', '2008', '2008', '2009', '2009', '2009',\n",
       "             '2009', '2010', '2010', '2010', '2010', '2011', '2011', '2011',\n",
       "             '2011', '2012', '2012', '2012', '2012', '2013', '2013', '2013',\n",
       "             '2013', '2014', '2014', '2014', '2014', '2015', '2015', '2015',\n",
       "             '2015', '2016', '2016', '2016', '2016', '2017', '2017', '2017',\n",
       "             '2017', '2018', '2018', '2018', '2018', '2019', '2019', '2019',\n",
       "             '2019', '2020', '2020', '2020', '2020', '2021', '2021', '2021',\n",
       "             '2021', '2022', '2022', '2022'],\n",
       "            dtype='period[A-DEC]', freq='A-DEC')"
      ]
     },
     "execution_count": 219,
     "metadata": {},
     "output_type": "execute_result"
    }
   ],
   "source": [
    "date = date.to_period('Y')\n",
    "date"
   ]
  },
  {
   "cell_type": "code",
   "execution_count": 220,
   "id": "25dac91d",
   "metadata": {},
   "outputs": [],
   "source": [
    "#we genrated a series of data starting from 2007  till 2022 on a yearly basis"
   ]
  },
  {
   "cell_type": "code",
   "execution_count": 221,
   "id": "a94c22fa",
   "metadata": {},
   "outputs": [],
   "source": [
    "MS_data = pd.read_excel('MS_Data Analyses_v1.xlsx',sheet_name='Test_Results')\n",
    "\n",
    "#pulled the MS data"
   ]
  },
  {
   "cell_type": "code",
   "execution_count": 222,
   "id": "695e47e9",
   "metadata": {},
   "outputs": [
    {
     "data": {
      "text/plain": [
       "Index(['Date', 'MS_EQUITY($ M)', 'SPX', 'Trading volume (shares US market)',\n",
       "       'MS 6M Spread', 'MS 1Yr Spread', 'MS 2Yr Spread'],\n",
       "      dtype='object')"
      ]
     },
     "execution_count": 222,
     "metadata": {},
     "output_type": "execute_result"
    }
   ],
   "source": [
    "MS_data.columns"
   ]
  },
  {
   "cell_type": "code",
   "execution_count": 223,
   "id": "64384c5a",
   "metadata": {},
   "outputs": [
    {
     "data": {
      "text/html": [
       "<div>\n",
       "<style scoped>\n",
       "    .dataframe tbody tr th:only-of-type {\n",
       "        vertical-align: middle;\n",
       "    }\n",
       "\n",
       "    .dataframe tbody tr th {\n",
       "        vertical-align: top;\n",
       "    }\n",
       "\n",
       "    .dataframe thead th {\n",
       "        text-align: right;\n",
       "    }\n",
       "</style>\n",
       "<table border=\"1\" class=\"dataframe\">\n",
       "  <thead>\n",
       "    <tr style=\"text-align: right;\">\n",
       "      <th></th>\n",
       "      <th>Date</th>\n",
       "      <th>MS_EQUITY($ M)</th>\n",
       "      <th>SPX</th>\n",
       "      <th>Trading volume (shares US market)</th>\n",
       "      <th>MS 6M Spread</th>\n",
       "      <th>MS 1Yr Spread</th>\n",
       "      <th>MS 2Yr Spread</th>\n",
       "    </tr>\n",
       "  </thead>\n",
       "  <tbody>\n",
       "    <tr>\n",
       "      <th>0</th>\n",
       "      <td>Q4 2007</td>\n",
       "      <td>2472</td>\n",
       "      <td>1477.184342</td>\n",
       "      <td>1027273155</td>\n",
       "      <td>1769.31</td>\n",
       "      <td>1620.46</td>\n",
       "      <td>1356.91</td>\n",
       "    </tr>\n",
       "    <tr>\n",
       "      <th>1</th>\n",
       "      <td>Q1 2008</td>\n",
       "      <td>3414</td>\n",
       "      <td>1220.042056</td>\n",
       "      <td>1797537680</td>\n",
       "      <td>1769.31</td>\n",
       "      <td>1620.46</td>\n",
       "      <td>1356.91</td>\n",
       "    </tr>\n",
       "    <tr>\n",
       "      <th>2</th>\n",
       "      <td>Q2 2008</td>\n",
       "      <td>2228</td>\n",
       "      <td>1220.042056</td>\n",
       "      <td>1708720980</td>\n",
       "      <td>1769.31</td>\n",
       "      <td>1620.46</td>\n",
       "      <td>1356.91</td>\n",
       "    </tr>\n",
       "    <tr>\n",
       "      <th>3</th>\n",
       "      <td>Q3 2008</td>\n",
       "      <td>6031</td>\n",
       "      <td>1220.042056</td>\n",
       "      <td>2382291883</td>\n",
       "      <td>1769.31</td>\n",
       "      <td>1620.46</td>\n",
       "      <td>1356.91</td>\n",
       "    </tr>\n",
       "    <tr>\n",
       "      <th>4</th>\n",
       "      <td>Q4 2008</td>\n",
       "      <td>-2648</td>\n",
       "      <td>1220.042056</td>\n",
       "      <td>2748365910</td>\n",
       "      <td>650.00</td>\n",
       "      <td>660.00</td>\n",
       "      <td>540.00</td>\n",
       "    </tr>\n",
       "  </tbody>\n",
       "</table>\n",
       "</div>"
      ],
      "text/plain": [
       "      Date  MS_EQUITY($ M)          SPX  Trading volume (shares US market)  \\\n",
       "0  Q4 2007            2472  1477.184342                         1027273155   \n",
       "1  Q1 2008            3414  1220.042056                         1797537680   \n",
       "2  Q2 2008            2228  1220.042056                         1708720980   \n",
       "3  Q3 2008            6031  1220.042056                         2382291883   \n",
       "4  Q4 2008           -2648  1220.042056                         2748365910   \n",
       "\n",
       "   MS 6M Spread  MS 1Yr Spread  MS 2Yr Spread  \n",
       "0       1769.31        1620.46        1356.91  \n",
       "1       1769.31        1620.46        1356.91  \n",
       "2       1769.31        1620.46        1356.91  \n",
       "3       1769.31        1620.46        1356.91  \n",
       "4        650.00         660.00         540.00  "
      ]
     },
     "execution_count": 223,
     "metadata": {},
     "output_type": "execute_result"
    }
   ],
   "source": [
    "MS_data.head()"
   ]
  },
  {
   "cell_type": "code",
   "execution_count": 224,
   "id": "b9dfaa0b",
   "metadata": {},
   "outputs": [],
   "source": [
    "MS_data['index'] = MS_data['Date']"
   ]
  },
  {
   "cell_type": "code",
   "execution_count": 225,
   "id": "bf421078",
   "metadata": {},
   "outputs": [],
   "source": [
    "MS_data.set_index(\"index\",inplace =True)"
   ]
  },
  {
   "cell_type": "code",
   "execution_count": 226,
   "id": "2ac9850b",
   "metadata": {},
   "outputs": [],
   "source": [
    "#we club the yearly data with the MS data"
   ]
  },
  {
   "cell_type": "code",
   "execution_count": 227,
   "id": "58103163",
   "metadata": {},
   "outputs": [
    {
     "data": {
      "text/html": [
       "<div>\n",
       "<style scoped>\n",
       "    .dataframe tbody tr th:only-of-type {\n",
       "        vertical-align: middle;\n",
       "    }\n",
       "\n",
       "    .dataframe tbody tr th {\n",
       "        vertical-align: top;\n",
       "    }\n",
       "\n",
       "    .dataframe thead th {\n",
       "        text-align: right;\n",
       "    }\n",
       "</style>\n",
       "<table border=\"1\" class=\"dataframe\">\n",
       "  <thead>\n",
       "    <tr style=\"text-align: right;\">\n",
       "      <th></th>\n",
       "      <th>Date</th>\n",
       "      <th>MS_EQUITY($ M)</th>\n",
       "      <th>SPX</th>\n",
       "      <th>Trading volume (shares US market)</th>\n",
       "      <th>MS 6M Spread</th>\n",
       "      <th>MS 1Yr Spread</th>\n",
       "      <th>MS 2Yr Spread</th>\n",
       "    </tr>\n",
       "    <tr>\n",
       "      <th>index</th>\n",
       "      <th></th>\n",
       "      <th></th>\n",
       "      <th></th>\n",
       "      <th></th>\n",
       "      <th></th>\n",
       "      <th></th>\n",
       "      <th></th>\n",
       "    </tr>\n",
       "  </thead>\n",
       "  <tbody>\n",
       "    <tr>\n",
       "      <th>Q4 2007</th>\n",
       "      <td>Q4 2007</td>\n",
       "      <td>2472</td>\n",
       "      <td>1477.184342</td>\n",
       "      <td>1027273155</td>\n",
       "      <td>1769.31</td>\n",
       "      <td>1620.46</td>\n",
       "      <td>1356.91</td>\n",
       "    </tr>\n",
       "    <tr>\n",
       "      <th>Q1 2008</th>\n",
       "      <td>Q1 2008</td>\n",
       "      <td>3414</td>\n",
       "      <td>1220.042056</td>\n",
       "      <td>1797537680</td>\n",
       "      <td>1769.31</td>\n",
       "      <td>1620.46</td>\n",
       "      <td>1356.91</td>\n",
       "    </tr>\n",
       "    <tr>\n",
       "      <th>Q2 2008</th>\n",
       "      <td>Q2 2008</td>\n",
       "      <td>2228</td>\n",
       "      <td>1220.042056</td>\n",
       "      <td>1708720980</td>\n",
       "      <td>1769.31</td>\n",
       "      <td>1620.46</td>\n",
       "      <td>1356.91</td>\n",
       "    </tr>\n",
       "    <tr>\n",
       "      <th>Q3 2008</th>\n",
       "      <td>Q3 2008</td>\n",
       "      <td>6031</td>\n",
       "      <td>1220.042056</td>\n",
       "      <td>2382291883</td>\n",
       "      <td>1769.31</td>\n",
       "      <td>1620.46</td>\n",
       "      <td>1356.91</td>\n",
       "    </tr>\n",
       "    <tr>\n",
       "      <th>Q4 2008</th>\n",
       "      <td>Q4 2008</td>\n",
       "      <td>-2648</td>\n",
       "      <td>1220.042056</td>\n",
       "      <td>2748365910</td>\n",
       "      <td>650.00</td>\n",
       "      <td>660.00</td>\n",
       "      <td>540.00</td>\n",
       "    </tr>\n",
       "  </tbody>\n",
       "</table>\n",
       "</div>"
      ],
      "text/plain": [
       "            Date  MS_EQUITY($ M)          SPX  \\\n",
       "index                                           \n",
       "Q4 2007  Q4 2007            2472  1477.184342   \n",
       "Q1 2008  Q1 2008            3414  1220.042056   \n",
       "Q2 2008  Q2 2008            2228  1220.042056   \n",
       "Q3 2008  Q3 2008            6031  1220.042056   \n",
       "Q4 2008  Q4 2008           -2648  1220.042056   \n",
       "\n",
       "         Trading volume (shares US market)  MS 6M Spread  MS 1Yr Spread  \\\n",
       "index                                                                     \n",
       "Q4 2007                         1027273155       1769.31        1620.46   \n",
       "Q1 2008                         1797537680       1769.31        1620.46   \n",
       "Q2 2008                         1708720980       1769.31        1620.46   \n",
       "Q3 2008                         2382291883       1769.31        1620.46   \n",
       "Q4 2008                         2748365910        650.00         660.00   \n",
       "\n",
       "         MS 2Yr Spread  \n",
       "index                   \n",
       "Q4 2007        1356.91  \n",
       "Q1 2008        1356.91  \n",
       "Q2 2008        1356.91  \n",
       "Q3 2008        1356.91  \n",
       "Q4 2008         540.00  "
      ]
     },
     "execution_count": 227,
     "metadata": {},
     "output_type": "execute_result"
    }
   ],
   "source": [
    "MS_data.head()"
   ]
  },
  {
   "cell_type": "code",
   "execution_count": 228,
   "id": "a790b10a",
   "metadata": {},
   "outputs": [],
   "source": [
    "MS_data.drop(columns=\"Date\", inplace = True)\n"
   ]
  },
  {
   "cell_type": "code",
   "execution_count": 229,
   "id": "61058bc1",
   "metadata": {},
   "outputs": [
    {
     "data": {
      "text/html": [
       "<div>\n",
       "<style scoped>\n",
       "    .dataframe tbody tr th:only-of-type {\n",
       "        vertical-align: middle;\n",
       "    }\n",
       "\n",
       "    .dataframe tbody tr th {\n",
       "        vertical-align: top;\n",
       "    }\n",
       "\n",
       "    .dataframe thead th {\n",
       "        text-align: right;\n",
       "    }\n",
       "</style>\n",
       "<table border=\"1\" class=\"dataframe\">\n",
       "  <thead>\n",
       "    <tr style=\"text-align: right;\">\n",
       "      <th></th>\n",
       "      <th>MS_EQUITY($ M)</th>\n",
       "      <th>SPX</th>\n",
       "      <th>Trading volume (shares US market)</th>\n",
       "      <th>MS 6M Spread</th>\n",
       "      <th>MS 1Yr Spread</th>\n",
       "      <th>MS 2Yr Spread</th>\n",
       "    </tr>\n",
       "    <tr>\n",
       "      <th>index</th>\n",
       "      <th></th>\n",
       "      <th></th>\n",
       "      <th></th>\n",
       "      <th></th>\n",
       "      <th></th>\n",
       "      <th></th>\n",
       "    </tr>\n",
       "  </thead>\n",
       "  <tbody>\n",
       "    <tr>\n",
       "      <th>Q4 2007</th>\n",
       "      <td>2472</td>\n",
       "      <td>1477.184342</td>\n",
       "      <td>1027273155</td>\n",
       "      <td>1769.31</td>\n",
       "      <td>1620.46</td>\n",
       "      <td>1356.91</td>\n",
       "    </tr>\n",
       "    <tr>\n",
       "      <th>Q1 2008</th>\n",
       "      <td>3414</td>\n",
       "      <td>1220.042056</td>\n",
       "      <td>1797537680</td>\n",
       "      <td>1769.31</td>\n",
       "      <td>1620.46</td>\n",
       "      <td>1356.91</td>\n",
       "    </tr>\n",
       "    <tr>\n",
       "      <th>Q2 2008</th>\n",
       "      <td>2228</td>\n",
       "      <td>1220.042056</td>\n",
       "      <td>1708720980</td>\n",
       "      <td>1769.31</td>\n",
       "      <td>1620.46</td>\n",
       "      <td>1356.91</td>\n",
       "    </tr>\n",
       "    <tr>\n",
       "      <th>Q3 2008</th>\n",
       "      <td>6031</td>\n",
       "      <td>1220.042056</td>\n",
       "      <td>2382291883</td>\n",
       "      <td>1769.31</td>\n",
       "      <td>1620.46</td>\n",
       "      <td>1356.91</td>\n",
       "    </tr>\n",
       "    <tr>\n",
       "      <th>Q4 2008</th>\n",
       "      <td>-2648</td>\n",
       "      <td>1220.042056</td>\n",
       "      <td>2748365910</td>\n",
       "      <td>650.00</td>\n",
       "      <td>660.00</td>\n",
       "      <td>540.00</td>\n",
       "    </tr>\n",
       "  </tbody>\n",
       "</table>\n",
       "</div>"
      ],
      "text/plain": [
       "         MS_EQUITY($ M)          SPX  Trading volume (shares US market)  \\\n",
       "index                                                                     \n",
       "Q4 2007            2472  1477.184342                         1027273155   \n",
       "Q1 2008            3414  1220.042056                         1797537680   \n",
       "Q2 2008            2228  1220.042056                         1708720980   \n",
       "Q3 2008            6031  1220.042056                         2382291883   \n",
       "Q4 2008           -2648  1220.042056                         2748365910   \n",
       "\n",
       "         MS 6M Spread  MS 1Yr Spread  MS 2Yr Spread  \n",
       "index                                                \n",
       "Q4 2007       1769.31        1620.46        1356.91  \n",
       "Q1 2008       1769.31        1620.46        1356.91  \n",
       "Q2 2008       1769.31        1620.46        1356.91  \n",
       "Q3 2008       1769.31        1620.46        1356.91  \n",
       "Q4 2008        650.00         660.00         540.00  "
      ]
     },
     "execution_count": 229,
     "metadata": {},
     "output_type": "execute_result"
    }
   ],
   "source": [
    "MS_data.head()"
   ]
  },
  {
   "cell_type": "code",
   "execution_count": 230,
   "id": "a421125d",
   "metadata": {},
   "outputs": [
    {
     "data": {
      "text/plain": [
       "pandas.core.indexes.base.Index"
      ]
     },
     "execution_count": 230,
     "metadata": {},
     "output_type": "execute_result"
    }
   ],
   "source": [
    "type(MS_data.index)\n",
    "# we ensured that the index of our data is a  period index since we would be testing the data for \n",
    "#stationarity and cointegration, it is important for the data to a time series data."
   ]
  },
  {
   "cell_type": "markdown",
   "id": "7e3c10be",
   "metadata": {},
   "source": [
    "## Test for stationarity"
   ]
  },
  {
   "cell_type": "markdown",
   "id": "01b698ff",
   "metadata": {},
   "source": [
    "### Augmented Dickey Fuller Test"
   ]
  },
  {
   "cell_type": "code",
   "execution_count": 231,
   "id": "447c9efd",
   "metadata": {},
   "outputs": [],
   "source": [
    "def ADF(series,title=''):\n",
    "    print(f'The Augmented Dickey Fuller Test: {title}')\n",
    "\n",
    "    result = adfuller(series,autolag='AIC') # Augmented Dickey Fuller test is a statistical test to check for stationarity. \n",
    "    \n",
    "    labels = ['ADF test Statistic',\"p-value\",\"lags used\",\"observations\"]\n",
    "    out = pd.Series(result[0:4],index = labels)\n",
    "    \n",
    "    for key,val in result[4].items():\n",
    "        out[f'the critical value ({key})'] = val\n",
    "    print(out.to_string())\n",
    "    \n",
    "    if result[1]<=0.05:\n",
    "       \n",
    "        print(\"Reject the null hypothesis\")\n",
    "        print(f'The {title} series is stationary')\n",
    "    if result[1]>0.05:\n",
    "        print(\"Accept the null hypothesis\")\n",
    "        print(f'The {title } series is non-stationary ')\n",
    "        \n"
   ]
  },
  {
   "cell_type": "code",
   "execution_count": 232,
   "id": "e1bf85e9",
   "metadata": {},
   "outputs": [
    {
     "name": "stdout",
     "output_type": "stream",
     "text": [
      "The Augmented Dickey Fuller Test: MS_EQUITY($ M)\n",
      "ADF test Statistic           0.739501\n",
      "p-value                      0.990594\n",
      "lags used                   11.000000\n",
      "observations                48.000000\n",
      "the critical value (1%)     -3.574589\n",
      "the critical value (5%)     -2.923954\n",
      "the critical value (10%)    -2.600039\n",
      "Accept the null hypothesis\n",
      "The MS_EQUITY($ M) series is non-stationary \n"
     ]
    }
   ],
   "source": [
    "ADF(MS_data['MS_EQUITY($ M)'],'MS_EQUITY($ M)')"
   ]
  },
  {
   "cell_type": "code",
   "execution_count": 233,
   "id": "dcd17a34",
   "metadata": {},
   "outputs": [
    {
     "name": "stdout",
     "output_type": "stream",
     "text": [
      "The Augmented Dickey Fuller Test: SPX\n",
      "ADF test Statistic           2.191081\n",
      "p-value                      0.998875\n",
      "lags used                    7.000000\n",
      "observations                52.000000\n",
      "the critical value (1%)     -3.562879\n",
      "the critical value (5%)     -2.918973\n",
      "the critical value (10%)    -2.597393\n",
      "Accept the null hypothesis\n",
      "The SPX series is non-stationary \n"
     ]
    }
   ],
   "source": [
    "ADF(MS_data['SPX'],'SPX')"
   ]
  },
  {
   "cell_type": "code",
   "execution_count": 234,
   "id": "5485bc50",
   "metadata": {},
   "outputs": [
    {
     "name": "stdout",
     "output_type": "stream",
     "text": [
      "The Augmented Dickey Fuller Test: Trading volume (shares US market)\n",
      "ADF test Statistic           0.420424\n",
      "p-value                      0.982243\n",
      "lags used                    2.000000\n",
      "observations                57.000000\n",
      "the critical value (1%)     -3.550670\n",
      "the critical value (5%)     -2.913766\n",
      "the critical value (10%)    -2.594624\n",
      "Accept the null hypothesis\n",
      "The Trading volume (shares US market) series is non-stationary \n"
     ]
    }
   ],
   "source": [
    "ADF(MS_data['Trading volume (shares US market)'],'Trading volume (shares US market)')"
   ]
  },
  {
   "cell_type": "code",
   "execution_count": 235,
   "id": "690ffce2",
   "metadata": {},
   "outputs": [
    {
     "name": "stdout",
     "output_type": "stream",
     "text": [
      "The Augmented Dickey Fuller Test: MS 6M Spread\n",
      "ADF test Statistic          -5.485124\n",
      "p-value                      0.000002\n",
      "lags used                   11.000000\n",
      "observations                48.000000\n",
      "the critical value (1%)     -3.574589\n",
      "the critical value (5%)     -2.923954\n",
      "the critical value (10%)    -2.600039\n",
      "Reject the null hypothesis\n",
      "The MS 6M Spread series is stationary\n"
     ]
    }
   ],
   "source": [
    "ADF(MS_data['MS 6M Spread'],'MS 6M Spread')"
   ]
  },
  {
   "cell_type": "code",
   "execution_count": 236,
   "id": "cec6b1d8",
   "metadata": {},
   "outputs": [
    {
     "name": "stdout",
     "output_type": "stream",
     "text": [
      "The Augmented Dickey Fuller Test: MS 1Yr Spread\n",
      "ADF test Statistic          -4.477551\n",
      "p-value                      0.000216\n",
      "lags used                   11.000000\n",
      "observations                48.000000\n",
      "the critical value (1%)     -3.574589\n",
      "the critical value (5%)     -2.923954\n",
      "the critical value (10%)    -2.600039\n",
      "Reject the null hypothesis\n",
      "The MS 1Yr Spread series is stationary\n"
     ]
    }
   ],
   "source": [
    "ADF(MS_data['MS 1Yr Spread'],'MS 1Yr Spread')"
   ]
  },
  {
   "cell_type": "code",
   "execution_count": 237,
   "id": "2732b83b",
   "metadata": {},
   "outputs": [
    {
     "name": "stdout",
     "output_type": "stream",
     "text": [
      "The Augmented Dickey Fuller Test: MS 2Yr Spread\n",
      "ADF test Statistic          -3.826063\n",
      "p-value                      0.002652\n",
      "lags used                   11.000000\n",
      "observations                48.000000\n",
      "the critical value (1%)     -3.574589\n",
      "the critical value (5%)     -2.923954\n",
      "the critical value (10%)    -2.600039\n",
      "Reject the null hypothesis\n",
      "The MS 2Yr Spread series is stationary\n"
     ]
    }
   ],
   "source": [
    "ADF(MS_data['MS 2Yr Spread'],'MS 2Yr Spread')"
   ]
  },
  {
   "cell_type": "markdown",
   "id": "65e7cd86",
   "metadata": {},
   "source": [
    "## Test for Cointegration"
   ]
  },
  {
   "cell_type": "code",
   "execution_count": 238,
   "id": "cbc8214e",
   "metadata": {},
   "outputs": [],
   "source": [
    "import statsmodels.tsa.stattools as ts"
   ]
  },
  {
   "cell_type": "markdown",
   "id": "94e6f185",
   "metadata": {},
   "source": [
    "### Johansen Test"
   ]
  },
  {
   "cell_type": "code",
   "execution_count": 239,
   "id": "2f730d22",
   "metadata": {},
   "outputs": [],
   "source": [
    "def cointegration_test(data1,data2,title =''):\n",
    "    print(f'The Johansen cointegration test for {title} is: ')\n",
    "    result = ts.coint(data1,data2,autolag='aic')#Johansen test is used to check cointegration \n",
    "    result\n",
    "    labels = [\"t -statistic\",\"#p value\"]\n",
    "    out = pd.Series(result[0:2],index= labels)\n",
    "    \n",
    "    for key,val in dict(zip(['1%','2%','3%'],result[2])).items():\n",
    "        out[f' the critical value {(key)} is : '] = val\n",
    "       \n",
    "   \n",
    "    \n",
    "    print(out.to_string())\n",
    "    print(\"\\n\")\n",
    "    if result[1]<=0.05:\n",
    "        \n",
    "        \n",
    "        print(\"Reject the Null hypothesis\")\n",
    "        print(\"The series are cointegrated  \")\n",
    "        print(\"\\n\")\n",
    "        \n",
    "    if result[1]>0.05:\n",
    "        \n",
    "       \n",
    "        print(\"We Accept the Null hypothesis\")\n",
    "        print(\"There is no cointegration between the series \")\n",
    "        print(\"\\n\")\n",
    "   "
   ]
  },
  {
   "cell_type": "code",
   "execution_count": 240,
   "id": "8831cccc",
   "metadata": {},
   "outputs": [
    {
     "name": "stdout",
     "output_type": "stream",
     "text": [
      "The Johansen cointegration test for MS_EQUITY vs SPX is: \n",
      "t -statistic                   -1.470726\n",
      "#p value                        0.772245\n",
      " the critical value 1% is :    -4.091697\n",
      " the critical value 2% is :    -3.441651\n",
      " the critical value 3% is :    -3.117116\n",
      "\n",
      "\n",
      "We Accept the Null hypothesis\n",
      "There is no cointegration between the series \n",
      "\n",
      "\n"
     ]
    }
   ],
   "source": [
    "cointegration_test(MS_data['MS_EQUITY($ M)'],MS_data['SPX'],'MS_EQUITY vs SPX')"
   ]
  },
  {
   "cell_type": "code",
   "execution_count": 241,
   "id": "43ccce73",
   "metadata": {},
   "outputs": [
    {
     "name": "stdout",
     "output_type": "stream",
     "text": [
      "The Johansen cointegration test for MS_EQUITY vs Trading volume (shares US market) is: \n",
      "t -statistic                   -1.741471\n",
      "#p value                        0.657691\n",
      " the critical value 1% is :    -4.091697\n",
      " the critical value 2% is :    -3.441651\n",
      " the critical value 3% is :    -3.117116\n",
      "\n",
      "\n",
      "We Accept the Null hypothesis\n",
      "There is no cointegration between the series \n",
      "\n",
      "\n"
     ]
    }
   ],
   "source": [
    "cointegration_test(MS_data['MS_EQUITY($ M)'],MS_data['Trading volume (shares US market)'],'MS_EQUITY vs Trading volume (shares US market)')"
   ]
  },
  {
   "cell_type": "code",
   "execution_count": 242,
   "id": "6c3cfafe",
   "metadata": {},
   "outputs": [
    {
     "name": "stdout",
     "output_type": "stream",
     "text": [
      "The Johansen cointegration test for MS_EQUITY vs MS 6M Spread is: \n",
      "t -statistic                    0.052015\n",
      "#p value                        0.987038\n",
      " the critical value 1% is :    -4.091697\n",
      " the critical value 2% is :    -3.441651\n",
      " the critical value 3% is :    -3.117116\n",
      "\n",
      "\n",
      "We Accept the Null hypothesis\n",
      "There is no cointegration between the series \n",
      "\n",
      "\n"
     ]
    }
   ],
   "source": [
    "cointegration_test(MS_data['MS_EQUITY($ M)'],MS_data['MS 6M Spread'],'MS_EQUITY vs MS 6M Spread')"
   ]
  },
  {
   "cell_type": "code",
   "execution_count": 243,
   "id": "5e4480fa",
   "metadata": {},
   "outputs": [
    {
     "name": "stdout",
     "output_type": "stream",
     "text": [
      "The Johansen cointegration test for MS_EQUITY vs MS 1Yr Spread is: \n",
      "t -statistic                    0.053881\n",
      "#p value                        0.987077\n",
      " the critical value 1% is :    -4.091697\n",
      " the critical value 2% is :    -3.441651\n",
      " the critical value 3% is :    -3.117116\n",
      "\n",
      "\n",
      "We Accept the Null hypothesis\n",
      "There is no cointegration between the series \n",
      "\n",
      "\n"
     ]
    }
   ],
   "source": [
    "cointegration_test(MS_data['MS_EQUITY($ M)'],MS_data['MS 1Yr Spread'],'MS_EQUITY vs MS 1Yr Spread')"
   ]
  },
  {
   "cell_type": "code",
   "execution_count": 244,
   "id": "9d2a9661",
   "metadata": {},
   "outputs": [
    {
     "name": "stdout",
     "output_type": "stream",
     "text": [
      "The Johansen cointegration test for MS_EQUITY vs MS 2Yr Spread is: \n",
      "t -statistic                    0.036387\n",
      "#p value                        0.986711\n",
      " the critical value 1% is :    -4.091697\n",
      " the critical value 2% is :    -3.441651\n",
      " the critical value 3% is :    -3.117116\n",
      "\n",
      "\n",
      "We Accept the Null hypothesis\n",
      "There is no cointegration between the series \n",
      "\n",
      "\n"
     ]
    }
   ],
   "source": [
    "cointegration_test(MS_data['MS_EQUITY($ M)'],MS_data['MS 2Yr Spread'],'MS_EQUITY vs MS 2Yr Spread')"
   ]
  },
  {
   "cell_type": "markdown",
   "id": "603bfd37",
   "metadata": {},
   "source": [
    "## Linear Regression\n"
   ]
  },
  {
   "cell_type": "code",
   "execution_count": 245,
   "id": "4fd58993",
   "metadata": {},
   "outputs": [
    {
     "data": {
      "text/plain": [
       "Index(['MS_EQUITY($ M)', 'SPX', 'Trading volume (shares US market)',\n",
       "       'MS 6M Spread', 'MS 1Yr Spread', 'MS 2Yr Spread'],\n",
       "      dtype='object')"
      ]
     },
     "execution_count": 245,
     "metadata": {},
     "output_type": "execute_result"
    }
   ],
   "source": [
    "MS_data.columns"
   ]
  },
  {
   "cell_type": "code",
   "execution_count": 246,
   "id": "3a74c322",
   "metadata": {},
   "outputs": [],
   "source": [
    "X = sm.add_constant(MS_data[['SPX', 'Trading volume (shares US market)','MS 6M Spread']])\n",
    "y = MS_data['MS_EQUITY($ M)']"
   ]
  },
  {
   "cell_type": "code",
   "execution_count": 247,
   "id": "8f33316b",
   "metadata": {},
   "outputs": [],
   "source": [
    "mod_OLS_6M = sm.OLS(y,X)"
   ]
  },
  {
   "cell_type": "code",
   "execution_count": 248,
   "id": "ee6d050d",
   "metadata": {},
   "outputs": [],
   "source": [
    "result_OLS_6M = mod_OLS_6M.fit()"
   ]
  },
  {
   "cell_type": "code",
   "execution_count": 249,
   "id": "29af4ff9",
   "metadata": {},
   "outputs": [
    {
     "data": {
      "text/html": [
       "<table class=\"simpletable\">\n",
       "<caption>OLS Regression Results</caption>\n",
       "<tr>\n",
       "  <th>Dep. Variable:</th>     <td>MS_EQUITY($ M)</td>  <th>  R-squared:         </th> <td>   0.424</td>\n",
       "</tr>\n",
       "<tr>\n",
       "  <th>Model:</th>                   <td>OLS</td>       <th>  Adj. R-squared:    </th> <td>   0.393</td>\n",
       "</tr>\n",
       "<tr>\n",
       "  <th>Method:</th>             <td>Least Squares</td>  <th>  F-statistic:       </th> <td>   13.71</td>\n",
       "</tr>\n",
       "<tr>\n",
       "  <th>Date:</th>             <td>Thu, 15 Dec 2022</td> <th>  Prob (F-statistic):</th> <td>8.07e-07</td>\n",
       "</tr>\n",
       "<tr>\n",
       "  <th>Time:</th>                 <td>16:16:22</td>     <th>  Log-Likelihood:    </th> <td> -483.39</td>\n",
       "</tr>\n",
       "<tr>\n",
       "  <th>No. Observations:</th>      <td>    60</td>      <th>  AIC:               </th> <td>   974.8</td>\n",
       "</tr>\n",
       "<tr>\n",
       "  <th>Df Residuals:</th>          <td>    56</td>      <th>  BIC:               </th> <td>   983.2</td>\n",
       "</tr>\n",
       "<tr>\n",
       "  <th>Df Model:</th>              <td>     3</td>      <th>                     </th>     <td> </td>   \n",
       "</tr>\n",
       "<tr>\n",
       "  <th>Covariance Type:</th>      <td>nonrobust</td>    <th>                     </th>     <td> </td>   \n",
       "</tr>\n",
       "</table>\n",
       "<table class=\"simpletable\">\n",
       "<tr>\n",
       "                  <td></td>                     <th>coef</th>     <th>std err</th>      <th>t</th>      <th>P>|t|</th>  <th>[0.025</th>    <th>0.975]</th>  \n",
       "</tr>\n",
       "<tr>\n",
       "  <th>const</th>                             <td>  442.3449</td> <td>  291.772</td> <td>    1.516</td> <td> 0.135</td> <td> -142.144</td> <td> 1026.834</td>\n",
       "</tr>\n",
       "<tr>\n",
       "  <th>SPX</th>                               <td>    0.8308</td> <td>    0.190</td> <td>    4.366</td> <td> 0.000</td> <td>    0.450</td> <td>    1.212</td>\n",
       "</tr>\n",
       "<tr>\n",
       "  <th>Trading volume (shares US market)</th> <td>-2.324e-07</td> <td> 1.82e-07</td> <td>   -1.274</td> <td> 0.208</td> <td>-5.98e-07</td> <td> 1.33e-07</td>\n",
       "</tr>\n",
       "<tr>\n",
       "  <th>MS 6M Spread</th>                      <td>    1.1415</td> <td>    0.253</td> <td>    4.518</td> <td> 0.000</td> <td>    0.635</td> <td>    1.648</td>\n",
       "</tr>\n",
       "</table>\n",
       "<table class=\"simpletable\">\n",
       "<tr>\n",
       "  <th>Omnibus:</th>       <td>50.500</td> <th>  Durbin-Watson:     </th> <td>   2.677</td> \n",
       "</tr>\n",
       "<tr>\n",
       "  <th>Prob(Omnibus):</th> <td> 0.000</td> <th>  Jarque-Bera (JB):  </th> <td> 761.436</td> \n",
       "</tr>\n",
       "<tr>\n",
       "  <th>Skew:</th>          <td>-1.692</td> <th>  Prob(JB):          </th> <td>4.53e-166</td>\n",
       "</tr>\n",
       "<tr>\n",
       "  <th>Kurtosis:</th>      <td>20.121</td> <th>  Cond. No.          </th> <td>7.39e+09</td> \n",
       "</tr>\n",
       "</table><br/><br/>Notes:<br/>[1] Standard Errors assume that the covariance matrix of the errors is correctly specified.<br/>[2] The condition number is large, 7.39e+09. This might indicate that there are<br/>strong multicollinearity or other numerical problems."
      ],
      "text/plain": [
       "<class 'statsmodels.iolib.summary.Summary'>\n",
       "\"\"\"\n",
       "                            OLS Regression Results                            \n",
       "==============================================================================\n",
       "Dep. Variable:         MS_EQUITY($ M)   R-squared:                       0.424\n",
       "Model:                            OLS   Adj. R-squared:                  0.393\n",
       "Method:                 Least Squares   F-statistic:                     13.71\n",
       "Date:                Thu, 15 Dec 2022   Prob (F-statistic):           8.07e-07\n",
       "Time:                        16:16:22   Log-Likelihood:                -483.39\n",
       "No. Observations:                  60   AIC:                             974.8\n",
       "Df Residuals:                      56   BIC:                             983.2\n",
       "Df Model:                           3                                         \n",
       "Covariance Type:            nonrobust                                         \n",
       "=====================================================================================================\n",
       "                                        coef    std err          t      P>|t|      [0.025      0.975]\n",
       "-----------------------------------------------------------------------------------------------------\n",
       "const                               442.3449    291.772      1.516      0.135    -142.144    1026.834\n",
       "SPX                                   0.8308      0.190      4.366      0.000       0.450       1.212\n",
       "Trading volume (shares US market) -2.324e-07   1.82e-07     -1.274      0.208   -5.98e-07    1.33e-07\n",
       "MS 6M Spread                          1.1415      0.253      4.518      0.000       0.635       1.648\n",
       "==============================================================================\n",
       "Omnibus:                       50.500   Durbin-Watson:                   2.677\n",
       "Prob(Omnibus):                  0.000   Jarque-Bera (JB):              761.436\n",
       "Skew:                          -1.692   Prob(JB):                    4.53e-166\n",
       "Kurtosis:                      20.121   Cond. No.                     7.39e+09\n",
       "==============================================================================\n",
       "\n",
       "Notes:\n",
       "[1] Standard Errors assume that the covariance matrix of the errors is correctly specified.\n",
       "[2] The condition number is large, 7.39e+09. This might indicate that there are\n",
       "strong multicollinearity or other numerical problems.\n",
       "\"\"\""
      ]
     },
     "execution_count": 249,
     "metadata": {},
     "output_type": "execute_result"
    }
   ],
   "source": [
    "result_OLS_6M.summary()"
   ]
  },
  {
   "cell_type": "markdown",
   "id": "d42262b9",
   "metadata": {},
   "source": [
    "### Residual Stationary check"
   ]
  },
  {
   "cell_type": "code",
   "execution_count": 250,
   "id": "d0ec3e6d",
   "metadata": {},
   "outputs": [
    {
     "data": {
      "text/plain": [
       "index\n",
       "Q4 2007    -978.487619\n",
       "Q1 2008     356.157516\n",
       "Q2 2008    -850.484791\n",
       "Q3 2008    3109.062988\n",
       "Q4 2008   -4207.139363\n",
       "dtype: float64"
      ]
     },
     "execution_count": 250,
     "metadata": {},
     "output_type": "execute_result"
    }
   ],
   "source": [
    "residual_6M = result_OLS_6M.resid\n",
    "residual_6M.head()"
   ]
  },
  {
   "cell_type": "code",
   "execution_count": 251,
   "id": "0bdb95e6",
   "metadata": {},
   "outputs": [
    {
     "name": "stdout",
     "output_type": "stream",
     "text": [
      "The Augmented Dickey Fuller Test: residual_6M\n",
      "ADF test Statistic          -1.862419\n",
      "p-value                      0.349942\n",
      "lags used                   11.000000\n",
      "observations                48.000000\n",
      "the critical value (1%)     -3.574589\n",
      "the critical value (5%)     -2.923954\n",
      "the critical value (10%)    -2.600039\n",
      "Accept the null hypothesis\n",
      "The residual_6M series is non-stationary \n"
     ]
    }
   ],
   "source": [
    "ADF(residual_6M,'residual_6M')"
   ]
  },
  {
   "cell_type": "code",
   "execution_count": 252,
   "id": "ffe2bb48",
   "metadata": {},
   "outputs": [
    {
     "data": {
      "text/html": [
       "<table class=\"simpletable\">\n",
       "<caption>OLS Regression Results</caption>\n",
       "<tr>\n",
       "  <th>Dep. Variable:</th>     <td>MS_EQUITY($ M)</td>  <th>  R-squared:         </th> <td>   0.417</td>\n",
       "</tr>\n",
       "<tr>\n",
       "  <th>Model:</th>                   <td>OLS</td>       <th>  Adj. R-squared:    </th> <td>   0.386</td>\n",
       "</tr>\n",
       "<tr>\n",
       "  <th>Method:</th>             <td>Least Squares</td>  <th>  F-statistic:       </th> <td>   13.35</td>\n",
       "</tr>\n",
       "<tr>\n",
       "  <th>Date:</th>             <td>Thu, 15 Dec 2022</td> <th>  Prob (F-statistic):</th> <td>1.10e-06</td>\n",
       "</tr>\n",
       "<tr>\n",
       "  <th>Time:</th>                 <td>16:16:24</td>     <th>  Log-Likelihood:    </th> <td> -483.73</td>\n",
       "</tr>\n",
       "<tr>\n",
       "  <th>No. Observations:</th>      <td>    60</td>      <th>  AIC:               </th> <td>   975.5</td>\n",
       "</tr>\n",
       "<tr>\n",
       "  <th>Df Residuals:</th>          <td>    56</td>      <th>  BIC:               </th> <td>   983.8</td>\n",
       "</tr>\n",
       "<tr>\n",
       "  <th>Df Model:</th>              <td>     3</td>      <th>                     </th>     <td> </td>   \n",
       "</tr>\n",
       "<tr>\n",
       "  <th>Covariance Type:</th>      <td>nonrobust</td>    <th>                     </th>     <td> </td>   \n",
       "</tr>\n",
       "</table>\n",
       "<table class=\"simpletable\">\n",
       "<tr>\n",
       "                  <td></td>                     <th>coef</th>     <th>std err</th>      <th>t</th>      <th>P>|t|</th>  <th>[0.025</th>    <th>0.975]</th>  \n",
       "</tr>\n",
       "<tr>\n",
       "  <th>const</th>                             <td>  349.8918</td> <td>  303.098</td> <td>    1.154</td> <td> 0.253</td> <td> -257.286</td> <td>  957.070</td>\n",
       "</tr>\n",
       "<tr>\n",
       "  <th>SPX</th>                               <td>    0.8651</td> <td>    0.195</td> <td>    4.441</td> <td> 0.000</td> <td>    0.475</td> <td>    1.255</td>\n",
       "</tr>\n",
       "<tr>\n",
       "  <th>Trading volume (shares US market)</th> <td>  -2.5e-07</td> <td> 1.84e-07</td> <td>   -1.355</td> <td> 0.181</td> <td> -6.2e-07</td> <td>  1.2e-07</td>\n",
       "</tr>\n",
       "<tr>\n",
       "  <th>MS 2Yr Spread</th>                     <td>    1.5158</td> <td>    0.343</td> <td>    4.421</td> <td> 0.000</td> <td>    0.829</td> <td>    2.203</td>\n",
       "</tr>\n",
       "</table>\n",
       "<table class=\"simpletable\">\n",
       "<tr>\n",
       "  <th>Omnibus:</th>       <td>48.093</td> <th>  Durbin-Watson:     </th> <td>   2.664</td> \n",
       "</tr>\n",
       "<tr>\n",
       "  <th>Prob(Omnibus):</th> <td> 0.000</td> <th>  Jarque-Bera (JB):  </th> <td> 720.056</td> \n",
       "</tr>\n",
       "<tr>\n",
       "  <th>Skew:</th>          <td>-1.560</td> <th>  Prob(JB):          </th> <td>4.38e-157</td>\n",
       "</tr>\n",
       "<tr>\n",
       "  <th>Kurtosis:</th>      <td>19.682</td> <th>  Cond. No.          </th> <td>7.63e+09</td> \n",
       "</tr>\n",
       "</table><br/><br/>Notes:<br/>[1] Standard Errors assume that the covariance matrix of the errors is correctly specified.<br/>[2] The condition number is large, 7.63e+09. This might indicate that there are<br/>strong multicollinearity or other numerical problems."
      ],
      "text/plain": [
       "<class 'statsmodels.iolib.summary.Summary'>\n",
       "\"\"\"\n",
       "                            OLS Regression Results                            \n",
       "==============================================================================\n",
       "Dep. Variable:         MS_EQUITY($ M)   R-squared:                       0.417\n",
       "Model:                            OLS   Adj. R-squared:                  0.386\n",
       "Method:                 Least Squares   F-statistic:                     13.35\n",
       "Date:                Thu, 15 Dec 2022   Prob (F-statistic):           1.10e-06\n",
       "Time:                        16:16:24   Log-Likelihood:                -483.73\n",
       "No. Observations:                  60   AIC:                             975.5\n",
       "Df Residuals:                      56   BIC:                             983.8\n",
       "Df Model:                           3                                         \n",
       "Covariance Type:            nonrobust                                         \n",
       "=====================================================================================================\n",
       "                                        coef    std err          t      P>|t|      [0.025      0.975]\n",
       "-----------------------------------------------------------------------------------------------------\n",
       "const                               349.8918    303.098      1.154      0.253    -257.286     957.070\n",
       "SPX                                   0.8651      0.195      4.441      0.000       0.475       1.255\n",
       "Trading volume (shares US market)   -2.5e-07   1.84e-07     -1.355      0.181    -6.2e-07     1.2e-07\n",
       "MS 2Yr Spread                         1.5158      0.343      4.421      0.000       0.829       2.203\n",
       "==============================================================================\n",
       "Omnibus:                       48.093   Durbin-Watson:                   2.664\n",
       "Prob(Omnibus):                  0.000   Jarque-Bera (JB):              720.056\n",
       "Skew:                          -1.560   Prob(JB):                    4.38e-157\n",
       "Kurtosis:                      19.682   Cond. No.                     7.63e+09\n",
       "==============================================================================\n",
       "\n",
       "Notes:\n",
       "[1] Standard Errors assume that the covariance matrix of the errors is correctly specified.\n",
       "[2] The condition number is large, 7.63e+09. This might indicate that there are\n",
       "strong multicollinearity or other numerical problems.\n",
       "\"\"\""
      ]
     },
     "execution_count": 252,
     "metadata": {},
     "output_type": "execute_result"
    }
   ],
   "source": [
    "X = sm.add_constant(MS_data[['SPX', 'Trading volume (shares US market)','MS 2Yr Spread']])\n",
    "y = MS_data['MS_EQUITY($ M)']\n",
    "mod_OLS_2Y = sm.OLS(y,X)\n",
    "result_OLS_2Y = mod_OLS_2Y.fit()\n",
    "result_OLS_2Y.summary()"
   ]
  },
  {
   "cell_type": "markdown",
   "id": "cb6fd843",
   "metadata": {},
   "source": [
    "### Residual Stationary check"
   ]
  },
  {
   "cell_type": "code",
   "execution_count": 253,
   "id": "89904327",
   "metadata": {},
   "outputs": [
    {
     "data": {
      "text/plain": [
       "index\n",
       "Q4 2007    -955.818410\n",
       "Q1 2008     401.176267\n",
       "Q2 2008    -807.024783\n",
       "Q3 2008    3164.344239\n",
       "Q4 2008   -4184.888975\n",
       "dtype: float64"
      ]
     },
     "execution_count": 253,
     "metadata": {},
     "output_type": "execute_result"
    }
   ],
   "source": [
    "residual_2Y = result_OLS_2Y.resid\n",
    "residual_2Y.head()"
   ]
  },
  {
   "cell_type": "code",
   "execution_count": 254,
   "id": "3a40763b",
   "metadata": {},
   "outputs": [
    {
     "name": "stdout",
     "output_type": "stream",
     "text": [
      "The Augmented Dickey Fuller Test: residual_2Y\n",
      "ADF test Statistic          -1.772598\n",
      "p-value                      0.394148\n",
      "lags used                   11.000000\n",
      "observations                48.000000\n",
      "the critical value (1%)     -3.574589\n",
      "the critical value (5%)     -2.923954\n",
      "the critical value (10%)    -2.600039\n",
      "Accept the null hypothesis\n",
      "The residual_2Y series is non-stationary \n"
     ]
    }
   ],
   "source": [
    "ADF(residual_2Y,'residual_2Y')"
   ]
  },
  {
   "cell_type": "code",
   "execution_count": 255,
   "id": "1b4214b1",
   "metadata": {},
   "outputs": [
    {
     "data": {
      "text/html": [
       "<table class=\"simpletable\">\n",
       "<caption>OLS Regression Results</caption>\n",
       "<tr>\n",
       "  <th>Dep. Variable:</th>     <td>MS_EQUITY($ M)</td>  <th>  R-squared:         </th> <td>   0.413</td>\n",
       "</tr>\n",
       "<tr>\n",
       "  <th>Model:</th>                   <td>OLS</td>       <th>  Adj. R-squared:    </th> <td>   0.382</td>\n",
       "</tr>\n",
       "<tr>\n",
       "  <th>Method:</th>             <td>Least Squares</td>  <th>  F-statistic:       </th> <td>   13.14</td>\n",
       "</tr>\n",
       "<tr>\n",
       "  <th>Date:</th>             <td>Thu, 15 Dec 2022</td> <th>  Prob (F-statistic):</th> <td>1.32e-06</td>\n",
       "</tr>\n",
       "<tr>\n",
       "  <th>Time:</th>                 <td>16:16:26</td>     <th>  Log-Likelihood:    </th> <td> -483.93</td>\n",
       "</tr>\n",
       "<tr>\n",
       "  <th>No. Observations:</th>      <td>    60</td>      <th>  AIC:               </th> <td>   975.9</td>\n",
       "</tr>\n",
       "<tr>\n",
       "  <th>Df Residuals:</th>          <td>    56</td>      <th>  BIC:               </th> <td>   984.2</td>\n",
       "</tr>\n",
       "<tr>\n",
       "  <th>Df Model:</th>              <td>     3</td>      <th>                     </th>     <td> </td>   \n",
       "</tr>\n",
       "<tr>\n",
       "  <th>Covariance Type:</th>      <td>nonrobust</td>    <th>                     </th>     <td> </td>   \n",
       "</tr>\n",
       "</table>\n",
       "<table class=\"simpletable\">\n",
       "<tr>\n",
       "                  <td></td>                     <th>coef</th>     <th>std err</th>      <th>t</th>      <th>P>|t|</th>  <th>[0.025</th>    <th>0.975]</th>  \n",
       "</tr>\n",
       "<tr>\n",
       "  <th>const</th>                             <td>  422.8624</td> <td>  297.398</td> <td>    1.422</td> <td> 0.161</td> <td> -172.897</td> <td> 1018.622</td>\n",
       "</tr>\n",
       "<tr>\n",
       "  <th>SPX</th>                               <td>    0.8419</td> <td>    0.194</td> <td>    4.348</td> <td> 0.000</td> <td>    0.454</td> <td>    1.230</td>\n",
       "</tr>\n",
       "<tr>\n",
       "  <th>Trading volume (shares US market)</th> <td>-2.412e-07</td> <td> 1.85e-07</td> <td>   -1.305</td> <td> 0.197</td> <td>-6.11e-07</td> <td> 1.29e-07</td>\n",
       "</tr>\n",
       "<tr>\n",
       "  <th>MS 1Yr Spread</th>                     <td>    1.2284</td> <td>    0.281</td> <td>    4.365</td> <td> 0.000</td> <td>    0.665</td> <td>    1.792</td>\n",
       "</tr>\n",
       "</table>\n",
       "<table class=\"simpletable\">\n",
       "<tr>\n",
       "  <th>Omnibus:</th>       <td>50.081</td> <th>  Durbin-Watson:     </th> <td>   2.677</td> \n",
       "</tr>\n",
       "<tr>\n",
       "  <th>Prob(Omnibus):</th> <td> 0.000</td> <th>  Jarque-Bera (JB):  </th> <td> 774.341</td> \n",
       "</tr>\n",
       "<tr>\n",
       "  <th>Skew:</th>          <td>-1.656</td> <th>  Prob(JB):          </th> <td>7.14e-169</td>\n",
       "</tr>\n",
       "<tr>\n",
       "  <th>Kurtosis:</th>      <td>20.285</td> <th>  Cond. No.          </th> <td>7.46e+09</td> \n",
       "</tr>\n",
       "</table><br/><br/>Notes:<br/>[1] Standard Errors assume that the covariance matrix of the errors is correctly specified.<br/>[2] The condition number is large, 7.46e+09. This might indicate that there are<br/>strong multicollinearity or other numerical problems."
      ],
      "text/plain": [
       "<class 'statsmodels.iolib.summary.Summary'>\n",
       "\"\"\"\n",
       "                            OLS Regression Results                            \n",
       "==============================================================================\n",
       "Dep. Variable:         MS_EQUITY($ M)   R-squared:                       0.413\n",
       "Model:                            OLS   Adj. R-squared:                  0.382\n",
       "Method:                 Least Squares   F-statistic:                     13.14\n",
       "Date:                Thu, 15 Dec 2022   Prob (F-statistic):           1.32e-06\n",
       "Time:                        16:16:26   Log-Likelihood:                -483.93\n",
       "No. Observations:                  60   AIC:                             975.9\n",
       "Df Residuals:                      56   BIC:                             984.2\n",
       "Df Model:                           3                                         \n",
       "Covariance Type:            nonrobust                                         \n",
       "=====================================================================================================\n",
       "                                        coef    std err          t      P>|t|      [0.025      0.975]\n",
       "-----------------------------------------------------------------------------------------------------\n",
       "const                               422.8624    297.398      1.422      0.161    -172.897    1018.622\n",
       "SPX                                   0.8419      0.194      4.348      0.000       0.454       1.230\n",
       "Trading volume (shares US market) -2.412e-07   1.85e-07     -1.305      0.197   -6.11e-07    1.29e-07\n",
       "MS 1Yr Spread                         1.2284      0.281      4.365      0.000       0.665       1.792\n",
       "==============================================================================\n",
       "Omnibus:                       50.081   Durbin-Watson:                   2.677\n",
       "Prob(Omnibus):                  0.000   Jarque-Bera (JB):              774.341\n",
       "Skew:                          -1.656   Prob(JB):                    7.14e-169\n",
       "Kurtosis:                      20.285   Cond. No.                     7.46e+09\n",
       "==============================================================================\n",
       "\n",
       "Notes:\n",
       "[1] Standard Errors assume that the covariance matrix of the errors is correctly specified.\n",
       "[2] The condition number is large, 7.46e+09. This might indicate that there are\n",
       "strong multicollinearity or other numerical problems.\n",
       "\"\"\""
      ]
     },
     "execution_count": 255,
     "metadata": {},
     "output_type": "execute_result"
    }
   ],
   "source": [
    "X = sm.add_constant(MS_data[['SPX', 'Trading volume (shares US market)','MS 1Yr Spread']])\n",
    "y = MS_data['MS_EQUITY($ M)']\n",
    "mod_OLS_1Y = sm.OLS(y,X)\n",
    "result_OLS_1Y = mod_OLS_1Y.fit()\n",
    "result_OLS_1Y.summary()"
   ]
  },
  {
   "cell_type": "markdown",
   "id": "13627afa",
   "metadata": {},
   "source": [
    "### Residual Stationary check"
   ]
  },
  {
   "cell_type": "code",
   "execution_count": 256,
   "id": "f9402750",
   "metadata": {},
   "outputs": [
    {
     "data": {
      "text/plain": [
       "index\n",
       "Q4 2007    -937.233879\n",
       "Q1 2008     406.994143\n",
       "Q2 2008    -800.424066\n",
       "Q3 2008    3165.008022\n",
       "Q4 2008   -4245.918638\n",
       "dtype: float64"
      ]
     },
     "execution_count": 256,
     "metadata": {},
     "output_type": "execute_result"
    }
   ],
   "source": [
    "residual_1Y = result_OLS_1Y.resid\n",
    "residual_1Y.head()"
   ]
  },
  {
   "cell_type": "code",
   "execution_count": 257,
   "id": "e1ccdf63",
   "metadata": {},
   "outputs": [
    {
     "name": "stdout",
     "output_type": "stream",
     "text": [
      "The Augmented Dickey Fuller Test: residual_1Y\n",
      "ADF test Statistic          -1.830890\n",
      "p-value                      0.365237\n",
      "lags used                   11.000000\n",
      "observations                48.000000\n",
      "the critical value (1%)     -3.574589\n",
      "the critical value (5%)     -2.923954\n",
      "the critical value (10%)    -2.600039\n",
      "Accept the null hypothesis\n",
      "The residual_1Y series is non-stationary \n"
     ]
    }
   ],
   "source": [
    "ADF(residual_1Y,'residual_1Y')"
   ]
  },
  {
   "cell_type": "markdown",
   "id": "40e8142e",
   "metadata": {},
   "source": [
    "## Regression plot"
   ]
  },
  {
   "cell_type": "code",
   "execution_count": 258,
   "id": "447b0689",
   "metadata": {},
   "outputs": [
    {
     "data": {
      "text/plain": [
       "Index(['MS_EQUITY($ M)', 'SPX', 'Trading volume (shares US market)',\n",
       "       'MS 6M Spread', 'MS 1Yr Spread', 'MS 2Yr Spread'],\n",
       "      dtype='object')"
      ]
     },
     "execution_count": 258,
     "metadata": {},
     "output_type": "execute_result"
    }
   ],
   "source": [
    "MS_data.columns"
   ]
  },
  {
   "cell_type": "code",
   "execution_count": 259,
   "id": "c0a16cc1",
   "metadata": {},
   "outputs": [
    {
     "data": {
      "image/png": "[encoded data removed]",
      "text/plain": [
       "<Figure size 864x288 with 1 Axes>"
      ]
     },
     "metadata": {},
     "output_type": "display_data"
    }
   ],
   "source": [
    "plt.rcParams[\"figure.figsize\"] = [12,4]\n",
    "sns.regplot(x=MS_data['SPX'], y=MS_data['MS_EQUITY($ M)'], data=MS_data);"
   ]
  },
  {
   "cell_type": "code",
   "execution_count": 260,
   "id": "6de76ab5",
   "metadata": {},
   "outputs": [
    {
     "data": {
      "image/png": "[encoded data removed]",
      "text/plain": [
       "<Figure size 864x288 with 1 Axes>"
      ]
     },
     "metadata": {},
     "output_type": "display_data"
    }
   ],
   "source": [
    "plt.rcParams[\"figure.figsize\"] = [12,4]\n",
    "sns.regplot(x=MS_data['Trading volume (shares US market)'], y=MS_data['MS_EQUITY($ M)'], data=MS_data);"
   ]
  },
  {
   "cell_type": "code",
   "execution_count": 261,
   "id": "519c5188",
   "metadata": {},
   "outputs": [
    {
     "data": {
      "image/png": "[encoded data removed]",
      "text/plain": [
       "<Figure size 864x288 with 1 Axes>"
      ]
     },
     "metadata": {},
     "output_type": "display_data"
    }
   ],
   "source": [
    "plt.rcParams[\"figure.figsize\"] = [12,4]\n",
    "sns.regplot(x=MS_data['MS 6M Spread'], y=MS_data['MS_EQUITY($ M)'], data=MS_data);"
   ]
  },
  {
   "cell_type": "code",
   "execution_count": 262,
   "id": "b92435ad",
   "metadata": {},
   "outputs": [
    {
     "data": {
      "image/png": "[encoded data removed]",
      "text/plain": [
       "<Figure size 864x288 with 1 Axes>"
      ]
     },
     "metadata": {},
     "output_type": "display_data"
    }
   ],
   "source": [
    "plt.rcParams[\"figure.figsize\"] = [12,4]\n",
    "sns.regplot(x=MS_data['MS 1Yr Spread'], y=MS_data['MS_EQUITY($ M)'], data=MS_data);"
   ]
  },
  {
   "cell_type": "code",
   "execution_count": 263,
   "id": "7b2bcbb6",
   "metadata": {},
   "outputs": [
    {
     "data": {
      "image/png": "[encoded data removed]",
      "text/plain": [
       "<Figure size 864x288 with 1 Axes>"
      ]
     },
     "metadata": {},
     "output_type": "display_data"
    }
   ],
   "source": [
    "plt.rcParams[\"figure.figsize\"] = [12,4]\n",
    "sns.regplot(x=MS_data['MS 2Yr Spread'], y=MS_data['MS_EQUITY($ M)'], data=MS_data);"
   ]
  },
  {
   "cell_type": "code",
   "execution_count": 264,
   "id": "2a25f877",
   "metadata": {},
   "outputs": [],
   "source": [
    "X = sm.add_constant(MS_data[['SPX', 'Trading volume (shares US market)','MS 1Yr Spread']])\n",
    "y = MS_data['MS_EQUITY($ M)']"
   ]
  },
  {
   "cell_type": "code",
   "execution_count": 265,
   "id": "2120a562",
   "metadata": {},
   "outputs": [
    {
     "data": {
      "text/html": [
       "<table class=\"simpletable\">\n",
       "<caption>OLS Regression Results</caption>\n",
       "<tr>\n",
       "  <th>Dep. Variable:</th>     <td>MS_EQUITY($ M)</td>  <th>  R-squared:         </th> <td>   0.413</td>\n",
       "</tr>\n",
       "<tr>\n",
       "  <th>Model:</th>                   <td>OLS</td>       <th>  Adj. R-squared:    </th> <td>   0.382</td>\n",
       "</tr>\n",
       "<tr>\n",
       "  <th>Method:</th>             <td>Least Squares</td>  <th>  F-statistic:       </th> <td>   13.14</td>\n",
       "</tr>\n",
       "<tr>\n",
       "  <th>Date:</th>             <td>Thu, 15 Dec 2022</td> <th>  Prob (F-statistic):</th> <td>1.32e-06</td>\n",
       "</tr>\n",
       "<tr>\n",
       "  <th>Time:</th>                 <td>16:16:31</td>     <th>  Log-Likelihood:    </th> <td> -483.93</td>\n",
       "</tr>\n",
       "<tr>\n",
       "  <th>No. Observations:</th>      <td>    60</td>      <th>  AIC:               </th> <td>   975.9</td>\n",
       "</tr>\n",
       "<tr>\n",
       "  <th>Df Residuals:</th>          <td>    56</td>      <th>  BIC:               </th> <td>   984.2</td>\n",
       "</tr>\n",
       "<tr>\n",
       "  <th>Df Model:</th>              <td>     3</td>      <th>                     </th>     <td> </td>   \n",
       "</tr>\n",
       "<tr>\n",
       "  <th>Covariance Type:</th>      <td>nonrobust</td>    <th>                     </th>     <td> </td>   \n",
       "</tr>\n",
       "</table>\n",
       "<table class=\"simpletable\">\n",
       "<tr>\n",
       "                  <td></td>                     <th>coef</th>     <th>std err</th>      <th>t</th>      <th>P>|t|</th>  <th>[0.025</th>    <th>0.975]</th>  \n",
       "</tr>\n",
       "<tr>\n",
       "  <th>const</th>                             <td>  422.8624</td> <td>  297.398</td> <td>    1.422</td> <td> 0.161</td> <td> -172.897</td> <td> 1018.622</td>\n",
       "</tr>\n",
       "<tr>\n",
       "  <th>SPX</th>                               <td>    0.8419</td> <td>    0.194</td> <td>    4.348</td> <td> 0.000</td> <td>    0.454</td> <td>    1.230</td>\n",
       "</tr>\n",
       "<tr>\n",
       "  <th>Trading volume (shares US market)</th> <td>-2.412e-07</td> <td> 1.85e-07</td> <td>   -1.305</td> <td> 0.197</td> <td>-6.11e-07</td> <td> 1.29e-07</td>\n",
       "</tr>\n",
       "<tr>\n",
       "  <th>MS 1Yr Spread</th>                     <td>    1.2284</td> <td>    0.281</td> <td>    4.365</td> <td> 0.000</td> <td>    0.665</td> <td>    1.792</td>\n",
       "</tr>\n",
       "</table>\n",
       "<table class=\"simpletable\">\n",
       "<tr>\n",
       "  <th>Omnibus:</th>       <td>50.081</td> <th>  Durbin-Watson:     </th> <td>   2.677</td> \n",
       "</tr>\n",
       "<tr>\n",
       "  <th>Prob(Omnibus):</th> <td> 0.000</td> <th>  Jarque-Bera (JB):  </th> <td> 774.341</td> \n",
       "</tr>\n",
       "<tr>\n",
       "  <th>Skew:</th>          <td>-1.656</td> <th>  Prob(JB):          </th> <td>7.14e-169</td>\n",
       "</tr>\n",
       "<tr>\n",
       "  <th>Kurtosis:</th>      <td>20.285</td> <th>  Cond. No.          </th> <td>7.46e+09</td> \n",
       "</tr>\n",
       "</table><br/><br/>Notes:<br/>[1] Standard Errors assume that the covariance matrix of the errors is correctly specified.<br/>[2] The condition number is large, 7.46e+09. This might indicate that there are<br/>strong multicollinearity or other numerical problems."
      ],
      "text/plain": [
       "<class 'statsmodels.iolib.summary.Summary'>\n",
       "\"\"\"\n",
       "                            OLS Regression Results                            \n",
       "==============================================================================\n",
       "Dep. Variable:         MS_EQUITY($ M)   R-squared:                       0.413\n",
       "Model:                            OLS   Adj. R-squared:                  0.382\n",
       "Method:                 Least Squares   F-statistic:                     13.14\n",
       "Date:                Thu, 15 Dec 2022   Prob (F-statistic):           1.32e-06\n",
       "Time:                        16:16:31   Log-Likelihood:                -483.93\n",
       "No. Observations:                  60   AIC:                             975.9\n",
       "Df Residuals:                      56   BIC:                             984.2\n",
       "Df Model:                           3                                         \n",
       "Covariance Type:            nonrobust                                         \n",
       "=====================================================================================================\n",
       "                                        coef    std err          t      P>|t|      [0.025      0.975]\n",
       "-----------------------------------------------------------------------------------------------------\n",
       "const                               422.8624    297.398      1.422      0.161    -172.897    1018.622\n",
       "SPX                                   0.8419      0.194      4.348      0.000       0.454       1.230\n",
       "Trading volume (shares US market) -2.412e-07   1.85e-07     -1.305      0.197   -6.11e-07    1.29e-07\n",
       "MS 1Yr Spread                         1.2284      0.281      4.365      0.000       0.665       1.792\n",
       "==============================================================================\n",
       "Omnibus:                       50.081   Durbin-Watson:                   2.677\n",
       "Prob(Omnibus):                  0.000   Jarque-Bera (JB):              774.341\n",
       "Skew:                          -1.656   Prob(JB):                    7.14e-169\n",
       "Kurtosis:                      20.285   Cond. No.                     7.46e+09\n",
       "==============================================================================\n",
       "\n",
       "Notes:\n",
       "[1] Standard Errors assume that the covariance matrix of the errors is correctly specified.\n",
       "[2] The condition number is large, 7.46e+09. This might indicate that there are\n",
       "strong multicollinearity or other numerical problems.\n",
       "\"\"\""
      ]
     },
     "execution_count": 265,
     "metadata": {},
     "output_type": "execute_result"
    }
   ],
   "source": [
    "mod_OLS_1Y = sm.OLS(y,X)\n",
    "result_OLS_1Y = mod_OLS_1Y.fit()\n",
    "result_OLS_1Y.summary()"
   ]
  },
  {
   "cell_type": "code",
   "execution_count": null,
   "id": "95b15caa",
   "metadata": {},
   "outputs": [],
   "source": []
  },
  {
   "cell_type": "code",
   "execution_count": 266,
   "id": "a25bcbd0",
   "metadata": {},
   "outputs": [],
   "source": [
    "X = sm.add_constant(MS_data[['SPX', 'Trading volume (shares US market)','MS 2Yr Spread']])\n",
    "y = MS_data['MS_EQUITY($ M)']"
   ]
  },
  {
   "cell_type": "code",
   "execution_count": 267,
   "id": "e54ea30b",
   "metadata": {},
   "outputs": [
    {
     "data": {
      "text/html": [
       "<table class=\"simpletable\">\n",
       "<caption>OLS Regression Results</caption>\n",
       "<tr>\n",
       "  <th>Dep. Variable:</th>     <td>MS_EQUITY($ M)</td>  <th>  R-squared:         </th> <td>   0.417</td>\n",
       "</tr>\n",
       "<tr>\n",
       "  <th>Model:</th>                   <td>OLS</td>       <th>  Adj. R-squared:    </th> <td>   0.386</td>\n",
       "</tr>\n",
       "<tr>\n",
       "  <th>Method:</th>             <td>Least Squares</td>  <th>  F-statistic:       </th> <td>   13.35</td>\n",
       "</tr>\n",
       "<tr>\n",
       "  <th>Date:</th>             <td>Thu, 15 Dec 2022</td> <th>  Prob (F-statistic):</th> <td>1.10e-06</td>\n",
       "</tr>\n",
       "<tr>\n",
       "  <th>Time:</th>                 <td>16:16:37</td>     <th>  Log-Likelihood:    </th> <td> -483.73</td>\n",
       "</tr>\n",
       "<tr>\n",
       "  <th>No. Observations:</th>      <td>    60</td>      <th>  AIC:               </th> <td>   975.5</td>\n",
       "</tr>\n",
       "<tr>\n",
       "  <th>Df Residuals:</th>          <td>    56</td>      <th>  BIC:               </th> <td>   983.8</td>\n",
       "</tr>\n",
       "<tr>\n",
       "  <th>Df Model:</th>              <td>     3</td>      <th>                     </th>     <td> </td>   \n",
       "</tr>\n",
       "<tr>\n",
       "  <th>Covariance Type:</th>      <td>nonrobust</td>    <th>                     </th>     <td> </td>   \n",
       "</tr>\n",
       "</table>\n",
       "<table class=\"simpletable\">\n",
       "<tr>\n",
       "                  <td></td>                     <th>coef</th>     <th>std err</th>      <th>t</th>      <th>P>|t|</th>  <th>[0.025</th>    <th>0.975]</th>  \n",
       "</tr>\n",
       "<tr>\n",
       "  <th>const</th>                             <td>  349.8918</td> <td>  303.098</td> <td>    1.154</td> <td> 0.253</td> <td> -257.286</td> <td>  957.070</td>\n",
       "</tr>\n",
       "<tr>\n",
       "  <th>SPX</th>                               <td>    0.8651</td> <td>    0.195</td> <td>    4.441</td> <td> 0.000</td> <td>    0.475</td> <td>    1.255</td>\n",
       "</tr>\n",
       "<tr>\n",
       "  <th>Trading volume (shares US market)</th> <td>  -2.5e-07</td> <td> 1.84e-07</td> <td>   -1.355</td> <td> 0.181</td> <td> -6.2e-07</td> <td>  1.2e-07</td>\n",
       "</tr>\n",
       "<tr>\n",
       "  <th>MS 2Yr Spread</th>                     <td>    1.5158</td> <td>    0.343</td> <td>    4.421</td> <td> 0.000</td> <td>    0.829</td> <td>    2.203</td>\n",
       "</tr>\n",
       "</table>\n",
       "<table class=\"simpletable\">\n",
       "<tr>\n",
       "  <th>Omnibus:</th>       <td>48.093</td> <th>  Durbin-Watson:     </th> <td>   2.664</td> \n",
       "</tr>\n",
       "<tr>\n",
       "  <th>Prob(Omnibus):</th> <td> 0.000</td> <th>  Jarque-Bera (JB):  </th> <td> 720.056</td> \n",
       "</tr>\n",
       "<tr>\n",
       "  <th>Skew:</th>          <td>-1.560</td> <th>  Prob(JB):          </th> <td>4.38e-157</td>\n",
       "</tr>\n",
       "<tr>\n",
       "  <th>Kurtosis:</th>      <td>19.682</td> <th>  Cond. No.          </th> <td>7.63e+09</td> \n",
       "</tr>\n",
       "</table><br/><br/>Notes:<br/>[1] Standard Errors assume that the covariance matrix of the errors is correctly specified.<br/>[2] The condition number is large, 7.63e+09. This might indicate that there are<br/>strong multicollinearity or other numerical problems."
      ],
      "text/plain": [
       "<class 'statsmodels.iolib.summary.Summary'>\n",
       "\"\"\"\n",
       "                            OLS Regression Results                            \n",
       "==============================================================================\n",
       "Dep. Variable:         MS_EQUITY($ M)   R-squared:                       0.417\n",
       "Model:                            OLS   Adj. R-squared:                  0.386\n",
       "Method:                 Least Squares   F-statistic:                     13.35\n",
       "Date:                Thu, 15 Dec 2022   Prob (F-statistic):           1.10e-06\n",
       "Time:                        16:16:37   Log-Likelihood:                -483.73\n",
       "No. Observations:                  60   AIC:                             975.5\n",
       "Df Residuals:                      56   BIC:                             983.8\n",
       "Df Model:                           3                                         \n",
       "Covariance Type:            nonrobust                                         \n",
       "=====================================================================================================\n",
       "                                        coef    std err          t      P>|t|      [0.025      0.975]\n",
       "-----------------------------------------------------------------------------------------------------\n",
       "const                               349.8918    303.098      1.154      0.253    -257.286     957.070\n",
       "SPX                                   0.8651      0.195      4.441      0.000       0.475       1.255\n",
       "Trading volume (shares US market)   -2.5e-07   1.84e-07     -1.355      0.181    -6.2e-07     1.2e-07\n",
       "MS 2Yr Spread                         1.5158      0.343      4.421      0.000       0.829       2.203\n",
       "==============================================================================\n",
       "Omnibus:                       48.093   Durbin-Watson:                   2.664\n",
       "Prob(Omnibus):                  0.000   Jarque-Bera (JB):              720.056\n",
       "Skew:                          -1.560   Prob(JB):                    4.38e-157\n",
       "Kurtosis:                      19.682   Cond. No.                     7.63e+09\n",
       "==============================================================================\n",
       "\n",
       "Notes:\n",
       "[1] Standard Errors assume that the covariance matrix of the errors is correctly specified.\n",
       "[2] The condition number is large, 7.63e+09. This might indicate that there are\n",
       "strong multicollinearity or other numerical problems.\n",
       "\"\"\""
      ]
     },
     "execution_count": 267,
     "metadata": {},
     "output_type": "execute_result"
    }
   ],
   "source": [
    "mod_OLS_2Y = sm.OLS(y,X)\n",
    "result_OLS_2Y = mod_OLS_2Y.fit()\n",
    "result_OLS_2Y.summary()"
   ]
  },
  {
   "cell_type": "markdown",
   "id": "65a5c3cc",
   "metadata": {},
   "source": [
    "### Hetroscedasticity - Test"
   ]
  },
  {
   "cell_type": "code",
   "execution_count": 268,
   "id": "6a53561a",
   "metadata": {},
   "outputs": [
    {
     "data": {
      "text/plain": [
       "[('Lagrange multiplier statistic', 12.50554436463134),\n",
       " ('p-value', 0.005837585325781763),\n",
       " ('f-value', 4.91503323949979),\n",
       " ('f p-value', 0.004218146666469097)]"
      ]
     },
     "execution_count": 268,
     "metadata": {},
     "output_type": "execute_result"
    }
   ],
   "source": [
    "names = ['Lagrange multiplier statistic', 'p-value',\n",
    "         'f-value', 'f p-value']\n",
    "test_result = sms.het_breuschpagan(result_OLS_6M.resid, result_OLS_6M.model.exog)\n",
    " \n",
    "lzip(names, test_result)"
   ]
  },
  {
   "cell_type": "code",
   "execution_count": 269,
   "id": "3c1bd719",
   "metadata": {},
   "outputs": [
    {
     "data": {
      "text/plain": [
       "[('Lagrange multiplier statistic', 12.790948582733538),\n",
       " ('p-value', 0.0051112090277717894),\n",
       " ('f-value', 5.057597354244501),\n",
       " ('f p-value', 0.003597889822700616)]"
      ]
     },
     "execution_count": 269,
     "metadata": {},
     "output_type": "execute_result"
    }
   ],
   "source": [
    "names = ['Lagrange multiplier statistic', 'p-value',\n",
    "         'f-value', 'f p-value']\n",
    "test_result = sms.het_breuschpagan(result_OLS_1Y.resid, result_OLS_1Y.model.exog)\n",
    " \n",
    "lzip(names, test_result)"
   ]
  },
  {
   "cell_type": "code",
   "execution_count": 270,
   "id": "ca2583ba",
   "metadata": {},
   "outputs": [
    {
     "data": {
      "text/plain": [
       "[('Lagrange multiplier statistic', 12.398243992512015),\n",
       " ('p-value', 0.0061363146948482305),\n",
       " ('f-value', 4.86187710856336),\n",
       " ('f p-value', 0.004476670349517507)]"
      ]
     },
     "execution_count": 270,
     "metadata": {},
     "output_type": "execute_result"
    }
   ],
   "source": [
    "names = ['Lagrange multiplier statistic', 'p-value',\n",
    "         'f-value', 'f p-value']\n",
    "test_result = sms.het_breuschpagan(result_OLS_2Y.resid, result_OLS_2Y.model.exog)\n",
    " \n",
    "lzip(names, test_result)"
   ]
  },
  {
   "cell_type": "markdown",
   "id": "942bb4c4",
   "metadata": {},
   "source": [
    "## Multicollinearity Test"
   ]
  },
  {
   "cell_type": "code",
   "execution_count": 271,
   "id": "9ff4cd8e",
   "metadata": {},
   "outputs": [],
   "source": [
    "vif_data= MS_data[['SPX', 'Trading volume (shares US market)', 'MS 6M Spread',\n",
    "       'MS 1Yr Spread', 'MS 2Yr Spread']]"
   ]
  },
  {
   "cell_type": "code",
   "execution_count": 272,
   "id": "701ba160",
   "metadata": {},
   "outputs": [
    {
     "data": {
      "text/html": [
       "<div>\n",
       "<style scoped>\n",
       "    .dataframe tbody tr th:only-of-type {\n",
       "        vertical-align: middle;\n",
       "    }\n",
       "\n",
       "    .dataframe tbody tr th {\n",
       "        vertical-align: top;\n",
       "    }\n",
       "\n",
       "    .dataframe thead th {\n",
       "        text-align: right;\n",
       "    }\n",
       "</style>\n",
       "<table border=\"1\" class=\"dataframe\">\n",
       "  <thead>\n",
       "    <tr style=\"text-align: right;\">\n",
       "      <th></th>\n",
       "      <th>features</th>\n",
       "      <th>VIF</th>\n",
       "    </tr>\n",
       "  </thead>\n",
       "  <tbody>\n",
       "    <tr>\n",
       "      <th>0</th>\n",
       "      <td>SPX</td>\n",
       "      <td>22.724914</td>\n",
       "    </tr>\n",
       "    <tr>\n",
       "      <th>1</th>\n",
       "      <td>Trading volume (shares US market)</td>\n",
       "      <td>27.527045</td>\n",
       "    </tr>\n",
       "    <tr>\n",
       "      <th>2</th>\n",
       "      <td>MS 6M Spread</td>\n",
       "      <td>1666.600115</td>\n",
       "    </tr>\n",
       "    <tr>\n",
       "      <th>3</th>\n",
       "      <td>MS 1Yr Spread</td>\n",
       "      <td>3378.203318</td>\n",
       "    </tr>\n",
       "    <tr>\n",
       "      <th>4</th>\n",
       "      <td>MS 2Yr Spread</td>\n",
       "      <td>506.511639</td>\n",
       "    </tr>\n",
       "  </tbody>\n",
       "</table>\n",
       "</div>"
      ],
      "text/plain": [
       "                            features          VIF\n",
       "0                                SPX    22.724914\n",
       "1  Trading volume (shares US market)    27.527045\n",
       "2                       MS 6M Spread  1666.600115\n",
       "3                      MS 1Yr Spread  3378.203318\n",
       "4                      MS 2Yr Spread   506.511639"
      ]
     },
     "execution_count": 272,
     "metadata": {},
     "output_type": "execute_result"
    }
   ],
   "source": [
    "\n",
    "vif = pd.DataFrame()\n",
    "\n",
    "vif[\"features\"] = vif_data.columns\n",
    "vif[\"VIF\"] = [variance_inflation_factor(vif_data.values,i) for i in range(len(vif_data.columns))]\n",
    "vif"
   ]
  },
  {
   "cell_type": "code",
   "execution_count": 273,
   "id": "8fe0bf98",
   "metadata": {},
   "outputs": [
    {
     "data": {
      "text/html": [
       "<div>\n",
       "<style scoped>\n",
       "    .dataframe tbody tr th:only-of-type {\n",
       "        vertical-align: middle;\n",
       "    }\n",
       "\n",
       "    .dataframe tbody tr th {\n",
       "        vertical-align: top;\n",
       "    }\n",
       "\n",
       "    .dataframe thead th {\n",
       "        text-align: right;\n",
       "    }\n",
       "</style>\n",
       "<table border=\"1\" class=\"dataframe\">\n",
       "  <thead>\n",
       "    <tr style=\"text-align: right;\">\n",
       "      <th></th>\n",
       "      <th>features</th>\n",
       "      <th>VIF</th>\n",
       "    </tr>\n",
       "  </thead>\n",
       "  <tbody>\n",
       "    <tr>\n",
       "      <th>0</th>\n",
       "      <td>SPX</td>\n",
       "      <td>18.689644</td>\n",
       "    </tr>\n",
       "    <tr>\n",
       "      <th>1</th>\n",
       "      <td>Trading volume (shares US market)</td>\n",
       "      <td>19.565148</td>\n",
       "    </tr>\n",
       "    <tr>\n",
       "      <th>2</th>\n",
       "      <td>MS 6M Spread</td>\n",
       "      <td>1.213911</td>\n",
       "    </tr>\n",
       "  </tbody>\n",
       "</table>\n",
       "</div>"
      ],
      "text/plain": [
       "                            features        VIF\n",
       "0                                SPX  18.689644\n",
       "1  Trading volume (shares US market)  19.565148\n",
       "2                       MS 6M Spread   1.213911"
      ]
     },
     "execution_count": 273,
     "metadata": {},
     "output_type": "execute_result"
    }
   ],
   "source": [
    "vif_data_6M = MS_data[['SPX', 'Trading volume (shares US market)', 'MS 6M Spread']]\n",
    "vif_6M = pd.DataFrame()\n",
    "\n",
    "vif_6M[\"features\"] = vif_data_6M.columns\n",
    "vif_6M[\"VIF\"] = [variance_inflation_factor(vif_data_6M.values,i) for i in range(len(vif_data_6M.columns))]\n",
    "vif_6M"
   ]
  },
  {
   "cell_type": "code",
   "execution_count": 274,
   "id": "21e74493",
   "metadata": {},
   "outputs": [
    {
     "data": {
      "text/html": [
       "<div>\n",
       "<style scoped>\n",
       "    .dataframe tbody tr th:only-of-type {\n",
       "        vertical-align: middle;\n",
       "    }\n",
       "\n",
       "    .dataframe tbody tr th {\n",
       "        vertical-align: top;\n",
       "    }\n",
       "\n",
       "    .dataframe thead th {\n",
       "        text-align: right;\n",
       "    }\n",
       "</style>\n",
       "<table border=\"1\" class=\"dataframe\">\n",
       "  <thead>\n",
       "    <tr style=\"text-align: right;\">\n",
       "      <th></th>\n",
       "      <th>features</th>\n",
       "      <th>VIF</th>\n",
       "    </tr>\n",
       "  </thead>\n",
       "  <tbody>\n",
       "    <tr>\n",
       "      <th>0</th>\n",
       "      <td>SPX</td>\n",
       "      <td>18.859178</td>\n",
       "    </tr>\n",
       "    <tr>\n",
       "      <th>1</th>\n",
       "      <td>Trading volume (shares US market)</td>\n",
       "      <td>19.884584</td>\n",
       "    </tr>\n",
       "    <tr>\n",
       "      <th>2</th>\n",
       "      <td>MS 1Yr Spread</td>\n",
       "      <td>1.249216</td>\n",
       "    </tr>\n",
       "  </tbody>\n",
       "</table>\n",
       "</div>"
      ],
      "text/plain": [
       "                            features        VIF\n",
       "0                                SPX  18.859178\n",
       "1  Trading volume (shares US market)  19.884584\n",
       "2                      MS 1Yr Spread   1.249216"
      ]
     },
     "execution_count": 274,
     "metadata": {},
     "output_type": "execute_result"
    }
   ],
   "source": [
    "vif_data_1Y = MS_data[['SPX', 'Trading volume (shares US market)', 'MS 1Yr Spread']]\n",
    "vif_1Y = pd.DataFrame()\n",
    "\n",
    "vif_1Y[\"features\"] = vif_data_1Y.columns\n",
    "vif_1Y[\"VIF\"] = [variance_inflation_factor(vif_data_1Y.values,i) for i in range(len(vif_data_1Y.columns))]\n",
    "vif_1Y"
   ]
  },
  {
   "cell_type": "code",
   "execution_count": 275,
   "id": "ed476b79",
   "metadata": {},
   "outputs": [
    {
     "data": {
      "text/html": [
       "<div>\n",
       "<style scoped>\n",
       "    .dataframe tbody tr th:only-of-type {\n",
       "        vertical-align: middle;\n",
       "    }\n",
       "\n",
       "    .dataframe tbody tr th {\n",
       "        vertical-align: top;\n",
       "    }\n",
       "\n",
       "    .dataframe thead th {\n",
       "        text-align: right;\n",
       "    }\n",
       "</style>\n",
       "<table border=\"1\" class=\"dataframe\">\n",
       "  <thead>\n",
       "    <tr style=\"text-align: right;\">\n",
       "      <th></th>\n",
       "      <th>features</th>\n",
       "      <th>VIF</th>\n",
       "    </tr>\n",
       "  </thead>\n",
       "  <tbody>\n",
       "    <tr>\n",
       "      <th>0</th>\n",
       "      <td>SPX</td>\n",
       "      <td>18.955225</td>\n",
       "    </tr>\n",
       "    <tr>\n",
       "      <th>1</th>\n",
       "      <td>Trading volume (shares US market)</td>\n",
       "      <td>20.205750</td>\n",
       "    </tr>\n",
       "    <tr>\n",
       "      <th>2</th>\n",
       "      <td>MS 2Yr Spread</td>\n",
       "      <td>1.302842</td>\n",
       "    </tr>\n",
       "  </tbody>\n",
       "</table>\n",
       "</div>"
      ],
      "text/plain": [
       "                            features        VIF\n",
       "0                                SPX  18.955225\n",
       "1  Trading volume (shares US market)  20.205750\n",
       "2                      MS 2Yr Spread   1.302842"
      ]
     },
     "execution_count": 275,
     "metadata": {},
     "output_type": "execute_result"
    }
   ],
   "source": [
    "vif_data_2Y = MS_data[['SPX', 'Trading volume (shares US market)', 'MS 2Yr Spread']]\n",
    "vif_2Y = pd.DataFrame()\n",
    "\n",
    "vif_2Y[\"features\"] = vif_data_2Y.columns\n",
    "vif_2Y[\"VIF\"] = [variance_inflation_factor(vif_data_2Y.values,i) for i in range(len(vif_data_2Y.columns))]\n",
    "vif_2Y"
   ]
  },
  {
   "cell_type": "code",
   "execution_count": 276,
   "id": "77188fc4",
   "metadata": {},
   "outputs": [
    {
     "data": {
      "text/plain": [
       "5"
      ]
     },
     "execution_count": 276,
     "metadata": {},
     "output_type": "execute_result"
    }
   ],
   "source": [
    "len(vif_data.columns)"
   ]
  },
  {
   "cell_type": "markdown",
   "id": "5fde5af3",
   "metadata": {},
   "source": [
    "## ARDL"
   ]
  },
  {
   "cell_type": "code",
   "execution_count": 277,
   "id": "9cfbd4f9",
   "metadata": {},
   "outputs": [],
   "source": [
    "MS_ardl  = ARDL(endog=MS_data['MS_EQUITY($ M)'],lags=1,exog = MS_data[['SPX', 'Trading volume (shares US market)','MS 6M Spread']],order=2).fit()"
   ]
  },
  {
   "cell_type": "code",
   "execution_count": 278,
   "id": "afe9c30d",
   "metadata": {},
   "outputs": [
    {
     "data": {
      "text/plain": [
       "Index(['MS_EQUITY($ M)', 'SPX', 'Trading volume (shares US market)',\n",
       "       'MS 6M Spread', 'MS 1Yr Spread', 'MS 2Yr Spread'],\n",
       "      dtype='object')"
      ]
     },
     "execution_count": 278,
     "metadata": {},
     "output_type": "execute_result"
    }
   ],
   "source": [
    "MS_data.columns"
   ]
  },
  {
   "cell_type": "code",
   "execution_count": 279,
   "id": "6d46c035",
   "metadata": {},
   "outputs": [
    {
     "data": {
      "text/html": [
       "<table class=\"simpletable\">\n",
       "<caption>ARDL Model Results</caption>\n",
       "<tr>\n",
       "  <th>Dep. Variable:</th>  <td>MS_EQUITY($ M)</td>  <th>  No. Observations:  </th>    <td>60</td>   \n",
       "</tr>\n",
       "<tr>\n",
       "  <th>Model:</th>         <td>ARDL(1, 2, 2, 2)</td> <th>  Log Likelihood     </th> <td>-447.775</td>\n",
       "</tr>\n",
       "<tr>\n",
       "  <th>Method:</th>         <td>Conditional MLE</td> <th>  S.D. of innovations</th>  <td>478.408</td>\n",
       "</tr>\n",
       "<tr>\n",
       "  <th>Date:</th>          <td>Thu, 15 Dec 2022</td> <th>  AIC                </th>  <td>919.550</td>\n",
       "</tr>\n",
       "<tr>\n",
       "  <th>Time:</th>              <td>16:16:42</td>     <th>  BIC                </th>  <td>944.480</td>\n",
       "</tr>\n",
       "<tr>\n",
       "  <th>Sample:</th>                <td>2</td>        <th>  HQIC               </th>  <td>929.281</td>\n",
       "</tr>\n",
       "<tr>\n",
       "  <th></th>                      <td>60</td>        <th>                     </th>     <td> </td>   \n",
       "</tr>\n",
       "</table>\n",
       "<table class=\"simpletable\">\n",
       "<tr>\n",
       "                    <td></td>                      <th>coef</th>     <th>std err</th>      <th>z</th>      <th>P>|z|</th>  <th>[0.025</th>    <th>0.975]</th>  \n",
       "</tr>\n",
       "<tr>\n",
       "  <th>const</th>                                <td>  895.9262</td> <td>  241.827</td> <td>    3.705</td> <td> 0.001</td> <td>  409.700</td> <td> 1382.153</td>\n",
       "</tr>\n",
       "<tr>\n",
       "  <th>MS_EQUITY($ M).L1</th>                    <td>   -0.3663</td> <td>    0.156</td> <td>   -2.347</td> <td> 0.023</td> <td>   -0.680</td> <td>   -0.052</td>\n",
       "</tr>\n",
       "<tr>\n",
       "  <th>SPX.L0</th>                               <td>    0.6731</td> <td>    0.546</td> <td>    1.232</td> <td> 0.224</td> <td>   -0.425</td> <td>    1.771</td>\n",
       "</tr>\n",
       "<tr>\n",
       "  <th>SPX.L1</th>                               <td>    0.7240</td> <td>    0.846</td> <td>    0.856</td> <td> 0.396</td> <td>   -0.977</td> <td>    2.425</td>\n",
       "</tr>\n",
       "<tr>\n",
       "  <th>SPX.L2</th>                               <td>   -0.5936</td> <td>    0.560</td> <td>   -1.060</td> <td> 0.294</td> <td>   -1.720</td> <td>    0.532</td>\n",
       "</tr>\n",
       "<tr>\n",
       "  <th>Trading volume (shares US market).L0</th> <td> 2.881e-08</td> <td>    2e-07</td> <td>    0.144</td> <td> 0.886</td> <td>-3.72e-07</td> <td>  4.3e-07</td>\n",
       "</tr>\n",
       "<tr>\n",
       "  <th>Trading volume (shares US market).L1</th> <td> -2.19e-07</td> <td> 2.36e-07</td> <td>   -0.928</td> <td> 0.358</td> <td>-6.93e-07</td> <td> 2.56e-07</td>\n",
       "</tr>\n",
       "<tr>\n",
       "  <th>Trading volume (shares US market).L2</th> <td> 9.297e-08</td> <td> 1.98e-07</td> <td>    0.469</td> <td> 0.641</td> <td>-3.05e-07</td> <td> 4.91e-07</td>\n",
       "</tr>\n",
       "<tr>\n",
       "  <th>MS 6M Spread.L0</th>                      <td>    4.1030</td> <td>    0.580</td> <td>    7.070</td> <td> 0.000</td> <td>    2.936</td> <td>    5.270</td>\n",
       "</tr>\n",
       "<tr>\n",
       "  <th>MS 6M Spread.L1</th>                      <td>   -0.8351</td> <td>    1.136</td> <td>   -0.735</td> <td> 0.466</td> <td>   -3.119</td> <td>    1.449</td>\n",
       "</tr>\n",
       "<tr>\n",
       "  <th>MS 6M Spread.L2</th>                      <td>   -1.5298</td> <td>    0.694</td> <td>   -2.205</td> <td> 0.032</td> <td>   -2.925</td> <td>   -0.135</td>\n",
       "</tr>\n",
       "</table>"
      ],
      "text/plain": [
       "<class 'statsmodels.iolib.summary.Summary'>\n",
       "\"\"\"\n",
       "                              ARDL Model Results                              \n",
       "==============================================================================\n",
       "Dep. Variable:         MS_EQUITY($ M)   No. Observations:                   60\n",
       "Model:               ARDL(1, 2, 2, 2)   Log Likelihood                -447.775\n",
       "Method:               Conditional MLE   S.D. of innovations            478.408\n",
       "Date:                Thu, 15 Dec 2022   AIC                            919.550\n",
       "Time:                        16:16:42   BIC                            944.480\n",
       "Sample:                             2   HQIC                           929.281\n",
       "                                   60                                         \n",
       "========================================================================================================\n",
       "                                           coef    std err          z      P>|z|      [0.025      0.975]\n",
       "--------------------------------------------------------------------------------------------------------\n",
       "const                                  895.9262    241.827      3.705      0.001     409.700    1382.153\n",
       "MS_EQUITY($ M).L1                       -0.3663      0.156     -2.347      0.023      -0.680      -0.052\n",
       "SPX.L0                                   0.6731      0.546      1.232      0.224      -0.425       1.771\n",
       "SPX.L1                                   0.7240      0.846      0.856      0.396      -0.977       2.425\n",
       "SPX.L2                                  -0.5936      0.560     -1.060      0.294      -1.720       0.532\n",
       "Trading volume (shares US market).L0  2.881e-08      2e-07      0.144      0.886   -3.72e-07     4.3e-07\n",
       "Trading volume (shares US market).L1  -2.19e-07   2.36e-07     -0.928      0.358   -6.93e-07    2.56e-07\n",
       "Trading volume (shares US market).L2  9.297e-08   1.98e-07      0.469      0.641   -3.05e-07    4.91e-07\n",
       "MS 6M Spread.L0                          4.1030      0.580      7.070      0.000       2.936       5.270\n",
       "MS 6M Spread.L1                         -0.8351      1.136     -0.735      0.466      -3.119       1.449\n",
       "MS 6M Spread.L2                         -1.5298      0.694     -2.205      0.032      -2.925      -0.135\n",
       "========================================================================================================\n",
       "\"\"\""
      ]
     },
     "execution_count": 279,
     "metadata": {},
     "output_type": "execute_result"
    }
   ],
   "source": [
    "MS_ardl.summary()"
   ]
  },
  {
   "cell_type": "code",
   "execution_count": 280,
   "id": "b39bfb2d",
   "metadata": {},
   "outputs": [
    {
     "data": {
      "text/html": [
       "<div>\n",
       "<style scoped>\n",
       "    .dataframe tbody tr th:only-of-type {\n",
       "        vertical-align: middle;\n",
       "    }\n",
       "\n",
       "    .dataframe tbody tr th {\n",
       "        vertical-align: top;\n",
       "    }\n",
       "\n",
       "    .dataframe thead th {\n",
       "        text-align: right;\n",
       "    }\n",
       "</style>\n",
       "<table border=\"1\" class=\"dataframe\">\n",
       "  <thead>\n",
       "    <tr style=\"text-align: right;\">\n",
       "      <th></th>\n",
       "      <th>Date</th>\n",
       "      <th>MS_EQUITY($ M)</th>\n",
       "      <th>VIX</th>\n",
       "      <th>Trading volume (shares US market)</th>\n",
       "      <th>MS 6M Spread</th>\n",
       "    </tr>\n",
       "  </thead>\n",
       "  <tbody>\n",
       "    <tr>\n",
       "      <th>0</th>\n",
       "      <td>Q4 2007</td>\n",
       "      <td>2472</td>\n",
       "      <td>22.500000</td>\n",
       "      <td>1027273155</td>\n",
       "      <td>1769.31</td>\n",
       "    </tr>\n",
       "    <tr>\n",
       "      <th>1</th>\n",
       "      <td>Q1 2008</td>\n",
       "      <td>3414</td>\n",
       "      <td>25.610001</td>\n",
       "      <td>1797537680</td>\n",
       "      <td>1769.31</td>\n",
       "    </tr>\n",
       "    <tr>\n",
       "      <th>2</th>\n",
       "      <td>Q2 2008</td>\n",
       "      <td>2228</td>\n",
       "      <td>23.950001</td>\n",
       "      <td>1708720980</td>\n",
       "      <td>1769.31</td>\n",
       "    </tr>\n",
       "    <tr>\n",
       "      <th>3</th>\n",
       "      <td>Q3 2008</td>\n",
       "      <td>6031</td>\n",
       "      <td>39.389999</td>\n",
       "      <td>2382291883</td>\n",
       "      <td>1769.31</td>\n",
       "    </tr>\n",
       "    <tr>\n",
       "      <th>4</th>\n",
       "      <td>Q4 2008</td>\n",
       "      <td>-2648</td>\n",
       "      <td>40.000000</td>\n",
       "      <td>2748365910</td>\n",
       "      <td>650.00</td>\n",
       "    </tr>\n",
       "  </tbody>\n",
       "</table>\n",
       "</div>"
      ],
      "text/plain": [
       "      Date  MS_EQUITY($ M)        VIX  Trading volume (shares US market)  \\\n",
       "0  Q4 2007            2472  22.500000                         1027273155   \n",
       "1  Q1 2008            3414  25.610001                         1797537680   \n",
       "2  Q2 2008            2228  23.950001                         1708720980   \n",
       "3  Q3 2008            6031  39.389999                         2382291883   \n",
       "4  Q4 2008           -2648  40.000000                         2748365910   \n",
       "\n",
       "   MS 6M Spread  \n",
       "0       1769.31  \n",
       "1       1769.31  \n",
       "2       1769.31  \n",
       "3       1769.31  \n",
       "4        650.00  "
      ]
     },
     "execution_count": 280,
     "metadata": {},
     "output_type": "execute_result"
    }
   ],
   "source": [
    "MS__VIX_data = pd.read_excel('MS_Data Analyses_analysis_1213.xlsx',sheet_name='VIX')\n",
    "MS__VIX_data.head()"
   ]
  },
  {
   "cell_type": "code",
   "execution_count": 281,
   "id": "76381138",
   "metadata": {},
   "outputs": [
    {
     "data": {
      "text/plain": [
       "PeriodIndex(['2007', '2008', '2008', '2008', '2008', '2009', '2009', '2009',\n",
       "             '2009', '2010', '2010', '2010', '2010', '2011', '2011', '2011',\n",
       "             '2011', '2012', '2012', '2012', '2012', '2013', '2013', '2013',\n",
       "             '2013', '2014', '2014', '2014', '2014', '2015', '2015', '2015',\n",
       "             '2015', '2016', '2016', '2016', '2016', '2017', '2017', '2017',\n",
       "             '2017', '2018', '2018', '2018', '2018', '2019', '2019', '2019',\n",
       "             '2019', '2020', '2020', '2020', '2020', '2021', '2021', '2021',\n",
       "             '2021', '2022', '2022', '2022'],\n",
       "            dtype='period[A-DEC]', freq='A-DEC')"
      ]
     },
     "execution_count": 281,
     "metadata": {},
     "output_type": "execute_result"
    }
   ],
   "source": [
    "date = pd.date_range(start = '2007-12-01',end= '2022-12-01',freq = 'Q')\n",
    "date = date.to_period('Y')\n",
    "date"
   ]
  },
  {
   "cell_type": "code",
   "execution_count": 282,
   "id": "fda77afc",
   "metadata": {},
   "outputs": [
    {
     "data": {
      "text/html": [
       "<div>\n",
       "<style scoped>\n",
       "    .dataframe tbody tr th:only-of-type {\n",
       "        vertical-align: middle;\n",
       "    }\n",
       "\n",
       "    .dataframe tbody tr th {\n",
       "        vertical-align: top;\n",
       "    }\n",
       "\n",
       "    .dataframe thead th {\n",
       "        text-align: right;\n",
       "    }\n",
       "</style>\n",
       "<table border=\"1\" class=\"dataframe\">\n",
       "  <thead>\n",
       "    <tr style=\"text-align: right;\">\n",
       "      <th></th>\n",
       "      <th>MS_EQUITY($ M)</th>\n",
       "      <th>VIX</th>\n",
       "      <th>Trading volume (shares US market)</th>\n",
       "      <th>MS 6M Spread</th>\n",
       "    </tr>\n",
       "    <tr>\n",
       "      <th>index</th>\n",
       "      <th></th>\n",
       "      <th></th>\n",
       "      <th></th>\n",
       "      <th></th>\n",
       "    </tr>\n",
       "  </thead>\n",
       "  <tbody>\n",
       "    <tr>\n",
       "      <th>Q4 2007</th>\n",
       "      <td>2472</td>\n",
       "      <td>22.500000</td>\n",
       "      <td>1027273155</td>\n",
       "      <td>1769.310</td>\n",
       "    </tr>\n",
       "    <tr>\n",
       "      <th>Q1 2008</th>\n",
       "      <td>3414</td>\n",
       "      <td>25.610001</td>\n",
       "      <td>1797537680</td>\n",
       "      <td>1769.310</td>\n",
       "    </tr>\n",
       "    <tr>\n",
       "      <th>Q2 2008</th>\n",
       "      <td>2228</td>\n",
       "      <td>23.950001</td>\n",
       "      <td>1708720980</td>\n",
       "      <td>1769.310</td>\n",
       "    </tr>\n",
       "    <tr>\n",
       "      <th>Q3 2008</th>\n",
       "      <td>6031</td>\n",
       "      <td>39.389999</td>\n",
       "      <td>2382291883</td>\n",
       "      <td>1769.310</td>\n",
       "    </tr>\n",
       "    <tr>\n",
       "      <th>Q4 2008</th>\n",
       "      <td>-2648</td>\n",
       "      <td>40.000000</td>\n",
       "      <td>2748365910</td>\n",
       "      <td>650.000</td>\n",
       "    </tr>\n",
       "    <tr>\n",
       "      <th>Q1 2009</th>\n",
       "      <td>877</td>\n",
       "      <td>44.139999</td>\n",
       "      <td>2566610951</td>\n",
       "      <td>560.000</td>\n",
       "    </tr>\n",
       "    <tr>\n",
       "      <th>Q2 2009</th>\n",
       "      <td>681</td>\n",
       "      <td>26.350000</td>\n",
       "      <td>2356718805</td>\n",
       "      <td>249.650</td>\n",
       "    </tr>\n",
       "    <tr>\n",
       "      <th>Q3 2009</th>\n",
       "      <td>1073</td>\n",
       "      <td>25.610001</td>\n",
       "      <td>1945008918</td>\n",
       "      <td>119.960</td>\n",
       "    </tr>\n",
       "    <tr>\n",
       "      <th>Q4 2009</th>\n",
       "      <td>722</td>\n",
       "      <td>21.680000</td>\n",
       "      <td>1761707009</td>\n",
       "      <td>64.020</td>\n",
       "    </tr>\n",
       "    <tr>\n",
       "      <th>Q1 2010</th>\n",
       "      <td>1419</td>\n",
       "      <td>17.590000</td>\n",
       "      <td>1720897015</td>\n",
       "      <td>84.014</td>\n",
       "    </tr>\n",
       "    <tr>\n",
       "      <th>Q2 2010</th>\n",
       "      <td>1415</td>\n",
       "      <td>34.540001</td>\n",
       "      <td>2226345929</td>\n",
       "      <td>205.780</td>\n",
       "    </tr>\n",
       "    <tr>\n",
       "      <th>Q3 2010</th>\n",
       "      <td>925</td>\n",
       "      <td>23.700001</td>\n",
       "      <td>1723764370</td>\n",
       "      <td>101.990</td>\n",
       "    </tr>\n",
       "    <tr>\n",
       "      <th>Q4 2010</th>\n",
       "      <td>1081</td>\n",
       "      <td>17.750000</td>\n",
       "      <td>1594586252</td>\n",
       "      <td>70.040</td>\n",
       "    </tr>\n",
       "    <tr>\n",
       "      <th>Q1 2011</th>\n",
       "      <td>1702</td>\n",
       "      <td>17.740000</td>\n",
       "      <td>1738443326</td>\n",
       "      <td>25.090</td>\n",
       "    </tr>\n",
       "    <tr>\n",
       "      <th>Q2 2011</th>\n",
       "      <td>1853</td>\n",
       "      <td>16.520000</td>\n",
       "      <td>1729190904</td>\n",
       "      <td>39.102</td>\n",
       "    </tr>\n",
       "    <tr>\n",
       "      <th>Q3 2011</th>\n",
       "      <td>1961</td>\n",
       "      <td>42.959999</td>\n",
       "      <td>2317786499</td>\n",
       "      <td>500.970</td>\n",
       "    </tr>\n",
       "    <tr>\n",
       "      <th>Q4 2011</th>\n",
       "      <td>1254</td>\n",
       "      <td>23.400000</td>\n",
       "      <td>1867052078</td>\n",
       "      <td>468.500</td>\n",
       "    </tr>\n",
       "    <tr>\n",
       "      <th>Q1 2012</th>\n",
       "      <td>1452</td>\n",
       "      <td>15.500000</td>\n",
       "      <td>1593641050</td>\n",
       "      <td>219.730</td>\n",
       "    </tr>\n",
       "    <tr>\n",
       "      <th>Q2 2012</th>\n",
       "      <td>1218</td>\n",
       "      <td>17.080000</td>\n",
       "      <td>1702461417</td>\n",
       "      <td>244.640</td>\n",
       "    </tr>\n",
       "    <tr>\n",
       "      <th>Q3 2012</th>\n",
       "      <td>587</td>\n",
       "      <td>15.730000</td>\n",
       "      <td>1454960947</td>\n",
       "      <td>95.010</td>\n",
       "    </tr>\n",
       "    <tr>\n",
       "      <th>Q4 2012</th>\n",
       "      <td>1090</td>\n",
       "      <td>18.020000</td>\n",
       "      <td>1424164632</td>\n",
       "      <td>38.129</td>\n",
       "    </tr>\n",
       "    <tr>\n",
       "      <th>Q1 2013</th>\n",
       "      <td>1515</td>\n",
       "      <td>12.700000</td>\n",
       "      <td>1431223680</td>\n",
       "      <td>28.394</td>\n",
       "    </tr>\n",
       "    <tr>\n",
       "      <th>Q2 2013</th>\n",
       "      <td>1920</td>\n",
       "      <td>16.860001</td>\n",
       "      <td>1585270366</td>\n",
       "      <td>44.070</td>\n",
       "    </tr>\n",
       "    <tr>\n",
       "      <th>Q3 2013</th>\n",
       "      <td>1680</td>\n",
       "      <td>16.600000</td>\n",
       "      <td>1401176824</td>\n",
       "      <td>41.090</td>\n",
       "    </tr>\n",
       "    <tr>\n",
       "      <th>Q4 2013</th>\n",
       "      <td>1420</td>\n",
       "      <td>13.720000</td>\n",
       "      <td>1534923108</td>\n",
       "      <td>16.600</td>\n",
       "    </tr>\n",
       "    <tr>\n",
       "      <th>Q1 2014</th>\n",
       "      <td>1755</td>\n",
       "      <td>13.880000</td>\n",
       "      <td>1923377321</td>\n",
       "      <td>28.430</td>\n",
       "    </tr>\n",
       "    <tr>\n",
       "      <th>Q2 2014</th>\n",
       "      <td>1826</td>\n",
       "      <td>11.570000</td>\n",
       "      <td>1816223622</td>\n",
       "      <td>18.990</td>\n",
       "    </tr>\n",
       "    <tr>\n",
       "      <th>Q3 2014</th>\n",
       "      <td>1867</td>\n",
       "      <td>16.309999</td>\n",
       "      <td>1703803471</td>\n",
       "      <td>23.402</td>\n",
       "    </tr>\n",
       "    <tr>\n",
       "      <th>Q4 2014</th>\n",
       "      <td>1687</td>\n",
       "      <td>19.200001</td>\n",
       "      <td>2128764112</td>\n",
       "      <td>22.080</td>\n",
       "    </tr>\n",
       "    <tr>\n",
       "      <th>Q1 2015</th>\n",
       "      <td>2293</td>\n",
       "      <td>15.290000</td>\n",
       "      <td>1960097078</td>\n",
       "      <td>21.970</td>\n",
       "    </tr>\n",
       "    <tr>\n",
       "      <th>Q2 2015</th>\n",
       "      <td>2342</td>\n",
       "      <td>18.230000</td>\n",
       "      <td>1816741005</td>\n",
       "      <td>25.860</td>\n",
       "    </tr>\n",
       "    <tr>\n",
       "      <th>Q3 2015</th>\n",
       "      <td>1869</td>\n",
       "      <td>24.500000</td>\n",
       "      <td>2240346040</td>\n",
       "      <td>25.070</td>\n",
       "    </tr>\n",
       "    <tr>\n",
       "      <th>Q4 2015</th>\n",
       "      <td>1784</td>\n",
       "      <td>18.209999</td>\n",
       "      <td>2188018340</td>\n",
       "      <td>22.460</td>\n",
       "    </tr>\n",
       "    <tr>\n",
       "      <th>Q1 2016</th>\n",
       "      <td>2056</td>\n",
       "      <td>13.950000</td>\n",
       "      <td>2517869768</td>\n",
       "      <td>28.290</td>\n",
       "    </tr>\n",
       "    <tr>\n",
       "      <th>Q2 2016</th>\n",
       "      <td>2145</td>\n",
       "      <td>15.630000</td>\n",
       "      <td>2179096724</td>\n",
       "      <td>26.070</td>\n",
       "    </tr>\n",
       "    <tr>\n",
       "      <th>Q3 2016</th>\n",
       "      <td>1883</td>\n",
       "      <td>13.290000</td>\n",
       "      <td>1957546223</td>\n",
       "      <td>25.370</td>\n",
       "    </tr>\n",
       "    <tr>\n",
       "      <th>Q4 2016</th>\n",
       "      <td>1953</td>\n",
       "      <td>14.040000</td>\n",
       "      <td>2092062427</td>\n",
       "      <td>17.810</td>\n",
       "    </tr>\n",
       "    <tr>\n",
       "      <th>Q1 2017</th>\n",
       "      <td>2016</td>\n",
       "      <td>12.370000</td>\n",
       "      <td>1982190029</td>\n",
       "      <td>21.560</td>\n",
       "    </tr>\n",
       "    <tr>\n",
       "      <th>Q2 2017</th>\n",
       "      <td>2155</td>\n",
       "      <td>11.180000</td>\n",
       "      <td>1991910382</td>\n",
       "      <td>13.661</td>\n",
       "    </tr>\n",
       "    <tr>\n",
       "      <th>Q3 2017</th>\n",
       "      <td>1891</td>\n",
       "      <td>9.510000</td>\n",
       "      <td>1831395404</td>\n",
       "      <td>15.870</td>\n",
       "    </tr>\n",
       "    <tr>\n",
       "      <th>Q4 2017</th>\n",
       "      <td>1920</td>\n",
       "      <td>11.040000</td>\n",
       "      <td>1920243488</td>\n",
       "      <td>15.160</td>\n",
       "    </tr>\n",
       "    <tr>\n",
       "      <th>Q1 2018</th>\n",
       "      <td>2558</td>\n",
       "      <td>19.969999</td>\n",
       "      <td>2296638675</td>\n",
       "      <td>17.680</td>\n",
       "    </tr>\n",
       "    <tr>\n",
       "      <th>Q2 2018</th>\n",
       "      <td>2470</td>\n",
       "      <td>16.090000</td>\n",
       "      <td>2173008970</td>\n",
       "      <td>16.890</td>\n",
       "    </tr>\n",
       "    <tr>\n",
       "      <th>Q3 2018</th>\n",
       "      <td>2019</td>\n",
       "      <td>12.120000</td>\n",
       "      <td>2009424402</td>\n",
       "      <td>14.040</td>\n",
       "    </tr>\n",
       "    <tr>\n",
       "      <th>Q4 2018</th>\n",
       "      <td>1929</td>\n",
       "      <td>25.420000</td>\n",
       "      <td>2698215936</td>\n",
       "      <td>25.180</td>\n",
       "    </tr>\n",
       "    <tr>\n",
       "      <th>Q1 2019</th>\n",
       "      <td>2015</td>\n",
       "      <td>13.710000</td>\n",
       "      <td>2208369931</td>\n",
       "      <td>19.090</td>\n",
       "    </tr>\n",
       "    <tr>\n",
       "      <th>Q2 2019</th>\n",
       "      <td>2130</td>\n",
       "      <td>15.080000</td>\n",
       "      <td>2267785361</td>\n",
       "      <td>16.310</td>\n",
       "    </tr>\n",
       "    <tr>\n",
       "      <th>Q3 2019</th>\n",
       "      <td>1991</td>\n",
       "      <td>16.240000</td>\n",
       "      <td>2412934492</td>\n",
       "      <td>18.800</td>\n",
       "    </tr>\n",
       "    <tr>\n",
       "      <th>Q4 2019</th>\n",
       "      <td>1920</td>\n",
       "      <td>13.780000</td>\n",
       "      <td>2277735663</td>\n",
       "      <td>13.760</td>\n",
       "    </tr>\n",
       "    <tr>\n",
       "      <th>Q1 2020</th>\n",
       "      <td>2449</td>\n",
       "      <td>53.540001</td>\n",
       "      <td>3673178846</td>\n",
       "      <td>57.980</td>\n",
       "    </tr>\n",
       "    <tr>\n",
       "      <th>Q2 2020</th>\n",
       "      <td>2619</td>\n",
       "      <td>30.430000</td>\n",
       "      <td>3998487182</td>\n",
       "      <td>36.330</td>\n",
       "    </tr>\n",
       "    <tr>\n",
       "      <th>Q3 2020</th>\n",
       "      <td>2311</td>\n",
       "      <td>26.370001</td>\n",
       "      <td>3523855174</td>\n",
       "      <td>28.000</td>\n",
       "    </tr>\n",
       "    <tr>\n",
       "      <th>Q4 2020</th>\n",
       "      <td>2534</td>\n",
       "      <td>22.750000</td>\n",
       "      <td>3642725519</td>\n",
       "      <td>24.180</td>\n",
       "    </tr>\n",
       "    <tr>\n",
       "      <th>Q1 2021</th>\n",
       "      <td>2875</td>\n",
       "      <td>19.400000</td>\n",
       "      <td>4849596016</td>\n",
       "      <td>29.010</td>\n",
       "    </tr>\n",
       "    <tr>\n",
       "      <th>Q2 2021</th>\n",
       "      <td>2827</td>\n",
       "      <td>15.830000</td>\n",
       "      <td>4082039916</td>\n",
       "      <td>24.620</td>\n",
       "    </tr>\n",
       "    <tr>\n",
       "      <th>Q3 2021</th>\n",
       "      <td>2876</td>\n",
       "      <td>23.139999</td>\n",
       "      <td>3970201865</td>\n",
       "      <td>26.920</td>\n",
       "    </tr>\n",
       "    <tr>\n",
       "      <th>Q4 2021</th>\n",
       "      <td>2857</td>\n",
       "      <td>17.219999</td>\n",
       "      <td>4423935222</td>\n",
       "      <td>28.840</td>\n",
       "    </tr>\n",
       "    <tr>\n",
       "      <th>Q1 2022</th>\n",
       "      <td>3174</td>\n",
       "      <td>20.559999</td>\n",
       "      <td>5353200483</td>\n",
       "      <td>39.620</td>\n",
       "    </tr>\n",
       "    <tr>\n",
       "      <th>Q2 2022</th>\n",
       "      <td>2960</td>\n",
       "      <td>28.709999</td>\n",
       "      <td>5183728165</td>\n",
       "      <td>57.160</td>\n",
       "    </tr>\n",
       "    <tr>\n",
       "      <th>Q3 2022</th>\n",
       "      <td>2459</td>\n",
       "      <td>31.620001</td>\n",
       "      <td>4457006193</td>\n",
       "      <td>58.890</td>\n",
       "    </tr>\n",
       "  </tbody>\n",
       "</table>\n",
       "</div>"
      ],
      "text/plain": [
       "         MS_EQUITY($ M)        VIX  Trading volume (shares US market)  \\\n",
       "index                                                                   \n",
       "Q4 2007            2472  22.500000                         1027273155   \n",
       "Q1 2008            3414  25.610001                         1797537680   \n",
       "Q2 2008            2228  23.950001                         1708720980   \n",
       "Q3 2008            6031  39.389999                         2382291883   \n",
       "Q4 2008           -2648  40.000000                         2748365910   \n",
       "Q1 2009             877  44.139999                         2566610951   \n",
       "Q2 2009             681  26.350000                         2356718805   \n",
       "Q3 2009            1073  25.610001                         1945008918   \n",
       "Q4 2009             722  21.680000                         1761707009   \n",
       "Q1 2010            1419  17.590000                         1720897015   \n",
       "Q2 2010            1415  34.540001                         2226345929   \n",
       "Q3 2010             925  23.700001                         1723764370   \n",
       "Q4 2010            1081  17.750000                         1594586252   \n",
       "Q1 2011            1702  17.740000                         1738443326   \n",
       "Q2 2011            1853  16.520000                         1729190904   \n",
       "Q3 2011            1961  42.959999                         2317786499   \n",
       "Q4 2011            1254  23.400000                         1867052078   \n",
       "Q1 2012            1452  15.500000                         1593641050   \n",
       "Q2 2012            1218  17.080000                         1702461417   \n",
       "Q3 2012             587  15.730000                         1454960947   \n",
       "Q4 2012            1090  18.020000                         1424164632   \n",
       "Q1 2013            1515  12.700000                         1431223680   \n",
       "Q2 2013            1920  16.860001                         1585270366   \n",
       "Q3 2013            1680  16.600000                         1401176824   \n",
       "Q4 2013            1420  13.720000                         1534923108   \n",
       "Q1 2014            1755  13.880000                         1923377321   \n",
       "Q2 2014            1826  11.570000                         1816223622   \n",
       "Q3 2014            1867  16.309999                         1703803471   \n",
       "Q4 2014            1687  19.200001                         2128764112   \n",
       "Q1 2015            2293  15.290000                         1960097078   \n",
       "Q2 2015            2342  18.230000                         1816741005   \n",
       "Q3 2015            1869  24.500000                         2240346040   \n",
       "Q4 2015            1784  18.209999                         2188018340   \n",
       "Q1 2016            2056  13.950000                         2517869768   \n",
       "Q2 2016            2145  15.630000                         2179096724   \n",
       "Q3 2016            1883  13.290000                         1957546223   \n",
       "Q4 2016            1953  14.040000                         2092062427   \n",
       "Q1 2017            2016  12.370000                         1982190029   \n",
       "Q2 2017            2155  11.180000                         1991910382   \n",
       "Q3 2017            1891   9.510000                         1831395404   \n",
       "Q4 2017            1920  11.040000                         1920243488   \n",
       "Q1 2018            2558  19.969999                         2296638675   \n",
       "Q2 2018            2470  16.090000                         2173008970   \n",
       "Q3 2018            2019  12.120000                         2009424402   \n",
       "Q4 2018            1929  25.420000                         2698215936   \n",
       "Q1 2019            2015  13.710000                         2208369931   \n",
       "Q2 2019            2130  15.080000                         2267785361   \n",
       "Q3 2019            1991  16.240000                         2412934492   \n",
       "Q4 2019            1920  13.780000                         2277735663   \n",
       "Q1 2020            2449  53.540001                         3673178846   \n",
       "Q2 2020            2619  30.430000                         3998487182   \n",
       "Q3 2020            2311  26.370001                         3523855174   \n",
       "Q4 2020            2534  22.750000                         3642725519   \n",
       "Q1 2021            2875  19.400000                         4849596016   \n",
       "Q2 2021            2827  15.830000                         4082039916   \n",
       "Q3 2021            2876  23.139999                         3970201865   \n",
       "Q4 2021            2857  17.219999                         4423935222   \n",
       "Q1 2022            3174  20.559999                         5353200483   \n",
       "Q2 2022            2960  28.709999                         5183728165   \n",
       "Q3 2022            2459  31.620001                         4457006193   \n",
       "\n",
       "         MS 6M Spread  \n",
       "index                  \n",
       "Q4 2007      1769.310  \n",
       "Q1 2008      1769.310  \n",
       "Q2 2008      1769.310  \n",
       "Q3 2008      1769.310  \n",
       "Q4 2008       650.000  \n",
       "Q1 2009       560.000  \n",
       "Q2 2009       249.650  \n",
       "Q3 2009       119.960  \n",
       "Q4 2009        64.020  \n",
       "Q1 2010        84.014  \n",
       "Q2 2010       205.780  \n",
       "Q3 2010       101.990  \n",
       "Q4 2010        70.040  \n",
       "Q1 2011        25.090  \n",
       "Q2 2011        39.102  \n",
       "Q3 2011       500.970  \n",
       "Q4 2011       468.500  \n",
       "Q1 2012       219.730  \n",
       "Q2 2012       244.640  \n",
       "Q3 2012        95.010  \n",
       "Q4 2012        38.129  \n",
       "Q1 2013        28.394  \n",
       "Q2 2013        44.070  \n",
       "Q3 2013        41.090  \n",
       "Q4 2013        16.600  \n",
       "Q1 2014        28.430  \n",
       "Q2 2014        18.990  \n",
       "Q3 2014        23.402  \n",
       "Q4 2014        22.080  \n",
       "Q1 2015        21.970  \n",
       "Q2 2015        25.860  \n",
       "Q3 2015        25.070  \n",
       "Q4 2015        22.460  \n",
       "Q1 2016        28.290  \n",
       "Q2 2016        26.070  \n",
       "Q3 2016        25.370  \n",
       "Q4 2016        17.810  \n",
       "Q1 2017        21.560  \n",
       "Q2 2017        13.661  \n",
       "Q3 2017        15.870  \n",
       "Q4 2017        15.160  \n",
       "Q1 2018        17.680  \n",
       "Q2 2018        16.890  \n",
       "Q3 2018        14.040  \n",
       "Q4 2018        25.180  \n",
       "Q1 2019        19.090  \n",
       "Q2 2019        16.310  \n",
       "Q3 2019        18.800  \n",
       "Q4 2019        13.760  \n",
       "Q1 2020        57.980  \n",
       "Q2 2020        36.330  \n",
       "Q3 2020        28.000  \n",
       "Q4 2020        24.180  \n",
       "Q1 2021        29.010  \n",
       "Q2 2021        24.620  \n",
       "Q3 2021        26.920  \n",
       "Q4 2021        28.840  \n",
       "Q1 2022        39.620  \n",
       "Q2 2022        57.160  \n",
       "Q3 2022        58.890  "
      ]
     },
     "execution_count": 282,
     "metadata": {},
     "output_type": "execute_result"
    }
   ],
   "source": [
    "MS__VIX_data['index'] = MS__VIX_data['Date']\n",
    "MS__VIX_data.set_index(\"index\",inplace =True)\n",
    "MS__VIX_data.drop(columns=\"Date\", inplace = True)\n",
    "MS__VIX_data"
   ]
  },
  {
   "cell_type": "code",
   "execution_count": 283,
   "id": "f0f62a09",
   "metadata": {},
   "outputs": [
    {
     "name": "stdout",
     "output_type": "stream",
     "text": [
      "The Augmented Dickey Fuller Test: VIX\n",
      "ADF test Statistic          -4.557710\n",
      "p-value                      0.000154\n",
      "lags used                    0.000000\n",
      "observations                59.000000\n",
      "the critical value (1%)     -3.546395\n",
      "the critical value (5%)     -2.911939\n",
      "the critical value (10%)    -2.593652\n",
      "Reject the null hypothesis\n",
      "The VIX series is stationary\n"
     ]
    }
   ],
   "source": [
    "ADF(MS__VIX_data['VIX'],'VIX')"
   ]
  },
  {
   "cell_type": "code",
   "execution_count": 295,
   "id": "efec86df",
   "metadata": {},
   "outputs": [
    {
     "data": {
      "text/plain": [
       "Index(['MS_EQUITY($ M)', 'VIX', 'Trading volume (shares US market)',\n",
       "       'MS 6M Spread'],\n",
       "      dtype='object')"
      ]
     },
     "execution_count": 295,
     "metadata": {},
     "output_type": "execute_result"
    }
   ],
   "source": [
    "MS__VIX_data.columns"
   ]
  },
  {
   "cell_type": "code",
   "execution_count": null,
   "id": "e0f65ea0",
   "metadata": {},
   "outputs": [],
   "source": []
  },
  {
   "cell_type": "code",
   "execution_count": 287,
   "id": "ec276027",
   "metadata": {},
   "outputs": [
    {
     "data": {
      "text/plain": [
       "Index(['MS_EQUITY($ M)', 'VIX', 'Trading volume (shares US market)',\n",
       "       'MS 6M Spread'],\n",
       "      dtype='object')"
      ]
     },
     "execution_count": 287,
     "metadata": {},
     "output_type": "execute_result"
    }
   ],
   "source": [
    "MS__VIX_data.columns"
   ]
  },
  {
   "cell_type": "code",
   "execution_count": 296,
   "id": "e2adda22",
   "metadata": {},
   "outputs": [],
   "source": [
    "X = sm.add_constant(MS__VIX_data[['VIX','Trading volume (shares US market)','MS 6M Spread']])\n",
    "y = MS__VIX_data['MS_EQUITY($ M)']\n"
   ]
  },
  {
   "cell_type": "code",
   "execution_count": 297,
   "id": "ca282583",
   "metadata": {},
   "outputs": [
    {
     "data": {
      "text/html": [
       "<table class=\"simpletable\">\n",
       "<caption>OLS Regression Results</caption>\n",
       "<tr>\n",
       "  <th>Dep. Variable:</th>     <td>MS_EQUITY($ M)</td>  <th>  R-squared:         </th> <td>   0.328</td>\n",
       "</tr>\n",
       "<tr>\n",
       "  <th>Model:</th>                   <td>OLS</td>       <th>  Adj. R-squared:    </th> <td>   0.292</td>\n",
       "</tr>\n",
       "<tr>\n",
       "  <th>Method:</th>             <td>Least Squares</td>  <th>  F-statistic:       </th> <td>   9.098</td>\n",
       "</tr>\n",
       "<tr>\n",
       "  <th>Date:</th>             <td>Thu, 15 Dec 2022</td> <th>  Prob (F-statistic):</th> <td>5.32e-05</td>\n",
       "</tr>\n",
       "<tr>\n",
       "  <th>Time:</th>                 <td>16:22:18</td>     <th>  Log-Likelihood:    </th> <td> -488.00</td>\n",
       "</tr>\n",
       "<tr>\n",
       "  <th>No. Observations:</th>      <td>    60</td>      <th>  AIC:               </th> <td>   984.0</td>\n",
       "</tr>\n",
       "<tr>\n",
       "  <th>Df Residuals:</th>          <td>    56</td>      <th>  BIC:               </th> <td>   992.4</td>\n",
       "</tr>\n",
       "<tr>\n",
       "  <th>Df Model:</th>              <td>     3</td>      <th>                     </th>     <td> </td>   \n",
       "</tr>\n",
       "<tr>\n",
       "  <th>Covariance Type:</th>      <td>nonrobust</td>    <th>                     </th>     <td> </td>   \n",
       "</tr>\n",
       "</table>\n",
       "<table class=\"simpletable\">\n",
       "<tr>\n",
       "                  <td></td>                     <th>coef</th>     <th>std err</th>      <th>t</th>      <th>P>|t|</th>  <th>[0.025</th>    <th>0.975]</th>  \n",
       "</tr>\n",
       "<tr>\n",
       "  <th>const</th>                             <td> 1208.1622</td> <td>  337.676</td> <td>    3.578</td> <td> 0.001</td> <td>  531.715</td> <td> 1884.610</td>\n",
       "</tr>\n",
       "<tr>\n",
       "  <th>VIX</th>                               <td>  -43.1343</td> <td>   14.917</td> <td>   -2.892</td> <td> 0.005</td> <td>  -73.016</td> <td>  -13.253</td>\n",
       "</tr>\n",
       "<tr>\n",
       "  <th>Trading volume (shares US market)</th> <td>  5.85e-07</td> <td> 1.27e-07</td> <td>    4.623</td> <td> 0.000</td> <td> 3.32e-07</td> <td> 8.39e-07</td>\n",
       "</tr>\n",
       "<tr>\n",
       "  <th>MS 6M Spread</th>                      <td>    1.1361</td> <td>    0.289</td> <td>    3.933</td> <td> 0.000</td> <td>    0.557</td> <td>    1.715</td>\n",
       "</tr>\n",
       "</table>\n",
       "<table class=\"simpletable\">\n",
       "<tr>\n",
       "  <th>Omnibus:</th>       <td>49.585</td> <th>  Durbin-Watson:     </th> <td>   2.509</td> \n",
       "</tr>\n",
       "<tr>\n",
       "  <th>Prob(Omnibus):</th> <td> 0.000</td> <th>  Jarque-Bera (JB):  </th> <td> 609.195</td> \n",
       "</tr>\n",
       "<tr>\n",
       "  <th>Skew:</th>          <td>-1.742</td> <th>  Prob(JB):          </th> <td>5.19e-133</td>\n",
       "</tr>\n",
       "<tr>\n",
       "  <th>Kurtosis:</th>      <td>18.216</td> <th>  Cond. No.          </th> <td>7.92e+09</td> \n",
       "</tr>\n",
       "</table><br/><br/>Notes:<br/>[1] Standard Errors assume that the covariance matrix of the errors is correctly specified.<br/>[2] The condition number is large, 7.92e+09. This might indicate that there are<br/>strong multicollinearity or other numerical problems."
      ],
      "text/plain": [
       "<class 'statsmodels.iolib.summary.Summary'>\n",
       "\"\"\"\n",
       "                            OLS Regression Results                            \n",
       "==============================================================================\n",
       "Dep. Variable:         MS_EQUITY($ M)   R-squared:                       0.328\n",
       "Model:                            OLS   Adj. R-squared:                  0.292\n",
       "Method:                 Least Squares   F-statistic:                     9.098\n",
       "Date:                Thu, 15 Dec 2022   Prob (F-statistic):           5.32e-05\n",
       "Time:                        16:22:18   Log-Likelihood:                -488.00\n",
       "No. Observations:                  60   AIC:                             984.0\n",
       "Df Residuals:                      56   BIC:                             992.4\n",
       "Df Model:                           3                                         \n",
       "Covariance Type:            nonrobust                                         \n",
       "=====================================================================================================\n",
       "                                        coef    std err          t      P>|t|      [0.025      0.975]\n",
       "-----------------------------------------------------------------------------------------------------\n",
       "const                              1208.1622    337.676      3.578      0.001     531.715    1884.610\n",
       "VIX                                 -43.1343     14.917     -2.892      0.005     -73.016     -13.253\n",
       "Trading volume (shares US market)   5.85e-07   1.27e-07      4.623      0.000    3.32e-07    8.39e-07\n",
       "MS 6M Spread                          1.1361      0.289      3.933      0.000       0.557       1.715\n",
       "==============================================================================\n",
       "Omnibus:                       49.585   Durbin-Watson:                   2.509\n",
       "Prob(Omnibus):                  0.000   Jarque-Bera (JB):              609.195\n",
       "Skew:                          -1.742   Prob(JB):                    5.19e-133\n",
       "Kurtosis:                      18.216   Cond. No.                     7.92e+09\n",
       "==============================================================================\n",
       "\n",
       "Notes:\n",
       "[1] Standard Errors assume that the covariance matrix of the errors is correctly specified.\n",
       "[2] The condition number is large, 7.92e+09. This might indicate that there are\n",
       "strong multicollinearity or other numerical problems.\n",
       "\"\"\""
      ]
     },
     "execution_count": 297,
     "metadata": {},
     "output_type": "execute_result"
    }
   ],
   "source": [
    "mod_OLS_VIX = sm.OLS(y,X)\n",
    "result_OLS_VIX = mod_OLS_VIX.fit()\n",
    "result_OLS_VIX.summary()"
   ]
  },
  {
   "cell_type": "code",
   "execution_count": 305,
   "id": "c2b4be7d",
   "metadata": {},
   "outputs": [],
   "source": [
    "vif_data_VIX = MS__VIX_data[[ 'VIX', 'Trading volume (shares US market)','MS 6M Spread']]\n",
    "vif_VIX  = pd.DataFrame()\n",
    "\n"
   ]
  },
  {
   "cell_type": "code",
   "execution_count": 306,
   "id": "8e30194a",
   "metadata": {},
   "outputs": [
    {
     "data": {
      "text/html": [
       "<div>\n",
       "<style scoped>\n",
       "    .dataframe tbody tr th:only-of-type {\n",
       "        vertical-align: middle;\n",
       "    }\n",
       "\n",
       "    .dataframe tbody tr th {\n",
       "        vertical-align: top;\n",
       "    }\n",
       "\n",
       "    .dataframe thead th {\n",
       "        text-align: right;\n",
       "    }\n",
       "</style>\n",
       "<table border=\"1\" class=\"dataframe\">\n",
       "  <thead>\n",
       "    <tr style=\"text-align: right;\">\n",
       "      <th></th>\n",
       "      <th>features</th>\n",
       "      <th>VIF</th>\n",
       "    </tr>\n",
       "  </thead>\n",
       "  <tbody>\n",
       "    <tr>\n",
       "      <th>0</th>\n",
       "      <td>VIX</td>\n",
       "      <td>7.622270</td>\n",
       "    </tr>\n",
       "    <tr>\n",
       "      <th>1</th>\n",
       "      <td>Trading volume (shares US market)</td>\n",
       "      <td>6.238411</td>\n",
       "    </tr>\n",
       "    <tr>\n",
       "      <th>2</th>\n",
       "      <td>MS 6M Spread</td>\n",
       "      <td>1.603757</td>\n",
       "    </tr>\n",
       "  </tbody>\n",
       "</table>\n",
       "</div>"
      ],
      "text/plain": [
       "                            features       VIF\n",
       "0                                VIX  7.622270\n",
       "1  Trading volume (shares US market)  6.238411\n",
       "2                       MS 6M Spread  1.603757"
      ]
     },
     "execution_count": 306,
     "metadata": {},
     "output_type": "execute_result"
    }
   ],
   "source": [
    "vif_VIX[\"features\"] = vif_data_VIX.columns\n",
    "vif_VIX[\"VIF\"] = [variance_inflation_factor(vif_data_VIX.values,i) for i in range(len(vif_data_VIX.columns))]\n",
    "vif_VIX"
   ]
  },
  {
   "cell_type": "code",
   "execution_count": 309,
   "id": "ac3db7d0",
   "metadata": {},
   "outputs": [
    {
     "data": {
      "text/plain": [
       "index\n",
       "Q4 2007    -376.793205\n",
       "Q1 2008     248.715996\n",
       "Q2 2008    -956.925236\n",
       "Q3 2008    3117.999345\n",
       "Q4 2008   -4477.185128\n",
       "dtype: float64"
      ]
     },
     "execution_count": 309,
     "metadata": {},
     "output_type": "execute_result"
    }
   ],
   "source": [
    "residual_VIX = result_OLS_VIX.resid\n",
    "residual_VIX.head()"
   ]
  },
  {
   "cell_type": "code",
   "execution_count": 310,
   "id": "6668a79c",
   "metadata": {},
   "outputs": [
    {
     "name": "stdout",
     "output_type": "stream",
     "text": [
      "The Augmented Dickey Fuller Test: residual_VIX\n",
      "ADF test Statistic          -2.090616\n",
      "p-value                      0.248305\n",
      "lags used                   11.000000\n",
      "observations                48.000000\n",
      "the critical value (1%)     -3.574589\n",
      "the critical value (5%)     -2.923954\n",
      "the critical value (10%)    -2.600039\n",
      "Accept the null hypothesis\n",
      "The residual_VIX series is non-stationary \n"
     ]
    }
   ],
   "source": [
    "ADF(residual_VIX,'residual_VIX')"
   ]
  },
  {
   "cell_type": "code",
   "execution_count": 311,
   "id": "6b94750a",
   "metadata": {},
   "outputs": [
    {
     "data": {
      "text/plain": [
       "[('Lagrange multiplier statistic', 13.083542648530536),\n",
       " ('p-value', 0.0044593790111628565),\n",
       " ('f-value', 5.205553514188923),\n",
       " ('f p-value', 0.0030527296708987737)]"
      ]
     },
     "execution_count": 311,
     "metadata": {},
     "output_type": "execute_result"
    }
   ],
   "source": [
    "names = ['Lagrange multiplier statistic', 'p-value',\n",
    "         'f-value', 'f p-value']\n",
    "test_result = sms.het_breuschpagan(result_OLS_VIX.resid, result_OLS_VIX.model.exog)\n",
    " \n",
    "lzip(names, test_result)"
   ]
  },
  {
   "cell_type": "code",
   "execution_count": 313,
   "id": "381b53d9",
   "metadata": {},
   "outputs": [
    {
     "data": {
      "text/html": [
       "<table class=\"simpletable\">\n",
       "<caption>ARDL Model Results</caption>\n",
       "<tr>\n",
       "  <th>Dep. Variable:</th>  <td>MS_EQUITY($ M)</td>  <th>  No. Observations:  </th>    <td>60</td>   \n",
       "</tr>\n",
       "<tr>\n",
       "  <th>Model:</th>         <td>ARDL(2, 1, 1, 1)</td> <th>  Log Likelihood     </th> <td>-446.362</td>\n",
       "</tr>\n",
       "<tr>\n",
       "  <th>Method:</th>         <td>Conditional MLE</td> <th>  S.D. of innovations</th>  <td>532.170</td>\n",
       "</tr>\n",
       "<tr>\n",
       "  <th>Date:</th>          <td>Thu, 15 Dec 2022</td> <th>  AIC                </th>  <td>912.724</td>\n",
       "</tr>\n",
       "<tr>\n",
       "  <th>Time:</th>              <td>16:38:06</td>     <th>  BIC                </th>  <td>933.329</td>\n",
       "</tr>\n",
       "<tr>\n",
       "  <th>Sample:</th>                <td>2</td>        <th>  HQIC               </th>  <td>920.750</td>\n",
       "</tr>\n",
       "<tr>\n",
       "  <th></th>                      <td>60</td>        <th>                     </th>     <td> </td>   \n",
       "</tr>\n",
       "</table>\n",
       "<table class=\"simpletable\">\n",
       "<tr>\n",
       "                    <td></td>                      <th>coef</th>     <th>std err</th>      <th>z</th>      <th>P>|z|</th>  <th>[0.025</th>    <th>0.975]</th>  \n",
       "</tr>\n",
       "<tr>\n",
       "  <th>const</th>                                <td> 1438.1971</td> <td>  323.515</td> <td>    4.446</td> <td> 0.000</td> <td>  788.069</td> <td> 2088.325</td>\n",
       "</tr>\n",
       "<tr>\n",
       "  <th>MS_EQUITY($ M).L1</th>                    <td>   -0.0207</td> <td>    0.104</td> <td>   -0.198</td> <td> 0.844</td> <td>   -0.230</td> <td>    0.189</td>\n",
       "</tr>\n",
       "<tr>\n",
       "  <th>MS_EQUITY($ M).L2</th>                    <td>    0.0354</td> <td>    0.092</td> <td>    0.383</td> <td> 0.704</td> <td>   -0.150</td> <td>    0.221</td>\n",
       "</tr>\n",
       "<tr>\n",
       "  <th>VIX.L0</th>                               <td>  -35.0218</td> <td>   12.414</td> <td>   -2.821</td> <td> 0.007</td> <td>  -59.968</td> <td>  -10.075</td>\n",
       "</tr>\n",
       "<tr>\n",
       "  <th>VIX.L1</th>                               <td>  -13.2573</td> <td>   13.135</td> <td>   -1.009</td> <td> 0.318</td> <td>  -39.653</td> <td>   13.138</td>\n",
       "</tr>\n",
       "<tr>\n",
       "  <th>Trading volume (shares US market).L0</th> <td> 6.568e-07</td> <td> 2.33e-07</td> <td>    2.822</td> <td> 0.007</td> <td> 1.89e-07</td> <td> 1.12e-06</td>\n",
       "</tr>\n",
       "<tr>\n",
       "  <th>Trading volume (shares US market).L1</th> <td>-1.084e-07</td> <td> 2.34e-07</td> <td>   -0.463</td> <td> 0.646</td> <td>-5.79e-07</td> <td> 3.63e-07</td>\n",
       "</tr>\n",
       "<tr>\n",
       "  <th>MS 6M Spread.L0</th>                      <td>    4.8028</td> <td>    0.604</td> <td>    7.949</td> <td> 0.000</td> <td>    3.589</td> <td>    6.017</td>\n",
       "</tr>\n",
       "<tr>\n",
       "  <th>MS 6M Spread.L1</th>                      <td>   -3.4274</td> <td>    0.581</td> <td>   -5.901</td> <td> 0.000</td> <td>   -4.595</td> <td>   -2.260</td>\n",
       "</tr>\n",
       "</table>"
      ],
      "text/plain": [
       "<class 'statsmodels.iolib.summary.Summary'>\n",
       "\"\"\"\n",
       "                              ARDL Model Results                              \n",
       "==============================================================================\n",
       "Dep. Variable:         MS_EQUITY($ M)   No. Observations:                   60\n",
       "Model:               ARDL(2, 1, 1, 1)   Log Likelihood                -446.362\n",
       "Method:               Conditional MLE   S.D. of innovations            532.170\n",
       "Date:                Thu, 15 Dec 2022   AIC                            912.724\n",
       "Time:                        16:38:06   BIC                            933.329\n",
       "Sample:                             2   HQIC                           920.750\n",
       "                                   60                                         \n",
       "========================================================================================================\n",
       "                                           coef    std err          z      P>|z|      [0.025      0.975]\n",
       "--------------------------------------------------------------------------------------------------------\n",
       "const                                 1438.1971    323.515      4.446      0.000     788.069    2088.325\n",
       "MS_EQUITY($ M).L1                       -0.0207      0.104     -0.198      0.844      -0.230       0.189\n",
       "MS_EQUITY($ M).L2                        0.0354      0.092      0.383      0.704      -0.150       0.221\n",
       "VIX.L0                                 -35.0218     12.414     -2.821      0.007     -59.968     -10.075\n",
       "VIX.L1                                 -13.2573     13.135     -1.009      0.318     -39.653      13.138\n",
       "Trading volume (shares US market).L0  6.568e-07   2.33e-07      2.822      0.007    1.89e-07    1.12e-06\n",
       "Trading volume (shares US market).L1 -1.084e-07   2.34e-07     -0.463      0.646   -5.79e-07    3.63e-07\n",
       "MS 6M Spread.L0                          4.8028      0.604      7.949      0.000       3.589       6.017\n",
       "MS 6M Spread.L1                         -3.4274      0.581     -5.901      0.000      -4.595      -2.260\n",
       "========================================================================================================\n",
       "\"\"\""
      ]
     },
     "execution_count": 313,
     "metadata": {},
     "output_type": "execute_result"
    }
   ],
   "source": [
    "MS_ardl_VIC  = ARDL(endog=MS__VIX_data['MS_EQUITY($ M)'],lags=2,exog =MS__VIX_data[['VIX', 'Trading volume (shares US market)','MS 6M Spread']],order=1).fit()\n",
    "MS_ardl_VIC.summary()"
   ]
  },
  {
   "cell_type": "code",
   "execution_count": null,
   "id": "75e734c2",
   "metadata": {},
   "outputs": [],
   "source": []
  }
 ],
 "metadata": {
  "kernelspec": {
   "display_name": "Python 3",
   "language": "python",
   "name": "python3"
  },
  "language_info": {
   "codemirror_mode": {
    "name": "ipython",
    "version": 3
   },
   "file_extension": ".py",
   "mimetype": "text/x-python",
   "name": "python",
   "nbconvert_exporter": "python",
   "pygments_lexer": "ipython3",
   "version": "3.8.8"
  }
 },
 "nbformat": 4,
 "nbformat_minor": 5
}
