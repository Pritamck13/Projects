{
 "cells": [
  {
   "cell_type": "markdown",
   "id": "6877c771",
   "metadata": {},
   "source": [
    "# Cointegration test-YOY & All-Quarters. Quarter_End\n"
   ]
  },
  {
   "cell_type": "code",
   "execution_count": 48,
   "id": "f2a17e4e",
   "metadata": {},
   "outputs": [],
   "source": [
    "\n",
    "import numpy as np\n",
    "import pandas as pd\n",
    "import matplotlib.pyplot as plt\n",
    "import seaborn as sns\n",
    "sns.set()\n",
    "import warnings\n",
    "warnings.filterwarnings(\"ignore\")\n",
    "from statsmodels.tsa.stattools import adfuller"
   ]
  },
  {
   "cell_type": "code",
   "execution_count": 49,
   "id": "e7d27894",
   "metadata": {},
   "outputs": [],
   "source": [
    "date = pd.date_range(start = '1982-01-01',end= '2022-01-01',freq = 'Y')\n"
   ]
  },
  {
   "cell_type": "code",
   "execution_count": 50,
   "id": "1d7ba469",
   "metadata": {},
   "outputs": [
    {
     "data": {
      "text/plain": [
       "DatetimeIndex(['1982-12-31', '1983-12-31', '1984-12-31', '1985-12-31',\n",
       "               '1986-12-31', '1987-12-31', '1988-12-31', '1989-12-31',\n",
       "               '1990-12-31', '1991-12-31', '1992-12-31', '1993-12-31',\n",
       "               '1994-12-31', '1995-12-31', '1996-12-31', '1997-12-31',\n",
       "               '1998-12-31', '1999-12-31', '2000-12-31', '2001-12-31',\n",
       "               '2002-12-31', '2003-12-31', '2004-12-31', '2005-12-31',\n",
       "               '2006-12-31', '2007-12-31', '2008-12-31', '2009-12-31',\n",
       "               '2010-12-31', '2011-12-31', '2012-12-31', '2013-12-31',\n",
       "               '2014-12-31', '2015-12-31', '2016-12-31', '2017-12-31',\n",
       "               '2018-12-31', '2019-12-31', '2020-12-31', '2021-12-31'],\n",
       "              dtype='datetime64[ns]', freq='A-DEC')"
      ]
     },
     "execution_count": 50,
     "metadata": {},
     "output_type": "execute_result"
    }
   ],
   "source": [
    "date"
   ]
  },
  {
   "cell_type": "code",
   "execution_count": 51,
   "id": "a7d7c6be",
   "metadata": {},
   "outputs": [
    {
     "data": {
      "text/plain": [
       "PeriodIndex(['1982', '1983', '1984', '1985', '1986', '1987', '1988', '1989',\n",
       "             '1990', '1991', '1992', '1993', '1994', '1995', '1996', '1997',\n",
       "             '1998', '1999', '2000', '2001', '2002', '2003', '2004', '2005',\n",
       "             '2006', '2007', '2008', '2009', '2010', '2011', '2012', '2013',\n",
       "             '2014', '2015', '2016', '2017', '2018', '2019', '2020', '2021'],\n",
       "            dtype='period[A-DEC]', freq='A-DEC')"
      ]
     },
     "execution_count": 51,
     "metadata": {},
     "output_type": "execute_result"
    }
   ],
   "source": [
    "date = date.to_period('Y')\n",
    "date"
   ]
  },
  {
   "cell_type": "code",
   "execution_count": 52,
   "id": "25dac91d",
   "metadata": {},
   "outputs": [],
   "source": [
    "#we genrated a series of data starting from 1982  till 2021 on a yearly basis"
   ]
  },
  {
   "cell_type": "code",
   "execution_count": 53,
   "id": "a94c22fa",
   "metadata": {},
   "outputs": [],
   "source": [
    "ECI_CPI = pd.read_excel('Average YOY_original.xlsx',sheet_name='YOY')\n",
    "\n",
    "#pulled the ECI vs CPI YOY data"
   ]
  },
  {
   "cell_type": "code",
   "execution_count": 54,
   "id": "695e47e9",
   "metadata": {},
   "outputs": [
    {
     "data": {
      "text/plain": [
       "Index(['CPI_YOY_Q1', 'CPI_YOY_Q2', 'CPI_YOY_Q3', 'CPI_YOY_Q4', 'ECI_YOY_Q1',\n",
       "       'ECI_YOY_Q2', 'ECI_YOY_Q3', 'ECI_YOY_Q4'],\n",
       "      dtype='object')"
      ]
     },
     "execution_count": 54,
     "metadata": {},
     "output_type": "execute_result"
    }
   ],
   "source": [
    "ECI_CPI.columns"
   ]
  },
  {
   "cell_type": "code",
   "execution_count": 55,
   "id": "64384c5a",
   "metadata": {},
   "outputs": [
    {
     "data": {
      "text/html": [
       "<div>\n",
       "<style scoped>\n",
       "    .dataframe tbody tr th:only-of-type {\n",
       "        vertical-align: middle;\n",
       "    }\n",
       "\n",
       "    .dataframe tbody tr th {\n",
       "        vertical-align: top;\n",
       "    }\n",
       "\n",
       "    .dataframe thead th {\n",
       "        text-align: right;\n",
       "    }\n",
       "</style>\n",
       "<table border=\"1\" class=\"dataframe\">\n",
       "  <thead>\n",
       "    <tr style=\"text-align: right;\">\n",
       "      <th></th>\n",
       "      <th>CPI_YOY_Q1</th>\n",
       "      <th>CPI_YOY_Q2</th>\n",
       "      <th>CPI_YOY_Q3</th>\n",
       "      <th>CPI_YOY_Q4</th>\n",
       "      <th>ECI_YOY_Q1</th>\n",
       "      <th>ECI_YOY_Q2</th>\n",
       "      <th>ECI_YOY_Q3</th>\n",
       "      <th>ECI_YOY_Q4</th>\n",
       "    </tr>\n",
       "  </thead>\n",
       "  <tbody>\n",
       "    <tr>\n",
       "      <th>0</th>\n",
       "      <td>0.075930</td>\n",
       "      <td>0.070640</td>\n",
       "      <td>0.050429</td>\n",
       "      <td>0.038298</td>\n",
       "      <td>0.070667</td>\n",
       "      <td>0.075</td>\n",
       "      <td>0.073</td>\n",
       "      <td>0.064</td>\n",
       "    </tr>\n",
       "    <tr>\n",
       "      <th>1</th>\n",
       "      <td>0.035979</td>\n",
       "      <td>0.025773</td>\n",
       "      <td>0.028601</td>\n",
       "      <td>0.037910</td>\n",
       "      <td>0.066000</td>\n",
       "      <td>0.065</td>\n",
       "      <td>0.059</td>\n",
       "      <td>0.058</td>\n",
       "    </tr>\n",
       "    <tr>\n",
       "      <th>2</th>\n",
       "      <td>0.048008</td>\n",
       "      <td>0.042211</td>\n",
       "      <td>0.042701</td>\n",
       "      <td>0.039487</td>\n",
       "      <td>0.059000</td>\n",
       "      <td>0.054</td>\n",
       "      <td>0.051</td>\n",
       "      <td>0.052</td>\n",
       "    </tr>\n",
       "    <tr>\n",
       "      <th>3</th>\n",
       "      <td>0.037037</td>\n",
       "      <td>0.037608</td>\n",
       "      <td>0.031429</td>\n",
       "      <td>0.037987</td>\n",
       "      <td>0.047000</td>\n",
       "      <td>0.047</td>\n",
       "      <td>0.048</td>\n",
       "      <td>0.043</td>\n",
       "    </tr>\n",
       "    <tr>\n",
       "      <th>4</th>\n",
       "      <td>0.022556</td>\n",
       "      <td>0.017658</td>\n",
       "      <td>0.017544</td>\n",
       "      <td>0.010979</td>\n",
       "      <td>0.041000</td>\n",
       "      <td>0.040</td>\n",
       "      <td>0.038</td>\n",
       "      <td>0.035</td>\n",
       "    </tr>\n",
       "  </tbody>\n",
       "</table>\n",
       "</div>"
      ],
      "text/plain": [
       "   CPI_YOY_Q1  CPI_YOY_Q2  CPI_YOY_Q3  CPI_YOY_Q4  ECI_YOY_Q1  ECI_YOY_Q2  \\\n",
       "0    0.075930    0.070640    0.050429    0.038298    0.070667       0.075   \n",
       "1    0.035979    0.025773    0.028601    0.037910    0.066000       0.065   \n",
       "2    0.048008    0.042211    0.042701    0.039487    0.059000       0.054   \n",
       "3    0.037037    0.037608    0.031429    0.037987    0.047000       0.047   \n",
       "4    0.022556    0.017658    0.017544    0.010979    0.041000       0.040   \n",
       "\n",
       "   ECI_YOY_Q3  ECI_YOY_Q4  \n",
       "0       0.073       0.064  \n",
       "1       0.059       0.058  \n",
       "2       0.051       0.052  \n",
       "3       0.048       0.043  \n",
       "4       0.038       0.035  "
      ]
     },
     "execution_count": 55,
     "metadata": {},
     "output_type": "execute_result"
    }
   ],
   "source": [
    "ECI_CPI.head()"
   ]
  },
  {
   "cell_type": "code",
   "execution_count": 56,
   "id": "b9dfaa0b",
   "metadata": {},
   "outputs": [],
   "source": [
    "ECI_CPI['index'] = date"
   ]
  },
  {
   "cell_type": "code",
   "execution_count": 57,
   "id": "bf421078",
   "metadata": {},
   "outputs": [],
   "source": [
    "ECI_CPI.set_index(\"index\",inplace =True)\n"
   ]
  },
  {
   "cell_type": "code",
   "execution_count": 58,
   "id": "2ac9850b",
   "metadata": {},
   "outputs": [],
   "source": [
    "#we club the yearly data with the ECI vs CPI YOY data"
   ]
  },
  {
   "cell_type": "code",
   "execution_count": 59,
   "id": "58103163",
   "metadata": {},
   "outputs": [
    {
     "data": {
      "text/html": [
       "<div>\n",
       "<style scoped>\n",
       "    .dataframe tbody tr th:only-of-type {\n",
       "        vertical-align: middle;\n",
       "    }\n",
       "\n",
       "    .dataframe tbody tr th {\n",
       "        vertical-align: top;\n",
       "    }\n",
       "\n",
       "    .dataframe thead th {\n",
       "        text-align: right;\n",
       "    }\n",
       "</style>\n",
       "<table border=\"1\" class=\"dataframe\">\n",
       "  <thead>\n",
       "    <tr style=\"text-align: right;\">\n",
       "      <th></th>\n",
       "      <th>CPI_YOY_Q1</th>\n",
       "      <th>CPI_YOY_Q2</th>\n",
       "      <th>CPI_YOY_Q3</th>\n",
       "      <th>CPI_YOY_Q4</th>\n",
       "      <th>ECI_YOY_Q1</th>\n",
       "      <th>ECI_YOY_Q2</th>\n",
       "      <th>ECI_YOY_Q3</th>\n",
       "      <th>ECI_YOY_Q4</th>\n",
       "    </tr>\n",
       "    <tr>\n",
       "      <th>index</th>\n",
       "      <th></th>\n",
       "      <th></th>\n",
       "      <th></th>\n",
       "      <th></th>\n",
       "      <th></th>\n",
       "      <th></th>\n",
       "      <th></th>\n",
       "      <th></th>\n",
       "    </tr>\n",
       "  </thead>\n",
       "  <tbody>\n",
       "    <tr>\n",
       "      <th>1982</th>\n",
       "      <td>0.075930</td>\n",
       "      <td>0.070640</td>\n",
       "      <td>0.050429</td>\n",
       "      <td>0.038298</td>\n",
       "      <td>0.070667</td>\n",
       "      <td>0.075</td>\n",
       "      <td>0.073</td>\n",
       "      <td>0.064</td>\n",
       "    </tr>\n",
       "    <tr>\n",
       "      <th>1983</th>\n",
       "      <td>0.035979</td>\n",
       "      <td>0.025773</td>\n",
       "      <td>0.028601</td>\n",
       "      <td>0.037910</td>\n",
       "      <td>0.066000</td>\n",
       "      <td>0.065</td>\n",
       "      <td>0.059</td>\n",
       "      <td>0.058</td>\n",
       "    </tr>\n",
       "    <tr>\n",
       "      <th>1984</th>\n",
       "      <td>0.048008</td>\n",
       "      <td>0.042211</td>\n",
       "      <td>0.042701</td>\n",
       "      <td>0.039487</td>\n",
       "      <td>0.059000</td>\n",
       "      <td>0.054</td>\n",
       "      <td>0.051</td>\n",
       "      <td>0.052</td>\n",
       "    </tr>\n",
       "    <tr>\n",
       "      <th>1985</th>\n",
       "      <td>0.037037</td>\n",
       "      <td>0.037608</td>\n",
       "      <td>0.031429</td>\n",
       "      <td>0.037987</td>\n",
       "      <td>0.047000</td>\n",
       "      <td>0.047</td>\n",
       "      <td>0.048</td>\n",
       "      <td>0.043</td>\n",
       "    </tr>\n",
       "    <tr>\n",
       "      <th>1986</th>\n",
       "      <td>0.022556</td>\n",
       "      <td>0.017658</td>\n",
       "      <td>0.017544</td>\n",
       "      <td>0.010979</td>\n",
       "      <td>0.041000</td>\n",
       "      <td>0.040</td>\n",
       "      <td>0.038</td>\n",
       "      <td>0.035</td>\n",
       "    </tr>\n",
       "  </tbody>\n",
       "</table>\n",
       "</div>"
      ],
      "text/plain": [
       "       CPI_YOY_Q1  CPI_YOY_Q2  CPI_YOY_Q3  CPI_YOY_Q4  ECI_YOY_Q1  ECI_YOY_Q2  \\\n",
       "index                                                                           \n",
       "1982     0.075930    0.070640    0.050429    0.038298    0.070667       0.075   \n",
       "1983     0.035979    0.025773    0.028601    0.037910    0.066000       0.065   \n",
       "1984     0.048008    0.042211    0.042701    0.039487    0.059000       0.054   \n",
       "1985     0.037037    0.037608    0.031429    0.037987    0.047000       0.047   \n",
       "1986     0.022556    0.017658    0.017544    0.010979    0.041000       0.040   \n",
       "\n",
       "       ECI_YOY_Q3  ECI_YOY_Q4  \n",
       "index                          \n",
       "1982        0.073       0.064  \n",
       "1983        0.059       0.058  \n",
       "1984        0.051       0.052  \n",
       "1985        0.048       0.043  \n",
       "1986        0.038       0.035  "
      ]
     },
     "execution_count": 59,
     "metadata": {},
     "output_type": "execute_result"
    }
   ],
   "source": [
    "ECI_CPI.head()"
   ]
  },
  {
   "cell_type": "code",
   "execution_count": 60,
   "id": "a421125d",
   "metadata": {},
   "outputs": [
    {
     "data": {
      "text/plain": [
       "pandas.core.indexes.period.PeriodIndex"
      ]
     },
     "execution_count": 60,
     "metadata": {},
     "output_type": "execute_result"
    }
   ],
   "source": [
    "type(ECI_CPI.index)\n",
    "# we ensured that the index of our data is a  period index since we would be testing the data for \n",
    "#stationarity and cointegration, it is important for the data to a time series data."
   ]
  },
  {
   "cell_type": "markdown",
   "id": "9ffb41d5",
   "metadata": {},
   "source": [
    "# ECI_YOY_Q1 vs CPI_YOY_Q1 "
   ]
  },
  {
   "cell_type": "markdown",
   "id": "4f48598a",
   "metadata": {},
   "source": [
    "## Line Plot"
   ]
  },
  {
   "cell_type": "code",
   "execution_count": 61,
   "id": "7cc35753",
   "metadata": {},
   "outputs": [
    {
     "data": {
      "text/html": [
       "<div>\n",
       "<style scoped>\n",
       "    .dataframe tbody tr th:only-of-type {\n",
       "        vertical-align: middle;\n",
       "    }\n",
       "\n",
       "    .dataframe tbody tr th {\n",
       "        vertical-align: top;\n",
       "    }\n",
       "\n",
       "    .dataframe thead th {\n",
       "        text-align: right;\n",
       "    }\n",
       "</style>\n",
       "<table border=\"1\" class=\"dataframe\">\n",
       "  <thead>\n",
       "    <tr style=\"text-align: right;\">\n",
       "      <th></th>\n",
       "      <th>ECI_YOY_Q1</th>\n",
       "      <th>CPI_YOY_Q1</th>\n",
       "    </tr>\n",
       "    <tr>\n",
       "      <th>index</th>\n",
       "      <th></th>\n",
       "      <th></th>\n",
       "    </tr>\n",
       "  </thead>\n",
       "  <tbody>\n",
       "    <tr>\n",
       "      <th>1983</th>\n",
       "      <td>0.066</td>\n",
       "      <td>0.035979</td>\n",
       "    </tr>\n",
       "    <tr>\n",
       "      <th>1984</th>\n",
       "      <td>0.059</td>\n",
       "      <td>0.048008</td>\n",
       "    </tr>\n",
       "    <tr>\n",
       "      <th>1985</th>\n",
       "      <td>0.047</td>\n",
       "      <td>0.037037</td>\n",
       "    </tr>\n",
       "    <tr>\n",
       "      <th>1986</th>\n",
       "      <td>0.041</td>\n",
       "      <td>0.022556</td>\n",
       "    </tr>\n",
       "    <tr>\n",
       "      <th>1987</th>\n",
       "      <td>0.033</td>\n",
       "      <td>0.030331</td>\n",
       "    </tr>\n",
       "    <tr>\n",
       "      <th>1988</th>\n",
       "      <td>0.042</td>\n",
       "      <td>0.039251</td>\n",
       "    </tr>\n",
       "    <tr>\n",
       "      <th>1989</th>\n",
       "      <td>0.048</td>\n",
       "      <td>0.049785</td>\n",
       "    </tr>\n",
       "    <tr>\n",
       "      <th>1990</th>\n",
       "      <td>0.055</td>\n",
       "      <td>0.052330</td>\n",
       "    </tr>\n",
       "    <tr>\n",
       "      <th>1991</th>\n",
       "      <td>0.045</td>\n",
       "      <td>0.048951</td>\n",
       "    </tr>\n",
       "    <tr>\n",
       "      <th>1992</th>\n",
       "      <td>0.041</td>\n",
       "      <td>0.031852</td>\n",
       "    </tr>\n",
       "    <tr>\n",
       "      <th>1993</th>\n",
       "      <td>0.035</td>\n",
       "      <td>0.030869</td>\n",
       "    </tr>\n",
       "    <tr>\n",
       "      <th>1994</th>\n",
       "      <td>0.032</td>\n",
       "      <td>0.025070</td>\n",
       "    </tr>\n",
       "    <tr>\n",
       "      <th>1995</th>\n",
       "      <td>0.030</td>\n",
       "      <td>0.028533</td>\n",
       "    </tr>\n",
       "    <tr>\n",
       "      <th>1996</th>\n",
       "      <td>0.027</td>\n",
       "      <td>0.028402</td>\n",
       "    </tr>\n",
       "    <tr>\n",
       "      <th>1997</th>\n",
       "      <td>0.029</td>\n",
       "      <td>0.027617</td>\n",
       "    </tr>\n",
       "    <tr>\n",
       "      <th>1998</th>\n",
       "      <td>0.031</td>\n",
       "      <td>0.013750</td>\n",
       "    </tr>\n",
       "    <tr>\n",
       "      <th>1999</th>\n",
       "      <td>0.030</td>\n",
       "      <td>0.017263</td>\n",
       "    </tr>\n",
       "    <tr>\n",
       "      <th>2000</th>\n",
       "      <td>0.044</td>\n",
       "      <td>0.037576</td>\n",
       "    </tr>\n",
       "    <tr>\n",
       "      <th>2001</th>\n",
       "      <td>0.041</td>\n",
       "      <td>0.029206</td>\n",
       "    </tr>\n",
       "    <tr>\n",
       "      <th>2002</th>\n",
       "      <td>0.039</td>\n",
       "      <td>0.014756</td>\n",
       "    </tr>\n",
       "    <tr>\n",
       "      <th>2003</th>\n",
       "      <td>0.039</td>\n",
       "      <td>0.030201</td>\n",
       "    </tr>\n",
       "    <tr>\n",
       "      <th>2004</th>\n",
       "      <td>0.037</td>\n",
       "      <td>0.017372</td>\n",
       "    </tr>\n",
       "    <tr>\n",
       "      <th>2005</th>\n",
       "      <td>0.035</td>\n",
       "      <td>0.031483</td>\n",
       "    </tr>\n",
       "    <tr>\n",
       "      <th>2006</th>\n",
       "      <td>0.028</td>\n",
       "      <td>0.033626</td>\n",
       "    </tr>\n",
       "    <tr>\n",
       "      <th>2007</th>\n",
       "      <td>0.035</td>\n",
       "      <td>0.027788</td>\n",
       "    </tr>\n",
       "    <tr>\n",
       "      <th>2008</th>\n",
       "      <td>0.033</td>\n",
       "      <td>0.039815</td>\n",
       "    </tr>\n",
       "    <tr>\n",
       "      <th>2009</th>\n",
       "      <td>0.021</td>\n",
       "      <td>-0.003836</td>\n",
       "    </tr>\n",
       "    <tr>\n",
       "      <th>2010</th>\n",
       "      <td>0.017</td>\n",
       "      <td>0.023140</td>\n",
       "    </tr>\n",
       "    <tr>\n",
       "      <th>2011</th>\n",
       "      <td>0.020</td>\n",
       "      <td>0.026816</td>\n",
       "    </tr>\n",
       "    <tr>\n",
       "      <th>2012</th>\n",
       "      <td>0.019</td>\n",
       "      <td>0.026514</td>\n",
       "    </tr>\n",
       "    <tr>\n",
       "      <th>2013</th>\n",
       "      <td>0.019</td>\n",
       "      <td>0.014739</td>\n",
       "    </tr>\n",
       "    <tr>\n",
       "      <th>2014</th>\n",
       "      <td>0.018</td>\n",
       "      <td>0.015122</td>\n",
       "    </tr>\n",
       "    <tr>\n",
       "      <th>2015</th>\n",
       "      <td>0.026</td>\n",
       "      <td>-0.000736</td>\n",
       "    </tr>\n",
       "    <tr>\n",
       "      <th>2016</th>\n",
       "      <td>0.019</td>\n",
       "      <td>0.008525</td>\n",
       "    </tr>\n",
       "    <tr>\n",
       "      <th>2017</th>\n",
       "      <td>0.024</td>\n",
       "      <td>0.023806</td>\n",
       "    </tr>\n",
       "    <tr>\n",
       "      <th>2018</th>\n",
       "      <td>0.027</td>\n",
       "      <td>0.023597</td>\n",
       "    </tr>\n",
       "    <tr>\n",
       "      <th>2019</th>\n",
       "      <td>0.028</td>\n",
       "      <td>0.018625</td>\n",
       "    </tr>\n",
       "    <tr>\n",
       "      <th>2020</th>\n",
       "      <td>0.028</td>\n",
       "      <td>0.015393</td>\n",
       "    </tr>\n",
       "    <tr>\n",
       "      <th>2021</th>\n",
       "      <td>0.026</td>\n",
       "      <td>0.026198</td>\n",
       "    </tr>\n",
       "  </tbody>\n",
       "</table>\n",
       "</div>"
      ],
      "text/plain": [
       "       ECI_YOY_Q1  CPI_YOY_Q1\n",
       "index                        \n",
       "1983        0.066    0.035979\n",
       "1984        0.059    0.048008\n",
       "1985        0.047    0.037037\n",
       "1986        0.041    0.022556\n",
       "1987        0.033    0.030331\n",
       "1988        0.042    0.039251\n",
       "1989        0.048    0.049785\n",
       "1990        0.055    0.052330\n",
       "1991        0.045    0.048951\n",
       "1992        0.041    0.031852\n",
       "1993        0.035    0.030869\n",
       "1994        0.032    0.025070\n",
       "1995        0.030    0.028533\n",
       "1996        0.027    0.028402\n",
       "1997        0.029    0.027617\n",
       "1998        0.031    0.013750\n",
       "1999        0.030    0.017263\n",
       "2000        0.044    0.037576\n",
       "2001        0.041    0.029206\n",
       "2002        0.039    0.014756\n",
       "2003        0.039    0.030201\n",
       "2004        0.037    0.017372\n",
       "2005        0.035    0.031483\n",
       "2006        0.028    0.033626\n",
       "2007        0.035    0.027788\n",
       "2008        0.033    0.039815\n",
       "2009        0.021   -0.003836\n",
       "2010        0.017    0.023140\n",
       "2011        0.020    0.026816\n",
       "2012        0.019    0.026514\n",
       "2013        0.019    0.014739\n",
       "2014        0.018    0.015122\n",
       "2015        0.026   -0.000736\n",
       "2016        0.019    0.008525\n",
       "2017        0.024    0.023806\n",
       "2018        0.027    0.023597\n",
       "2019        0.028    0.018625\n",
       "2020        0.028    0.015393\n",
       "2021        0.026    0.026198"
      ]
     },
     "execution_count": 61,
     "metadata": {},
     "output_type": "execute_result"
    }
   ],
   "source": [
    "ECI_CPI_temp = ECI_CPI[['ECI_YOY_Q1','CPI_YOY_Q1']].iloc[1:,:]\n",
    "ECI_CPI_temp"
   ]
  },
  {
   "cell_type": "code",
   "execution_count": 62,
   "id": "83c92cea",
   "metadata": {},
   "outputs": [
    {
     "data": {
      "image/png": "[encoded data removed]",
      "text/plain": [
       "<Figure size 864x360 with 1 Axes>"
      ]
     },
     "metadata": {},
     "output_type": "display_data"
    }
   ],
   "source": [
    "\n",
    "ECI_CPI_temp[['ECI_YOY_Q1','CPI_YOY_Q1']].plot(figsize = (12,5),legend = True,title= 'ECI_YOY_Q1 vs CPI_YOY_Q1')\n",
    "plt.show()\n"
   ]
  },
  {
   "cell_type": "markdown",
   "id": "43f8026e",
   "metadata": {},
   "source": [
    "## Scatter Plot"
   ]
  },
  {
   "cell_type": "code",
   "execution_count": 63,
   "id": "eb9acf62",
   "metadata": {},
   "outputs": [
    {
     "data": {
      "image/png": "[encoded data removed]",
      "text/plain": [
       "<Figure size 864x360 with 1 Axes>"
      ]
     },
     "metadata": {},
     "output_type": "display_data"
    }
   ],
   "source": [
    "plt.figure(figsize = (12,5))\n",
    "plt.scatter(ECI_CPI_temp['ECI_YOY_Q1'],ECI_CPI_temp['CPI_YOY_Q1'])\n",
    "plt.xlabel(\"ECI_YOY_Q1\")\n",
    "plt.ylabel(\"CPI_YOY_Q1\")\n",
    "plt.title(\"Scatter plot\")\n",
    "\n",
    "plt.show()\n",
    " "
   ]
  },
  {
   "cell_type": "markdown",
   "id": "d91b7d94",
   "metadata": {},
   "source": [
    "## Correlation"
   ]
  },
  {
   "cell_type": "code",
   "execution_count": 64,
   "id": "8f682e30",
   "metadata": {},
   "outputs": [
    {
     "data": {
      "text/plain": [
       "0.6809764950117214"
      ]
     },
     "execution_count": 64,
     "metadata": {},
     "output_type": "execute_result"
    }
   ],
   "source": [
    "correlation = ECI_CPI_temp['ECI_YOY_Q1'].corr(ECI_CPI_temp['CPI_YOY_Q1'])\n",
    "correlation\n"
   ]
  },
  {
   "cell_type": "markdown",
   "id": "3ebce5cc",
   "metadata": {},
   "source": [
    "We see that the correlation is 0.6809, which is fairly strong"
   ]
  },
  {
   "cell_type": "markdown",
   "id": "7e3c10be",
   "metadata": {},
   "source": [
    "## Test for stationarity"
   ]
  },
  {
   "cell_type": "markdown",
   "id": "01b698ff",
   "metadata": {},
   "source": [
    "### Augmented Dickey Fuller Test"
   ]
  },
  {
   "cell_type": "code",
   "execution_count": 28,
   "id": "447c9efd",
   "metadata": {},
   "outputs": [],
   "source": [
    "def ADF(series,title=''):\n",
    "    print(f'The Augmented Dickey Fuller Test: {title}')\n",
    "\n",
    "    result = adfuller(series,autolag='AIC') # Augmented Dickey Fuller test is a statistical test to check for stationarity. \n",
    "    \n",
    "    labels = ['ADF test Statistic',\"p-value\",\"lags used\",\"observations\"]\n",
    "    out = pd.Series(result[0:4],index = labels)\n",
    "    \n",
    "    for key,val in result[4].items():\n",
    "        out[f'the critical value ({key})'] = val\n",
    "    print(out.to_string())\n",
    "    \n",
    "    if result[1]<=0.05:\n",
    "       \n",
    "        print(\"Reject the null hypothesis\")\n",
    "        print(f'The {title} series is stationary')\n",
    "    if result[1]>0.05:\n",
    "        print(\"Accept the null hypothesis\")\n",
    "        print(f'The {title } series is non-stationary ')\n",
    "        \n"
   ]
  },
  {
   "cell_type": "code",
   "execution_count": 29,
   "id": "e1bf85e9",
   "metadata": {},
   "outputs": [
    {
     "name": "stdout",
     "output_type": "stream",
     "text": [
      "The Augmented Dickey Fuller Test: CPI_YOY_Q1\n",
      "ADF test Statistic          -3.652552\n",
      "p-value                      0.004832\n",
      "lags used                    0.000000\n",
      "observations                38.000000\n",
      "the critical value (1%)     -3.615509\n",
      "the critical value (5%)     -2.941262\n",
      "the critical value (10%)    -2.609200\n",
      "Reject the null hypothesis\n",
      "The CPI_YOY_Q1 series is stationary\n"
     ]
    }
   ],
   "source": [
    "ADF(ECI_CPI_temp['CPI_YOY_Q1'],'CPI_YOY_Q1')"
   ]
  },
  {
   "cell_type": "code",
   "execution_count": 30,
   "id": "dcd17a34",
   "metadata": {},
   "outputs": [
    {
     "name": "stdout",
     "output_type": "stream",
     "text": [
      "The Augmented Dickey Fuller Test: ECI_YOY_Q1\n",
      "ADF test Statistic          -3.049263\n",
      "p-value                      0.030543\n",
      "lags used                    0.000000\n",
      "observations                38.000000\n",
      "the critical value (1%)     -3.615509\n",
      "the critical value (5%)     -2.941262\n",
      "the critical value (10%)    -2.609200\n",
      "Reject the null hypothesis\n",
      "The ECI_YOY_Q1 series is stationary\n"
     ]
    }
   ],
   "source": [
    "ADF(ECI_CPI_temp['ECI_YOY_Q1'],'ECI_YOY_Q1')"
   ]
  },
  {
   "cell_type": "markdown",
   "id": "94a1494c",
   "metadata": {},
   "source": [
    "Both CPI_YOY_Q1 & ECI_YOY_Q1 are stationary. "
   ]
  },
  {
   "cell_type": "markdown",
   "id": "65e7cd86",
   "metadata": {},
   "source": [
    "## Test for Cointegration"
   ]
  },
  {
   "cell_type": "code",
   "execution_count": 42,
   "id": "cbc8214e",
   "metadata": {},
   "outputs": [],
   "source": [
    "import statsmodels.tsa.stattools as ts"
   ]
  },
  {
   "cell_type": "markdown",
   "id": "94e6f185",
   "metadata": {},
   "source": [
    "### Johansen Test"
   ]
  },
  {
   "cell_type": "code",
   "execution_count": 43,
   "id": "2f730d22",
   "metadata": {},
   "outputs": [],
   "source": [
    "def cointegration_test(data1,data2,title =''):\n",
    "    print(f'The Johansen cointegration test for {title} is: ')\n",
    "    result = ts.coint(data1,data2,autolag='aic')#Johansen test is used to check cointegration \n",
    "    result\n",
    "    labels = [\"t -statistic\",\"#p value\"]\n",
    "    out = pd.Series(result[0:2],index= labels)\n",
    "    \n",
    "    for key,val in dict(zip(['1%','2%','3%'],result[2])).items():\n",
    "        out[f' the critical value {(key)} is : '] = val\n",
    "       \n",
    "   \n",
    "    \n",
    "    print(out.to_string())\n",
    "    print(\"\\n\")\n",
    "    if result[1]<=0.05:\n",
    "        \n",
    "        \n",
    "        print(\"Reject the Null hypothesis\")\n",
    "        print(\"The series are cointegrated  \")\n",
    "        print(\"\\n\")\n",
    "        \n",
    "    if result[1]>0.05:\n",
    "        \n",
    "       \n",
    "        print(\"We Accept the Null hypothesis\")\n",
    "        print(\"There is no cointegration between the series \")\n",
    "        print(\"\\n\")\n",
    "   "
   ]
  },
  {
   "cell_type": "code",
   "execution_count": 44,
   "id": "8831cccc",
   "metadata": {},
   "outputs": [
    {
     "name": "stdout",
     "output_type": "stream",
     "text": [
      "The Johansen cointegration test for CPI_YOY_Q1 vs ECI_YOY_Q1 is: \n",
      "t -statistic                   -4.868717\n",
      "#p value                        0.000285\n",
      " the critical value 1% is :    -4.207866\n",
      " the critical value 2% is :    -3.501647\n",
      " the critical value 3% is :    -3.157944\n",
      "\n",
      "\n",
      "Reject the Null hypothesis\n",
      "The series are cointegrated  \n",
      "\n",
      "\n"
     ]
    }
   ],
   "source": [
    "cointegration_test(ECI_CPI_temp['ECI_YOY_Q1'],ECI_CPI_temp['CPI_YOY_Q1'],'CPI_YOY_Q1 vs ECI_YOY_Q1')"
   ]
  },
  {
   "cell_type": "markdown",
   "id": "8933b828",
   "metadata": {},
   "source": [
    "### The Engle-Granger Cointegration Test"
   ]
  },
  {
   "cell_type": "code",
   "execution_count": 45,
   "id": "32d97944",
   "metadata": {},
   "outputs": [],
   "source": [
    "from arch.unitroot import engle_granger\n",
    "#pip install arch"
   ]
  },
  {
   "cell_type": "code",
   "execution_count": 76,
   "id": "ab47671d",
   "metadata": {},
   "outputs": [],
   "source": [
    "eg_test = engle_granger(ECI_CPI_temp['ECI_YOY_Q1'], ECI_CPI_temp['CPI_YOY_Q1'], trend=\"ct\")\n",
    " "
   ]
  },
  {
   "cell_type": "raw",
   "id": "c957482c",
   "metadata": {},
   "source": [
    "\"n\": No trend\n",
    "\n",
    "\"c\": Constant\n",
    "\n",
    "\"ct\": Constant and time trend\n",
    "\n",
    "\"ctt\": Constant, time and quadratic trends"
   ]
  },
  {
   "cell_type": "code",
   "execution_count": 77,
   "id": "d9522ed6",
   "metadata": {},
   "outputs": [
    {
     "data": {
      "text/html": [
       "<table class=\"simpletable\">\n",
       "<caption>Engle-Granger Cointegration Test</caption>\n",
       "<tr>\n",
       "  <td>Test Statistic</td>            <td>-4.100</td>\n",
       "</tr>\n",
       "<tr>\n",
       "  <td>P-value</td>                    <td>0.021</td>\n",
       "</tr>\n",
       "<tr>\n",
       "  <td>ADF Lag length</td>                 <td>0</td>\n",
       "</tr>\n",
       "<tr>\n",
       "  <td>Estimated Root ρ (γ+1)</td>     <td>0.501</td>\n",
       "</tr>\n",
       "</table><br/><br/>Trend: Constant<br/>Critical Values: -3.74 (10%), -4.09 (5%), -4.82 (1%)<br/>Null Hypothesis: No Cointegration<br/>Alternative Hypothesis: Cointegration<br/>Distribution Order: 1"
      ],
      "text/plain": [
       "Engle-Granger Cointegration Test\n",
       "Statistic: -4.100106680965359\n",
       "P-value: 0.020840148099890366\n",
       "Null: No Cointegration, Alternative: Cointegration\n",
       "ADF Lag length: 0\n",
       "Trend: c\n",
       "Estimated Root ρ (γ+1): 0.5011491613854664\n",
       "Distribution Order: 1\n",
       "ID: 0x263357a8490"
      ]
     },
     "execution_count": 77,
     "metadata": {},
     "output_type": "execute_result"
    }
   ],
   "source": [
    "eg_test"
   ]
  },
  {
   "cell_type": "markdown",
   "id": "b22f1e6b",
   "metadata": {},
   "source": [
    "Johansen Test- P-value is less than 0.05, We reject the Null Hypothesis and confirm that CPI_YOY_Q1 & ECI_YOY_Q1 are cointegrated"
   ]
  },
  {
   "cell_type": "markdown",
   "id": "fa1ce964",
   "metadata": {},
   "source": [
    "EG Test- P-value is less than 0.05, We reject the Null Hypothesis and confirm that CPI_YOY_Q1 & ECI_YOY_Q1 are cointegrated"
   ]
  },
  {
   "cell_type": "markdown",
   "id": "f2763a66",
   "metadata": {},
   "source": [
    "# ECI_YOY_Q2 vs CPI_YOY_Q2 "
   ]
  },
  {
   "cell_type": "markdown",
   "id": "1a61ce29",
   "metadata": {},
   "source": [
    "## Line Plot"
   ]
  },
  {
   "cell_type": "code",
   "execution_count": 66,
   "id": "47c5f8a0",
   "metadata": {},
   "outputs": [
    {
     "data": {
      "image/png": "[encoded data removed]",
      "text/plain": [
       "<Figure size 864x360 with 1 Axes>"
      ]
     },
     "metadata": {},
     "output_type": "display_data"
    }
   ],
   "source": [
    "\n",
    "ECI_CPI[['ECI_YOY_Q2','CPI_YOY_Q2']].plot(figsize = (12,5),legend = True,title= 'ECI_YOY_Q2 vs CPI_YOY_Q2')\n",
    "plt.show()\n"
   ]
  },
  {
   "cell_type": "markdown",
   "id": "c6b61161",
   "metadata": {},
   "source": [
    "## Scatter Plot"
   ]
  },
  {
   "cell_type": "code",
   "execution_count": 67,
   "id": "d02b1698",
   "metadata": {},
   "outputs": [
    {
     "data": {
      "image/png": "[encoded data removed]",
      "text/plain": [
       "<Figure size 864x360 with 1 Axes>"
      ]
     },
     "metadata": {},
     "output_type": "display_data"
    }
   ],
   "source": [
    "plt.figure(figsize = (12,5))\n",
    "plt.scatter(ECI_CPI['ECI_YOY_Q2'],ECI_CPI['CPI_YOY_Q2'])\n",
    "plt.xlabel(\"ECI_YOY_Q2\")\n",
    "plt.ylabel(\"CPI_YOY_Q2\")\n",
    "plt.title(\"Scatter plot\")\n",
    "\n",
    "plt.show()\n",
    "# the scatter plot shows the same result that there is a postive relationship between ECI and CPI "
   ]
  },
  {
   "cell_type": "markdown",
   "id": "69783967",
   "metadata": {},
   "source": [
    "## Correlation"
   ]
  },
  {
   "cell_type": "code",
   "execution_count": 69,
   "id": "f2020b39",
   "metadata": {},
   "outputs": [
    {
     "data": {
      "text/plain": [
       "0.6410943379473606"
      ]
     },
     "execution_count": 69,
     "metadata": {},
     "output_type": "execute_result"
    }
   ],
   "source": [
    "correlation = ECI_CPI['ECI_YOY_Q2'].corr(ECI_CPI['CPI_YOY_Q2'])\n",
    "correlation"
   ]
  },
  {
   "cell_type": "markdown",
   "id": "15a06b36",
   "metadata": {},
   "source": [
    "We see that the correlation is 0.6812, which is fairly strong"
   ]
  },
  {
   "cell_type": "markdown",
   "id": "bdaf3ec4",
   "metadata": {},
   "source": [
    "## Test for stationarity"
   ]
  },
  {
   "cell_type": "markdown",
   "id": "3ba92600",
   "metadata": {},
   "source": [
    "### Augmented Dickey Fuller Test"
   ]
  },
  {
   "cell_type": "code",
   "execution_count": 70,
   "id": "4013112c",
   "metadata": {},
   "outputs": [
    {
     "name": "stdout",
     "output_type": "stream",
     "text": [
      "The Augmented Dickey Fuller Test: CPI_YOY_Q2\n",
      "ADF test Statistic          -5.619738\n",
      "p-value                      0.000001\n",
      "lags used                    0.000000\n",
      "observations                39.000000\n",
      "the critical value (1%)     -3.610400\n",
      "the critical value (5%)     -2.939109\n",
      "the critical value (10%)    -2.608063\n",
      "Reject the null hypothesis\n",
      "The CPI_YOY_Q2 series is stationary\n"
     ]
    }
   ],
   "source": [
    "ADF(ECI_CPI['CPI_YOY_Q2'],'CPI_YOY_Q2')"
   ]
  },
  {
   "cell_type": "code",
   "execution_count": 71,
   "id": "385c3405",
   "metadata": {},
   "outputs": [
    {
     "name": "stdout",
     "output_type": "stream",
     "text": [
      "The Augmented Dickey Fuller Test: ECI_YOY_Q2\n",
      "ADF test Statistic          -3.729902\n",
      "p-value                      0.003712\n",
      "lags used                    0.000000\n",
      "observations                39.000000\n",
      "the critical value (1%)     -3.610400\n",
      "the critical value (5%)     -2.939109\n",
      "the critical value (10%)    -2.608063\n",
      "Reject the null hypothesis\n",
      "The ECI_YOY_Q2 series is stationary\n"
     ]
    }
   ],
   "source": [
    "ADF(ECI_CPI['ECI_YOY_Q2'],'ECI_YOY_Q2')"
   ]
  },
  {
   "cell_type": "markdown",
   "id": "5a4f7919",
   "metadata": {},
   "source": [
    "Both CPI_YOY_Q2 & ECI_YOY_Q2 are stationary."
   ]
  },
  {
   "cell_type": "markdown",
   "id": "e5dfd1c5",
   "metadata": {},
   "source": [
    "## Test for Cointegration"
   ]
  },
  {
   "cell_type": "markdown",
   "id": "739ab838",
   "metadata": {},
   "source": [
    "### Johansen Test"
   ]
  },
  {
   "cell_type": "code",
   "execution_count": 78,
   "id": "ec98a6c7",
   "metadata": {},
   "outputs": [
    {
     "name": "stdout",
     "output_type": "stream",
     "text": [
      "The Johansen cointegration test for ECI_YOY_Q2 vs CPI_YOY_Q2 is: \n",
      "t -statistic                   -3.599121\n",
      "#p value                        0.024563\n",
      " the critical value 1% is :    -4.199301\n",
      " the critical value 2% is :    -3.497285\n",
      " the critical value 3% is :    -3.154987\n",
      "\n",
      "\n",
      "Reject the Null hypothesis\n",
      "The series are cointegrated  \n",
      "\n",
      "\n"
     ]
    }
   ],
   "source": [
    "cointegration_test(ECI_CPI['ECI_YOY_Q2'],ECI_CPI['CPI_YOY_Q2'],'ECI_YOY_Q2 vs CPI_YOY_Q2')"
   ]
  },
  {
   "cell_type": "markdown",
   "id": "d3422ba8",
   "metadata": {},
   "source": [
    "### The Engle-Granger Cointegration Test"
   ]
  },
  {
   "cell_type": "code",
   "execution_count": 85,
   "id": "89b7ce3b",
   "metadata": {},
   "outputs": [
    {
     "data": {
      "text/html": [
       "<table class=\"simpletable\">\n",
       "<caption>Engle-Granger Cointegration Test</caption>\n",
       "<tr>\n",
       "  <td>Test Statistic</td>            <td>-3.371</td>\n",
       "</tr>\n",
       "<tr>\n",
       "  <td>P-value</td>                    <td>0.046</td>\n",
       "</tr>\n",
       "<tr>\n",
       "  <td>ADF Lag length</td>                 <td>0</td>\n",
       "</tr>\n",
       "<tr>\n",
       "  <td>Estimated Root ρ (γ+1)</td>     <td>0.540</td>\n",
       "</tr>\n",
       "</table><br/><br/>Trend: Constant<br/>Critical Values: -3.20 (10%), -3.54 (5%), -4.25 (1%)<br/>Null Hypothesis: No Cointegration<br/>Alternative Hypothesis: Cointegration<br/>Distribution Order: 1"
      ],
      "text/plain": [
       "Engle-Granger Cointegration Test\n",
       "Statistic: -3.3714812978274398\n",
       "P-value: 0.046136157567068375\n",
       "Null: No Cointegration, Alternative: Cointegration\n",
       "ADF Lag length: 0\n",
       "Trend: c\n",
       "Estimated Root ρ (γ+1): 0.5398870596239704\n",
       "Distribution Order: 1\n",
       "ID: 0x26335623640"
      ]
     },
     "execution_count": 85,
     "metadata": {},
     "output_type": "execute_result"
    }
   ],
   "source": [
    "eg_test = engle_granger(ECI_CPI['ECI_YOY_Q2'], ECI_CPI['CPI_YOY_Q2'], trend=\"c\")\n",
    "eg_test"
   ]
  },
  {
   "cell_type": "markdown",
   "id": "13070155",
   "metadata": {},
   "source": [
    "Johansen Test- P-value is less than 0.05, We reject the Null Hypothesis and confirm that CPI_YOY_Q2 & ECI_YOY_Q2 are cointegrated"
   ]
  },
  {
   "cell_type": "markdown",
   "id": "2349595d",
   "metadata": {},
   "source": [
    "EG Test-  P-value is less than 0.05, We reject the Null Hypothesis and confirm that CPI_YOY_Q2 & ECI_YOY_Q2 are cointegrated"
   ]
  },
  {
   "cell_type": "markdown",
   "id": "d0eabf67",
   "metadata": {},
   "source": [
    "# ECI_YOY_Q3 vs CPI_YOY_Q3"
   ]
  },
  {
   "cell_type": "markdown",
   "id": "67d42949",
   "metadata": {},
   "source": [
    "## Line Plot"
   ]
  },
  {
   "cell_type": "code",
   "execution_count": 86,
   "id": "720a2cb0",
   "metadata": {},
   "outputs": [
    {
     "data": {
      "image/png": "[encoded data removed]",
      "text/plain": [
       "<Figure size 864x360 with 1 Axes>"
      ]
     },
     "metadata": {},
     "output_type": "display_data"
    }
   ],
   "source": [
    "\n",
    "ECI_CPI[['ECI_YOY_Q3','CPI_YOY_Q3']].plot(figsize = (12,5),legend = True,title= 'ECI_YOY_Q3 vs CPI_YOY_Q3')\n",
    "plt.show()\n"
   ]
  },
  {
   "cell_type": "markdown",
   "id": "844d0d00",
   "metadata": {},
   "source": [
    "## Scatter Plot"
   ]
  },
  {
   "cell_type": "code",
   "execution_count": 87,
   "id": "b3ff0556",
   "metadata": {},
   "outputs": [
    {
     "data": {
      "image/png": "[encoded data removed]",
      "text/plain": [
       "<Figure size 864x360 with 1 Axes>"
      ]
     },
     "metadata": {},
     "output_type": "display_data"
    }
   ],
   "source": [
    "plt.figure(figsize = (12,5))\n",
    "plt.scatter(ECI_CPI['ECI_YOY_Q3'],ECI_CPI['CPI_YOY_Q3'])\n",
    "plt.xlabel(\"ECI_YOY_Q3\")\n",
    "plt.ylabel(\"CPI_YOY_Q3\")\n",
    "plt.title(\"Scatter plot\")\n",
    "\n",
    "plt.show()\n"
   ]
  },
  {
   "cell_type": "markdown",
   "id": "eb800fc3",
   "metadata": {},
   "source": [
    "## Correlation"
   ]
  },
  {
   "cell_type": "code",
   "execution_count": 88,
   "id": "fed9c25e",
   "metadata": {},
   "outputs": [
    {
     "data": {
      "text/plain": [
       "0.6139324796698843"
      ]
     },
     "execution_count": 88,
     "metadata": {},
     "output_type": "execute_result"
    }
   ],
   "source": [
    "correlation = ECI_CPI['ECI_YOY_Q3'].corr(ECI_CPI['CPI_YOY_Q3'])\n",
    "correlation"
   ]
  },
  {
   "cell_type": "markdown",
   "id": "0c7fee03",
   "metadata": {},
   "source": [
    "We see that the correlation is 0.6504, which is fairly strong"
   ]
  },
  {
   "cell_type": "markdown",
   "id": "a41cf96f",
   "metadata": {},
   "source": [
    "## Test for Stationarity"
   ]
  },
  {
   "cell_type": "markdown",
   "id": "00f539a9",
   "metadata": {},
   "source": [
    "### Augmented Dickey Fuller Test"
   ]
  },
  {
   "cell_type": "code",
   "execution_count": 89,
   "id": "49077c14",
   "metadata": {},
   "outputs": [
    {
     "name": "stdout",
     "output_type": "stream",
     "text": [
      "The Augmented Dickey Fuller Test: CPI_YOY_Q3\n",
      "ADF test Statistic          -4.994851\n",
      "p-value                      0.000023\n",
      "lags used                    0.000000\n",
      "observations                39.000000\n",
      "the critical value (1%)     -3.610400\n",
      "the critical value (5%)     -2.939109\n",
      "the critical value (10%)    -2.608063\n",
      "Reject the null hypothesis\n",
      "The CPI_YOY_Q3 series is stationary\n"
     ]
    }
   ],
   "source": [
    "ADF(ECI_CPI['CPI_YOY_Q3'],'CPI_YOY_Q3')"
   ]
  },
  {
   "cell_type": "code",
   "execution_count": 90,
   "id": "508100da",
   "metadata": {},
   "outputs": [
    {
     "name": "stdout",
     "output_type": "stream",
     "text": [
      "The Augmented Dickey Fuller Test: ECI_YOY_Q3\n",
      "ADF test Statistic          -3.639064\n",
      "p-value                      0.005057\n",
      "lags used                    0.000000\n",
      "observations                39.000000\n",
      "the critical value (1%)     -3.610400\n",
      "the critical value (5%)     -2.939109\n",
      "the critical value (10%)    -2.608063\n",
      "Reject the null hypothesis\n",
      "The ECI_YOY_Q3 series is stationary\n"
     ]
    }
   ],
   "source": [
    "ADF(ECI_CPI['ECI_YOY_Q3'],'ECI_YOY_Q3')"
   ]
  },
  {
   "cell_type": "markdown",
   "id": "5a5cd79e",
   "metadata": {},
   "source": [
    "Both CPI_YOY_Q3 & ECI_YOY_Q3 are stationary."
   ]
  },
  {
   "cell_type": "markdown",
   "id": "316fe612",
   "metadata": {},
   "source": [
    "## Test for Cointegration"
   ]
  },
  {
   "cell_type": "markdown",
   "id": "cfa2baec",
   "metadata": {},
   "source": [
    "### Johansen Test"
   ]
  },
  {
   "cell_type": "code",
   "execution_count": 91,
   "id": "ba7d9e04",
   "metadata": {},
   "outputs": [
    {
     "name": "stdout",
     "output_type": "stream",
     "text": [
      "The Johansen cointegration test for ECI_YOY_Q3 vs CPI_YOY_Q3 is: \n",
      "t -statistic                   -2.641765\n",
      "#p value                        0.221219\n",
      " the critical value 1% is :    -4.199301\n",
      " the critical value 2% is :    -3.497285\n",
      " the critical value 3% is :    -3.154987\n",
      "\n",
      "\n",
      "We Accept the Null hypothesis\n",
      "There is no cointegration between the series \n",
      "\n",
      "\n"
     ]
    }
   ],
   "source": [
    "cointegration_test(ECI_CPI['ECI_YOY_Q3'],ECI_CPI['CPI_YOY_Q3'],'ECI_YOY_Q3 vs CPI_YOY_Q3')"
   ]
  },
  {
   "cell_type": "markdown",
   "id": "5095a4d5",
   "metadata": {},
   "source": [
    "### The Engle-Granger Cointegration Test"
   ]
  },
  {
   "cell_type": "code",
   "execution_count": 98,
   "id": "68dfbe59",
   "metadata": {},
   "outputs": [
    {
     "data": {
      "text/html": [
       "<table class=\"simpletable\">\n",
       "<caption>Engle-Granger Cointegration Test</caption>\n",
       "<tr>\n",
       "  <td>Test Statistic</td>            <td>-3.944</td>\n",
       "</tr>\n",
       "<tr>\n",
       "  <td>P-value</td>                    <td>0.086</td>\n",
       "</tr>\n",
       "<tr>\n",
       "  <td>ADF Lag length</td>                 <td>0</td>\n",
       "</tr>\n",
       "<tr>\n",
       "  <td>Estimated Root ρ (γ+1)</td>     <td>0.488</td>\n",
       "</tr>\n",
       "</table><br/><br/>Trend: Constant<br/>Critical Values: -4.21 (10%), -4.57 (5%), -5.32 (1%)<br/>Null Hypothesis: No Cointegration<br/>Alternative Hypothesis: Cointegration<br/>Distribution Order: 1"
      ],
      "text/plain": [
       "Engle-Granger Cointegration Test\n",
       "Statistic: -3.9435186286656023\n",
       "P-value: 0.0862718091362234\n",
       "Null: No Cointegration, Alternative: Cointegration\n",
       "ADF Lag length: 0\n",
       "Trend: c\n",
       "Estimated Root ρ (γ+1): 0.48757493787265394\n",
       "Distribution Order: 1\n",
       "ID: 0x263357c0700"
      ]
     },
     "execution_count": 98,
     "metadata": {},
     "output_type": "execute_result"
    }
   ],
   "source": [
    "eg_test = engle_granger(ECI_CPI['ECI_YOY_Q3'], ECI_CPI['CPI_YOY_Q3'], trend=\"ctt\")\n",
    "eg_test"
   ]
  },
  {
   "cell_type": "markdown",
   "id": "4995353e",
   "metadata": {},
   "source": [
    "Johansen Test- P-value is greater than 0.05, We accept the Null Hypothesis and confirm that CPI_YOY_Q3 & ECI_YOY_Q3 are not cointegrated"
   ]
  },
  {
   "cell_type": "markdown",
   "id": "7a34fc7a",
   "metadata": {},
   "source": [
    "EG Test- P-value is greater than 0.05, We accept the Null Hypothesis and confirm that CPI_YOY_Q3 & ECI_YOY_Q3 are not cointegrated"
   ]
  },
  {
   "cell_type": "markdown",
   "id": "fbf0c16c",
   "metadata": {},
   "source": [
    "# ECI_YOY_Q4 vs CPI_YOY_Q4"
   ]
  },
  {
   "cell_type": "markdown",
   "id": "faaf811b",
   "metadata": {},
   "source": [
    "## Line Plot"
   ]
  },
  {
   "cell_type": "code",
   "execution_count": 99,
   "id": "38095c74",
   "metadata": {},
   "outputs": [
    {
     "data": {
      "image/png": "[encoded data removed]",
      "text/plain": [
       "<Figure size 864x360 with 1 Axes>"
      ]
     },
     "metadata": {},
     "output_type": "display_data"
    }
   ],
   "source": [
    "\n",
    "ECI_CPI[['ECI_YOY_Q4','CPI_YOY_Q4']].plot(figsize = (12,5),legend = True,title= 'ECI_YOY_Q4 vs CPI_YOY_Q4')\n",
    "plt.show()\n"
   ]
  },
  {
   "cell_type": "markdown",
   "id": "da451edb",
   "metadata": {},
   "source": [
    "## Scatter Plot"
   ]
  },
  {
   "cell_type": "code",
   "execution_count": 100,
   "id": "af39165e",
   "metadata": {},
   "outputs": [
    {
     "data": {
      "image/png": "[encoded data removed]",
      "text/plain": [
       "<Figure size 864x360 with 1 Axes>"
      ]
     },
     "metadata": {},
     "output_type": "display_data"
    }
   ],
   "source": [
    "plt.figure(figsize = (12,5))\n",
    "plt.scatter(ECI_CPI['ECI_YOY_Q4'],ECI_CPI['CPI_YOY_Q4'])\n",
    "plt.xlabel(\"ECI_YOY_Q4\")\n",
    "plt.ylabel(\"CPI_YOY_Q4\")\n",
    "plt.title(\"Scatter plot\")\n",
    "\n",
    "plt.show()\n"
   ]
  },
  {
   "cell_type": "markdown",
   "id": "12e4828b",
   "metadata": {},
   "source": [
    "## Correlation"
   ]
  },
  {
   "cell_type": "code",
   "execution_count": 101,
   "id": "d85deed1",
   "metadata": {},
   "outputs": [
    {
     "data": {
      "text/plain": [
       "0.5932178980366465"
      ]
     },
     "execution_count": 101,
     "metadata": {},
     "output_type": "execute_result"
    }
   ],
   "source": [
    "correlation = ECI_CPI['CPI_YOY_Q4'].corr(ECI_CPI['ECI_YOY_Q4'])\n",
    "correlation"
   ]
  },
  {
   "cell_type": "markdown",
   "id": "d25cda6c",
   "metadata": {},
   "source": [
    "We see that the correlation is 0.651, which is fairly strong"
   ]
  },
  {
   "cell_type": "markdown",
   "id": "7c668627",
   "metadata": {},
   "source": [
    "## Test for Stationarity"
   ]
  },
  {
   "cell_type": "markdown",
   "id": "dea48f46",
   "metadata": {},
   "source": [
    "### Augmented Dickey Fuller Test"
   ]
  },
  {
   "cell_type": "code",
   "execution_count": 102,
   "id": "176a9912",
   "metadata": {},
   "outputs": [
    {
     "name": "stdout",
     "output_type": "stream",
     "text": [
      "The Augmented Dickey Fuller Test: CPI_YOY_Q4\n",
      "ADF test Statistic          -4.174703\n",
      "p-value                      0.000727\n",
      "lags used                    0.000000\n",
      "observations                39.000000\n",
      "the critical value (1%)     -3.610400\n",
      "the critical value (5%)     -2.939109\n",
      "the critical value (10%)    -2.608063\n",
      "Reject the null hypothesis\n",
      "The CPI_YOY_Q4 series is stationary\n"
     ]
    }
   ],
   "source": [
    "ADF(ECI_CPI['CPI_YOY_Q4'],'CPI_YOY_Q4')"
   ]
  },
  {
   "cell_type": "code",
   "execution_count": 103,
   "id": "3af60fe9",
   "metadata": {},
   "outputs": [
    {
     "name": "stdout",
     "output_type": "stream",
     "text": [
      "The Augmented Dickey Fuller Test: ECI_YOY_Q4\n",
      "ADF test Statistic          -2.914818\n",
      "p-value                      0.043652\n",
      "lags used                    0.000000\n",
      "observations                39.000000\n",
      "the critical value (1%)     -3.610400\n",
      "the critical value (5%)     -2.939109\n",
      "the critical value (10%)    -2.608063\n",
      "Reject the null hypothesis\n",
      "The ECI_YOY_Q4 series is stationary\n"
     ]
    }
   ],
   "source": [
    "ADF(ECI_CPI['ECI_YOY_Q4'],'ECI_YOY_Q4')"
   ]
  },
  {
   "cell_type": "markdown",
   "id": "f44e8805",
   "metadata": {},
   "source": [
    "Both CPI_YOY_Q4 & ECI_YOY_Q4 are stationary."
   ]
  },
  {
   "cell_type": "markdown",
   "id": "db103ea2",
   "metadata": {},
   "source": [
    "## Test for Cointegration"
   ]
  },
  {
   "cell_type": "markdown",
   "id": "53e3dc32",
   "metadata": {},
   "source": [
    "### Johansen Test"
   ]
  },
  {
   "cell_type": "code",
   "execution_count": 104,
   "id": "3e9c4f67",
   "metadata": {},
   "outputs": [
    {
     "name": "stdout",
     "output_type": "stream",
     "text": [
      "The Johansen cointegration test for ECI_YOY_Q4 vs CPI_YOY_Q4 is: \n",
      "t -statistic                   -3.019800\n",
      "#p value                        0.105574\n",
      " the critical value 1% is :    -4.199301\n",
      " the critical value 2% is :    -3.497285\n",
      " the critical value 3% is :    -3.154987\n",
      "\n",
      "\n",
      "We Accept the Null hypothesis\n",
      "There is no cointegration between the series \n",
      "\n",
      "\n"
     ]
    }
   ],
   "source": [
    "cointegration_test(ECI_CPI['ECI_YOY_Q4'],ECI_CPI['CPI_YOY_Q4'],'ECI_YOY_Q4 vs CPI_YOY_Q4')"
   ]
  },
  {
   "cell_type": "markdown",
   "id": "e4bf1ecc",
   "metadata": {},
   "source": [
    "### The Engle-Granger Cointegration Test"
   ]
  },
  {
   "cell_type": "code",
   "execution_count": 105,
   "id": "cbf3c21a",
   "metadata": {},
   "outputs": [
    {
     "data": {
      "text/html": [
       "<table class=\"simpletable\">\n",
       "<caption>Engle-Granger Cointegration Test</caption>\n",
       "<tr>\n",
       "  <td>Test Statistic</td>            <td>-3.763</td>\n",
       "</tr>\n",
       "<tr>\n",
       "  <td>P-value</td>                    <td>0.129</td>\n",
       "</tr>\n",
       "<tr>\n",
       "  <td>ADF Lag length</td>                 <td>0</td>\n",
       "</tr>\n",
       "<tr>\n",
       "  <td>Estimated Root ρ (γ+1)</td>     <td>0.498</td>\n",
       "</tr>\n",
       "</table><br/><br/>Trend: Constant<br/>Critical Values: -4.21 (10%), -4.57 (5%), -5.32 (1%)<br/>Null Hypothesis: No Cointegration<br/>Alternative Hypothesis: Cointegration<br/>Distribution Order: 1"
      ],
      "text/plain": [
       "Engle-Granger Cointegration Test\n",
       "Statistic: -3.7628356089660615\n",
       "P-value: 0.12948195156176728\n",
       "Null: No Cointegration, Alternative: Cointegration\n",
       "ADF Lag length: 0\n",
       "Trend: c\n",
       "Estimated Root ρ (γ+1): 0.4981194860412078\n",
       "Distribution Order: 1\n",
       "ID: 0x263355315e0"
      ]
     },
     "execution_count": 105,
     "metadata": {},
     "output_type": "execute_result"
    }
   ],
   "source": [
    "eg_test = engle_granger(ECI_CPI['ECI_YOY_Q4'], ECI_CPI['CPI_YOY_Q4'], trend=\"ctt\")\n",
    "eg_test"
   ]
  },
  {
   "cell_type": "markdown",
   "id": "f8f9c896",
   "metadata": {},
   "source": [
    "Johansen Test- P-value is greater than 0.05, We accept the Null Hypothesis and confirm that CPI_YOY_Q4 & ECI_YOY_Q4 are not cointegrated"
   ]
  },
  {
   "cell_type": "markdown",
   "id": "1923afbf",
   "metadata": {},
   "source": [
    "EG Test- P-value is greater than 0.05, We accept the Null Hypothesis and confirm that CPI_YOY_Q4 & ECI_YOY_Q4 are not cointegrated"
   ]
  },
  {
   "cell_type": "markdown",
   "id": "9c3030e3",
   "metadata": {},
   "source": [
    "# ALL_Quarters"
   ]
  },
  {
   "cell_type": "code",
   "execution_count": 210,
   "id": "9f395cb0",
   "metadata": {},
   "outputs": [
    {
     "data": {
      "text/plain": [
       "DatetimeIndex(['1982-06-30', '1982-09-30', '1982-12-31', '1983-03-31',\n",
       "               '1983-06-30', '1983-09-30', '1983-12-31', '1984-03-31',\n",
       "               '1984-06-30', '1984-09-30',\n",
       "               ...\n",
       "               '2019-09-30', '2019-12-31', '2020-03-31', '2020-06-30',\n",
       "               '2020-09-30', '2020-12-31', '2021-03-31', '2021-06-30',\n",
       "               '2021-09-30', '2021-12-31'],\n",
       "              dtype='datetime64[ns]', length=159, freq='Q-DEC')"
      ]
     },
     "execution_count": 210,
     "metadata": {},
     "output_type": "execute_result"
    }
   ],
   "source": [
    "date = pd.date_range(start = '1982-04-01',end= '2022-01-01',freq = 'Q')\n",
    "date"
   ]
  },
  {
   "cell_type": "code",
   "execution_count": 211,
   "id": "ea211e73",
   "metadata": {},
   "outputs": [
    {
     "data": {
      "text/plain": [
       "PeriodIndex(['1982Q2', '1982Q3', '1982Q4', '1983Q1', '1983Q2', '1983Q3',\n",
       "             '1983Q4', '1984Q1', '1984Q2', '1984Q3',\n",
       "             ...\n",
       "             '2019Q3', '2019Q4', '2020Q1', '2020Q2', '2020Q3', '2020Q4',\n",
       "             '2021Q1', '2021Q2', '2021Q3', '2021Q4'],\n",
       "            dtype='period[Q-DEC]', length=159, freq='Q-DEC')"
      ]
     },
     "execution_count": 211,
     "metadata": {},
     "output_type": "execute_result"
    }
   ],
   "source": [
    "date = date.to_period('Q')\n",
    "date"
   ]
  },
  {
   "cell_type": "markdown",
   "id": "9b995c82",
   "metadata": {},
   "source": [
    "We generated a series of data starting from 1982 Q1 till 2021Q4 on a quarterly basis"
   ]
  },
  {
   "cell_type": "code",
   "execution_count": 212,
   "id": "5487bc1f",
   "metadata": {},
   "outputs": [
    {
     "data": {
      "text/html": [
       "<div>\n",
       "<style scoped>\n",
       "    .dataframe tbody tr th:only-of-type {\n",
       "        vertical-align: middle;\n",
       "    }\n",
       "\n",
       "    .dataframe tbody tr th {\n",
       "        vertical-align: top;\n",
       "    }\n",
       "\n",
       "    .dataframe thead th {\n",
       "        text-align: right;\n",
       "    }\n",
       "</style>\n",
       "<table border=\"1\" class=\"dataframe\">\n",
       "  <thead>\n",
       "    <tr style=\"text-align: right;\">\n",
       "      <th></th>\n",
       "      <th>ECI_YOY</th>\n",
       "      <th>CPI_YOY</th>\n",
       "      <th>Unnamed: 2</th>\n",
       "      <th>Unnamed: 3</th>\n",
       "      <th>Unnamed: 4</th>\n",
       "      <th>Unnamed: 5</th>\n",
       "      <th>Unnamed: 6</th>\n",
       "      <th>Unnamed: 7</th>\n",
       "    </tr>\n",
       "  </thead>\n",
       "  <tbody>\n",
       "    <tr>\n",
       "      <th>0</th>\n",
       "      <td>0.075</td>\n",
       "      <td>0.070640</td>\n",
       "      <td>NaN</td>\n",
       "      <td>NaN</td>\n",
       "      <td>NaN</td>\n",
       "      <td>NaN</td>\n",
       "      <td>NaN</td>\n",
       "      <td>NaN</td>\n",
       "    </tr>\n",
       "    <tr>\n",
       "      <th>1</th>\n",
       "      <td>0.073</td>\n",
       "      <td>0.050429</td>\n",
       "      <td>NaN</td>\n",
       "      <td>NaN</td>\n",
       "      <td>NaN</td>\n",
       "      <td>NaN</td>\n",
       "      <td>NaN</td>\n",
       "      <td>NaN</td>\n",
       "    </tr>\n",
       "    <tr>\n",
       "      <th>2</th>\n",
       "      <td>0.064</td>\n",
       "      <td>0.038298</td>\n",
       "      <td>NaN</td>\n",
       "      <td>NaN</td>\n",
       "      <td>NaN</td>\n",
       "      <td>NaN</td>\n",
       "      <td>NaN</td>\n",
       "      <td>NaN</td>\n",
       "    </tr>\n",
       "    <tr>\n",
       "      <th>3</th>\n",
       "      <td>0.066</td>\n",
       "      <td>0.035979</td>\n",
       "      <td>NaN</td>\n",
       "      <td>NaN</td>\n",
       "      <td>NaN</td>\n",
       "      <td>NaN</td>\n",
       "      <td>NaN</td>\n",
       "      <td>NaN</td>\n",
       "    </tr>\n",
       "    <tr>\n",
       "      <th>4</th>\n",
       "      <td>0.065</td>\n",
       "      <td>0.025773</td>\n",
       "      <td>NaN</td>\n",
       "      <td>NaN</td>\n",
       "      <td>NaN</td>\n",
       "      <td>NaN</td>\n",
       "      <td>NaN</td>\n",
       "      <td>NaN</td>\n",
       "    </tr>\n",
       "  </tbody>\n",
       "</table>\n",
       "</div>"
      ],
      "text/plain": [
       "   ECI_YOY   CPI_YOY  Unnamed: 2  Unnamed: 3  Unnamed: 4  Unnamed: 5  \\\n",
       "0    0.075  0.070640         NaN         NaN         NaN         NaN   \n",
       "1    0.073  0.050429         NaN         NaN         NaN         NaN   \n",
       "2    0.064  0.038298         NaN         NaN         NaN         NaN   \n",
       "3    0.066  0.035979         NaN         NaN         NaN         NaN   \n",
       "4    0.065  0.025773         NaN         NaN         NaN         NaN   \n",
       "\n",
       "   Unnamed: 6  Unnamed: 7  \n",
       "0         NaN         NaN  \n",
       "1         NaN         NaN  \n",
       "2         NaN         NaN  \n",
       "3         NaN         NaN  \n",
       "4         NaN         NaN  "
      ]
     },
     "execution_count": 212,
     "metadata": {},
     "output_type": "execute_result"
    }
   ],
   "source": [
    "ECI_CPI_Q = pd.read_excel('Average YOY_original.xlsx',sheet_name='ALL-Quarters')\n",
    "ECI_CPI_Q.columns\n",
    "ECI_CPI_Q.head()\n",
    "#pulled the ECI vs CPI data"
   ]
  },
  {
   "cell_type": "code",
   "execution_count": 213,
   "id": "74b2ca91",
   "metadata": {},
   "outputs": [
    {
     "data": {
      "text/plain": [
       "ECI_YOY    159\n",
       "CPI_YOY    159\n",
       "dtype: int64"
      ]
     },
     "execution_count": 213,
     "metadata": {},
     "output_type": "execute_result"
    }
   ],
   "source": [
    "ECI_CPI_Q = ECI_CPI_Q.iloc[:,0:2]\n",
    "ECI_CPI_Q.count()"
   ]
  },
  {
   "cell_type": "code",
   "execution_count": 214,
   "id": "e8ea18b0",
   "metadata": {},
   "outputs": [
    {
     "data": {
      "text/html": [
       "<div>\n",
       "<style scoped>\n",
       "    .dataframe tbody tr th:only-of-type {\n",
       "        vertical-align: middle;\n",
       "    }\n",
       "\n",
       "    .dataframe tbody tr th {\n",
       "        vertical-align: top;\n",
       "    }\n",
       "\n",
       "    .dataframe thead th {\n",
       "        text-align: right;\n",
       "    }\n",
       "</style>\n",
       "<table border=\"1\" class=\"dataframe\">\n",
       "  <thead>\n",
       "    <tr style=\"text-align: right;\">\n",
       "      <th></th>\n",
       "      <th>ECI_YOY</th>\n",
       "      <th>CPI_YOY</th>\n",
       "    </tr>\n",
       "  </thead>\n",
       "  <tbody>\n",
       "    <tr>\n",
       "      <th>0</th>\n",
       "      <td>0.075</td>\n",
       "      <td>0.070640</td>\n",
       "    </tr>\n",
       "    <tr>\n",
       "      <th>1</th>\n",
       "      <td>0.073</td>\n",
       "      <td>0.050429</td>\n",
       "    </tr>\n",
       "    <tr>\n",
       "      <th>2</th>\n",
       "      <td>0.064</td>\n",
       "      <td>0.038298</td>\n",
       "    </tr>\n",
       "    <tr>\n",
       "      <th>3</th>\n",
       "      <td>0.066</td>\n",
       "      <td>0.035979</td>\n",
       "    </tr>\n",
       "    <tr>\n",
       "      <th>4</th>\n",
       "      <td>0.065</td>\n",
       "      <td>0.025773</td>\n",
       "    </tr>\n",
       "  </tbody>\n",
       "</table>\n",
       "</div>"
      ],
      "text/plain": [
       "   ECI_YOY   CPI_YOY\n",
       "0    0.075  0.070640\n",
       "1    0.073  0.050429\n",
       "2    0.064  0.038298\n",
       "3    0.066  0.035979\n",
       "4    0.065  0.025773"
      ]
     },
     "execution_count": 214,
     "metadata": {},
     "output_type": "execute_result"
    }
   ],
   "source": [
    "ECI_CPI_Q.head()"
   ]
  },
  {
   "cell_type": "code",
   "execution_count": 215,
   "id": "d8dd7ace",
   "metadata": {},
   "outputs": [
    {
     "data": {
      "text/html": [
       "<div>\n",
       "<style scoped>\n",
       "    .dataframe tbody tr th:only-of-type {\n",
       "        vertical-align: middle;\n",
       "    }\n",
       "\n",
       "    .dataframe tbody tr th {\n",
       "        vertical-align: top;\n",
       "    }\n",
       "\n",
       "    .dataframe thead th {\n",
       "        text-align: right;\n",
       "    }\n",
       "</style>\n",
       "<table border=\"1\" class=\"dataframe\">\n",
       "  <thead>\n",
       "    <tr style=\"text-align: right;\">\n",
       "      <th></th>\n",
       "      <th>ECI_YOY</th>\n",
       "      <th>CPI_YOY</th>\n",
       "    </tr>\n",
       "  </thead>\n",
       "  <tbody>\n",
       "    <tr>\n",
       "      <th>154</th>\n",
       "      <td>0.025</td>\n",
       "      <td>0.013620</td>\n",
       "    </tr>\n",
       "    <tr>\n",
       "      <th>155</th>\n",
       "      <td>0.026</td>\n",
       "      <td>0.026198</td>\n",
       "    </tr>\n",
       "    <tr>\n",
       "      <th>156</th>\n",
       "      <td>0.029</td>\n",
       "      <td>0.053915</td>\n",
       "    </tr>\n",
       "    <tr>\n",
       "      <th>157</th>\n",
       "      <td>0.037</td>\n",
       "      <td>0.053903</td>\n",
       "    </tr>\n",
       "    <tr>\n",
       "      <th>158</th>\n",
       "      <td>0.040</td>\n",
       "      <td>0.070364</td>\n",
       "    </tr>\n",
       "  </tbody>\n",
       "</table>\n",
       "</div>"
      ],
      "text/plain": [
       "     ECI_YOY   CPI_YOY\n",
       "154    0.025  0.013620\n",
       "155    0.026  0.026198\n",
       "156    0.029  0.053915\n",
       "157    0.037  0.053903\n",
       "158    0.040  0.070364"
      ]
     },
     "execution_count": 215,
     "metadata": {},
     "output_type": "execute_result"
    }
   ],
   "source": [
    "ECI_CPI_Q.tail()"
   ]
  },
  {
   "cell_type": "code",
   "execution_count": 216,
   "id": "e17e9e45",
   "metadata": {},
   "outputs": [],
   "source": [
    "ECI_CPI_Q['index'] = date"
   ]
  },
  {
   "cell_type": "code",
   "execution_count": 217,
   "id": "c424fb05",
   "metadata": {},
   "outputs": [],
   "source": [
    "ECI_CPI_Q.set_index(\"index\",inplace =True) "
   ]
  },
  {
   "cell_type": "markdown",
   "id": "554f01f4",
   "metadata": {},
   "source": [
    "We club the quarterly data with the ECI vs CPI data"
   ]
  },
  {
   "cell_type": "code",
   "execution_count": 218,
   "id": "49e5e654",
   "metadata": {},
   "outputs": [
    {
     "data": {
      "text/html": [
       "<div>\n",
       "<style scoped>\n",
       "    .dataframe tbody tr th:only-of-type {\n",
       "        vertical-align: middle;\n",
       "    }\n",
       "\n",
       "    .dataframe tbody tr th {\n",
       "        vertical-align: top;\n",
       "    }\n",
       "\n",
       "    .dataframe thead th {\n",
       "        text-align: right;\n",
       "    }\n",
       "</style>\n",
       "<table border=\"1\" class=\"dataframe\">\n",
       "  <thead>\n",
       "    <tr style=\"text-align: right;\">\n",
       "      <th></th>\n",
       "      <th>ECI_YOY</th>\n",
       "      <th>CPI_YOY</th>\n",
       "    </tr>\n",
       "    <tr>\n",
       "      <th>index</th>\n",
       "      <th></th>\n",
       "      <th></th>\n",
       "    </tr>\n",
       "  </thead>\n",
       "  <tbody>\n",
       "    <tr>\n",
       "      <th>1982Q2</th>\n",
       "      <td>0.075</td>\n",
       "      <td>0.070640</td>\n",
       "    </tr>\n",
       "    <tr>\n",
       "      <th>1982Q3</th>\n",
       "      <td>0.073</td>\n",
       "      <td>0.050429</td>\n",
       "    </tr>\n",
       "    <tr>\n",
       "      <th>1982Q4</th>\n",
       "      <td>0.064</td>\n",
       "      <td>0.038298</td>\n",
       "    </tr>\n",
       "    <tr>\n",
       "      <th>1983Q1</th>\n",
       "      <td>0.066</td>\n",
       "      <td>0.035979</td>\n",
       "    </tr>\n",
       "    <tr>\n",
       "      <th>1983Q2</th>\n",
       "      <td>0.065</td>\n",
       "      <td>0.025773</td>\n",
       "    </tr>\n",
       "  </tbody>\n",
       "</table>\n",
       "</div>"
      ],
      "text/plain": [
       "        ECI_YOY   CPI_YOY\n",
       "index                    \n",
       "1982Q2    0.075  0.070640\n",
       "1982Q3    0.073  0.050429\n",
       "1982Q4    0.064  0.038298\n",
       "1983Q1    0.066  0.035979\n",
       "1983Q2    0.065  0.025773"
      ]
     },
     "execution_count": 218,
     "metadata": {},
     "output_type": "execute_result"
    }
   ],
   "source": [
    "ECI_CPI_Q.head()"
   ]
  },
  {
   "cell_type": "code",
   "execution_count": 219,
   "id": "9a8d06d8",
   "metadata": {},
   "outputs": [
    {
     "data": {
      "text/html": [
       "<div>\n",
       "<style scoped>\n",
       "    .dataframe tbody tr th:only-of-type {\n",
       "        vertical-align: middle;\n",
       "    }\n",
       "\n",
       "    .dataframe tbody tr th {\n",
       "        vertical-align: top;\n",
       "    }\n",
       "\n",
       "    .dataframe thead th {\n",
       "        text-align: right;\n",
       "    }\n",
       "</style>\n",
       "<table border=\"1\" class=\"dataframe\">\n",
       "  <thead>\n",
       "    <tr style=\"text-align: right;\">\n",
       "      <th></th>\n",
       "      <th>ECI_YOY</th>\n",
       "      <th>CPI_YOY</th>\n",
       "    </tr>\n",
       "    <tr>\n",
       "      <th>index</th>\n",
       "      <th></th>\n",
       "      <th></th>\n",
       "    </tr>\n",
       "  </thead>\n",
       "  <tbody>\n",
       "    <tr>\n",
       "      <th>2020Q4</th>\n",
       "      <td>0.025</td>\n",
       "      <td>0.013620</td>\n",
       "    </tr>\n",
       "    <tr>\n",
       "      <th>2021Q1</th>\n",
       "      <td>0.026</td>\n",
       "      <td>0.026198</td>\n",
       "    </tr>\n",
       "    <tr>\n",
       "      <th>2021Q2</th>\n",
       "      <td>0.029</td>\n",
       "      <td>0.053915</td>\n",
       "    </tr>\n",
       "    <tr>\n",
       "      <th>2021Q3</th>\n",
       "      <td>0.037</td>\n",
       "      <td>0.053903</td>\n",
       "    </tr>\n",
       "    <tr>\n",
       "      <th>2021Q4</th>\n",
       "      <td>0.040</td>\n",
       "      <td>0.070364</td>\n",
       "    </tr>\n",
       "  </tbody>\n",
       "</table>\n",
       "</div>"
      ],
      "text/plain": [
       "        ECI_YOY   CPI_YOY\n",
       "index                    \n",
       "2020Q4    0.025  0.013620\n",
       "2021Q1    0.026  0.026198\n",
       "2021Q2    0.029  0.053915\n",
       "2021Q3    0.037  0.053903\n",
       "2021Q4    0.040  0.070364"
      ]
     },
     "execution_count": 219,
     "metadata": {},
     "output_type": "execute_result"
    }
   ],
   "source": [
    "ECI_CPI_Q.tail()"
   ]
  },
  {
   "cell_type": "code",
   "execution_count": 220,
   "id": "ed6da34d",
   "metadata": {},
   "outputs": [
    {
     "data": {
      "text/plain": [
       "pandas.core.indexes.period.PeriodIndex"
      ]
     },
     "execution_count": 220,
     "metadata": {},
     "output_type": "execute_result"
    }
   ],
   "source": [
    "type(ECI_CPI_Q.index)\n",
    "# we ensured that the index of our data is a  period index since we would be testing the data for \n",
    "#stationarity and cointegration, it is important for the data to a time series data."
   ]
  },
  {
   "cell_type": "code",
   "execution_count": 221,
   "id": "9c701b32",
   "metadata": {},
   "outputs": [
    {
     "data": {
      "text/html": [
       "<div>\n",
       "<style scoped>\n",
       "    .dataframe tbody tr th:only-of-type {\n",
       "        vertical-align: middle;\n",
       "    }\n",
       "\n",
       "    .dataframe tbody tr th {\n",
       "        vertical-align: top;\n",
       "    }\n",
       "\n",
       "    .dataframe thead th {\n",
       "        text-align: right;\n",
       "    }\n",
       "</style>\n",
       "<table border=\"1\" class=\"dataframe\">\n",
       "  <thead>\n",
       "    <tr style=\"text-align: right;\">\n",
       "      <th></th>\n",
       "      <th>ECI_YOY</th>\n",
       "      <th>CPI_YOY</th>\n",
       "    </tr>\n",
       "    <tr>\n",
       "      <th>index</th>\n",
       "      <th></th>\n",
       "      <th></th>\n",
       "    </tr>\n",
       "  </thead>\n",
       "  <tbody>\n",
       "    <tr>\n",
       "      <th>1982Q2</th>\n",
       "      <td>0.075</td>\n",
       "      <td>0.070640</td>\n",
       "    </tr>\n",
       "    <tr>\n",
       "      <th>1982Q3</th>\n",
       "      <td>0.073</td>\n",
       "      <td>0.050429</td>\n",
       "    </tr>\n",
       "    <tr>\n",
       "      <th>1982Q4</th>\n",
       "      <td>0.064</td>\n",
       "      <td>0.038298</td>\n",
       "    </tr>\n",
       "    <tr>\n",
       "      <th>1983Q1</th>\n",
       "      <td>0.066</td>\n",
       "      <td>0.035979</td>\n",
       "    </tr>\n",
       "    <tr>\n",
       "      <th>1983Q2</th>\n",
       "      <td>0.065</td>\n",
       "      <td>0.025773</td>\n",
       "    </tr>\n",
       "    <tr>\n",
       "      <th>...</th>\n",
       "      <td>...</td>\n",
       "      <td>...</td>\n",
       "    </tr>\n",
       "    <tr>\n",
       "      <th>2020Q4</th>\n",
       "      <td>0.025</td>\n",
       "      <td>0.013620</td>\n",
       "    </tr>\n",
       "    <tr>\n",
       "      <th>2021Q1</th>\n",
       "      <td>0.026</td>\n",
       "      <td>0.026198</td>\n",
       "    </tr>\n",
       "    <tr>\n",
       "      <th>2021Q2</th>\n",
       "      <td>0.029</td>\n",
       "      <td>0.053915</td>\n",
       "    </tr>\n",
       "    <tr>\n",
       "      <th>2021Q3</th>\n",
       "      <td>0.037</td>\n",
       "      <td>0.053903</td>\n",
       "    </tr>\n",
       "    <tr>\n",
       "      <th>2021Q4</th>\n",
       "      <td>0.040</td>\n",
       "      <td>0.070364</td>\n",
       "    </tr>\n",
       "  </tbody>\n",
       "</table>\n",
       "<p>159 rows × 2 columns</p>\n",
       "</div>"
      ],
      "text/plain": [
       "        ECI_YOY   CPI_YOY\n",
       "index                    \n",
       "1982Q2    0.075  0.070640\n",
       "1982Q3    0.073  0.050429\n",
       "1982Q4    0.064  0.038298\n",
       "1983Q1    0.066  0.035979\n",
       "1983Q2    0.065  0.025773\n",
       "...         ...       ...\n",
       "2020Q4    0.025  0.013620\n",
       "2021Q1    0.026  0.026198\n",
       "2021Q2    0.029  0.053915\n",
       "2021Q3    0.037  0.053903\n",
       "2021Q4    0.040  0.070364\n",
       "\n",
       "[159 rows x 2 columns]"
      ]
     },
     "execution_count": 221,
     "metadata": {},
     "output_type": "execute_result"
    }
   ],
   "source": [
    "ECI_CPI_Q"
   ]
  },
  {
   "cell_type": "markdown",
   "id": "da57d159",
   "metadata": {},
   "source": [
    "# ECI_YOY vs CPI_YOY"
   ]
  },
  {
   "cell_type": "markdown",
   "id": "e3df204e",
   "metadata": {},
   "source": [
    "## Line Plot"
   ]
  },
  {
   "cell_type": "code",
   "execution_count": 222,
   "id": "b62d3a42",
   "metadata": {},
   "outputs": [
    {
     "data": {
      "image/png": "[encoded data removed]",
      "text/plain": [
       "<Figure size 864x360 with 1 Axes>"
      ]
     },
     "metadata": {},
     "output_type": "display_data"
    }
   ],
   "source": [
    "ECI_CPI_Q[['ECI_YOY','CPI_YOY']].plot(figsize = (12,5),legend = True,title= 'CPI_YOY vs ECI_YOY')\n",
    "plt.show()\n"
   ]
  },
  {
   "cell_type": "markdown",
   "id": "59766057",
   "metadata": {},
   "source": [
    "## Scatter Plot"
   ]
  },
  {
   "cell_type": "code",
   "execution_count": 223,
   "id": "38c1f309",
   "metadata": {},
   "outputs": [
    {
     "data": {
      "image/png": "[encoded data removed]",
      "text/plain": [
       "<Figure size 864x360 with 1 Axes>"
      ]
     },
     "metadata": {},
     "output_type": "display_data"
    }
   ],
   "source": [
    "plt.figure(figsize = (12,5))\n",
    "plt.scatter(ECI_CPI_Q['ECI_YOY'],ECI_CPI_Q['CPI_YOY'])\n",
    "plt.xlabel(\"ECI_YOY\")\n",
    "plt.ylabel(\"CPI_YOY\")\n",
    "plt.title(\"Scatter plot\")\n",
    "\n",
    "plt.show()"
   ]
  },
  {
   "cell_type": "markdown",
   "id": "737baef7",
   "metadata": {},
   "source": [
    "## Correlation"
   ]
  },
  {
   "cell_type": "code",
   "execution_count": 224,
   "id": "55c5fc31",
   "metadata": {},
   "outputs": [
    {
     "data": {
      "text/plain": [
       "0.6301546750967221"
      ]
     },
     "execution_count": 224,
     "metadata": {},
     "output_type": "execute_result"
    }
   ],
   "source": [
    "correlation = ECI_CPI_Q['CPI_YOY'].corr(ECI_CPI_Q['ECI_YOY'])\n",
    "correlation"
   ]
  },
  {
   "cell_type": "markdown",
   "id": "9b68e1ee",
   "metadata": {},
   "source": [
    "We see that the correlation is 0.6301, which is fairly strong"
   ]
  },
  {
   "cell_type": "markdown",
   "id": "5a9b0536",
   "metadata": {},
   "source": [
    "## Test for Stationarity"
   ]
  },
  {
   "cell_type": "markdown",
   "id": "1cb89adb",
   "metadata": {},
   "source": [
    "### Augmented Dickey Fuller Test"
   ]
  },
  {
   "cell_type": "code",
   "execution_count": 225,
   "id": "4ac0c111",
   "metadata": {},
   "outputs": [
    {
     "name": "stdout",
     "output_type": "stream",
     "text": [
      "The Augmented Dickey Fuller Test: CPI_YOY\n",
      "ADF test Statistic           -2.438992\n",
      "p-value                       0.131032\n",
      "lags used                     9.000000\n",
      "observations                149.000000\n",
      "the critical value (1%)      -3.475018\n",
      "the critical value (5%)      -2.881141\n",
      "the critical value (10%)     -2.577221\n",
      "Accept the null hypothesis\n",
      "The CPI_YOY series is non-stationary \n"
     ]
    }
   ],
   "source": [
    "ADF(ECI_CPI_Q['CPI_YOY'],'CPI_YOY')"
   ]
  },
  {
   "cell_type": "code",
   "execution_count": 226,
   "id": "c732d4c6",
   "metadata": {},
   "outputs": [
    {
     "name": "stdout",
     "output_type": "stream",
     "text": [
      "The Augmented Dickey Fuller Test: ECI_YOY\n",
      "ADF test Statistic           -2.609263\n",
      "p-value                       0.091098\n",
      "lags used                     8.000000\n",
      "observations                150.000000\n",
      "the critical value (1%)      -3.474715\n",
      "the critical value (5%)      -2.881009\n",
      "the critical value (10%)     -2.577151\n",
      "Accept the null hypothesis\n",
      "The ECI_YOY series is non-stationary \n"
     ]
    }
   ],
   "source": [
    "ADF(ECI_CPI_Q['ECI_YOY'],'ECI_YOY')"
   ]
  },
  {
   "cell_type": "markdown",
   "id": "90a4312a",
   "metadata": {},
   "source": [
    "Both CPI_YOY & ECI_YOY are non-stationary."
   ]
  },
  {
   "cell_type": "markdown",
   "id": "eee1dbe3",
   "metadata": {},
   "source": [
    "## Tests for Cointegration"
   ]
  },
  {
   "cell_type": "markdown",
   "id": "b82d581d",
   "metadata": {},
   "source": [
    "### Johansen Test"
   ]
  },
  {
   "cell_type": "code",
   "execution_count": 227,
   "id": "107c5491",
   "metadata": {},
   "outputs": [
    {
     "name": "stdout",
     "output_type": "stream",
     "text": [
      "The Johansen cointegration test for CPI_YOY vs ECI_YOY is: \n",
      "t -statistic                   -2.413256\n",
      "#p value                        0.318603\n",
      " the critical value 1% is :    -3.967099\n",
      " the critical value 2% is :    -3.375075\n",
      " the critical value 3% is :    -3.071402\n",
      "\n",
      "\n",
      "We Accept the Null hypothesis\n",
      "There is no cointegration between the series \n",
      "\n",
      "\n"
     ]
    }
   ],
   "source": [
    "cointegration_test(ECI_CPI_Q['ECI_YOY'],ECI_CPI_Q['CPI_YOY'],'CPI_YOY vs ECI_YOY')"
   ]
  },
  {
   "cell_type": "markdown",
   "id": "50e8d68b",
   "metadata": {},
   "source": [
    "### The Engle-Granger Cointegration Test"
   ]
  },
  {
   "cell_type": "code",
   "execution_count": 228,
   "id": "20d92c4d",
   "metadata": {},
   "outputs": [
    {
     "data": {
      "text/html": [
       "<table class=\"simpletable\">\n",
       "<caption>Engle-Granger Cointegration Test</caption>\n",
       "<tr>\n",
       "  <td>Test Statistic</td>            <td>-2.926</td>\n",
       "</tr>\n",
       "<tr>\n",
       "  <td>P-value</td>                    <td>0.504</td>\n",
       "</tr>\n",
       "<tr>\n",
       "  <td>ADF Lag length</td>                 <td>4</td>\n",
       "</tr>\n",
       "<tr>\n",
       "  <td>Estimated Root ρ (γ+1)</td>     <td>0.878</td>\n",
       "</tr>\n",
       "</table><br/><br/>Trend: Constant<br/>Critical Values: -3.96 (10%), -4.26 (5%), -4.84 (1%)<br/>Null Hypothesis: No Cointegration<br/>Alternative Hypothesis: Cointegration<br/>Distribution Order: 1"
      ],
      "text/plain": [
       "Engle-Granger Cointegration Test\n",
       "Statistic: -2.9262916565632158\n",
       "P-value: 0.5043008514295337\n",
       "Null: No Cointegration, Alternative: Cointegration\n",
       "ADF Lag length: 4\n",
       "Trend: c\n",
       "Estimated Root ρ (γ+1): 0.877952675789183\n",
       "Distribution Order: 1\n",
       "ID: 0x26332a0bd90"
      ]
     },
     "execution_count": 228,
     "metadata": {},
     "output_type": "execute_result"
    }
   ],
   "source": [
    "eg_test = engle_granger(ECI_CPI_Q['ECI_YOY'], ECI_CPI_Q['CPI_YOY'], trend=\"ctt\")\n",
    "eg_test"
   ]
  },
  {
   "cell_type": "markdown",
   "id": "94a5aa62",
   "metadata": {},
   "source": [
    "Johansen Test- P-value is greater than 0.05, We accept the Null Hypothesis and confirm that CPI_YOY & ECI_YOY are not cointegrated\n"
   ]
  },
  {
   "cell_type": "markdown",
   "id": "912291a8",
   "metadata": {},
   "source": [
    "EG Test- P-value is greater than 0.05, We accept the Null Hypothesis and confirm that CPI_YOY & ECI_YOY are not cointegrated"
   ]
  },
  {
   "cell_type": "markdown",
   "id": "eb3e9d76",
   "metadata": {},
   "source": [
    "Refer to the below support: "
   ]
  },
  {
   "cell_type": "code",
   "execution_count": 268,
   "id": "5d7a0a8e",
   "metadata": {},
   "outputs": [
    {
     "name": "stdout",
     "output_type": "stream",
     "text": [
      "Help on function adfuller in module statsmodels.tsa.stattools:\n",
      "\n",
      "adfuller(x, maxlag=None, regression='c', autolag='AIC', store=False, regresults=False)\n",
      "    Augmented Dickey-Fuller unit root test.\n",
      "    \n",
      "    The Augmented Dickey-Fuller test can be used to test for a unit root in a\n",
      "    univariate process in the presence of serial correlation.\n",
      "    \n",
      "    Parameters\n",
      "    ----------\n",
      "    x : array_like, 1d\n",
      "        The data series to test.\n",
      "    maxlag : int\n",
      "        Maximum lag which is included in test, default 12*(nobs/100)^{1/4}.\n",
      "    regression : {\"c\",\"ct\",\"ctt\",\"nc\"}\n",
      "        Constant and trend order to include in regression.\n",
      "    \n",
      "        * \"c\" : constant only (default).\n",
      "        * \"ct\" : constant and trend.\n",
      "        * \"ctt\" : constant, and linear and quadratic trend.\n",
      "        * \"nc\" : no constant, no trend.\n",
      "    \n",
      "    autolag : {\"AIC\", \"BIC\", \"t-stat\", None}\n",
      "        Method to use when automatically determining the lag length among the\n",
      "        values 0, 1, ..., maxlag.\n",
      "    \n",
      "        * If \"AIC\" (default) or \"BIC\", then the number of lags is chosen\n",
      "          to minimize the corresponding information criterion.\n",
      "        * \"t-stat\" based choice of maxlag.  Starts with maxlag and drops a\n",
      "          lag until the t-statistic on the last lag length is significant\n",
      "          using a 5%-sized test.\n",
      "        * If None, then the number of included lags is set to maxlag.\n",
      "    store : bool\n",
      "        If True, then a result instance is returned additionally to\n",
      "        the adf statistic. Default is False.\n",
      "    regresults : bool, optional\n",
      "        If True, the full regression results are returned. Default is False.\n",
      "    \n",
      "    Returns\n",
      "    -------\n",
      "    adf : float\n",
      "        The test statistic.\n",
      "    pvalue : float\n",
      "        MacKinnon\"s approximate p-value based on MacKinnon (1994, 2010).\n",
      "    usedlag : int\n",
      "        The number of lags used.\n",
      "    nobs : int\n",
      "        The number of observations used for the ADF regression and calculation\n",
      "        of the critical values.\n",
      "    critical values : dict\n",
      "        Critical values for the test statistic at the 1 %, 5 %, and 10 %\n",
      "        levels. Based on MacKinnon (2010).\n",
      "    icbest : float\n",
      "        The maximized information criterion if autolag is not None.\n",
      "    resstore : ResultStore, optional\n",
      "        A dummy class with results attached as attributes.\n",
      "    \n",
      "    Notes\n",
      "    -----\n",
      "    The null hypothesis of the Augmented Dickey-Fuller is that there is a unit\n",
      "    root, with the alternative that there is no unit root. If the pvalue is\n",
      "    above a critical size, then we cannot reject that there is a unit root.\n",
      "    \n",
      "    The p-values are obtained through regression surface approximation from\n",
      "    MacKinnon 1994, but using the updated 2010 tables. If the p-value is close\n",
      "    to significant, then the critical values should be used to judge whether\n",
      "    to reject the null.\n",
      "    \n",
      "    The autolag option and maxlag for it are described in Greene.\n",
      "    \n",
      "    References\n",
      "    ----------\n",
      "    .. [1] W. Green.  \"Econometric Analysis,\" 5th ed., Pearson, 2003.\n",
      "    \n",
      "    .. [2] Hamilton, J.D.  \"Time Series Analysis\".  Princeton, 1994.\n",
      "    \n",
      "    .. [3] MacKinnon, J.G. 1994.  \"Approximate asymptotic distribution functions for\n",
      "        unit-root and cointegration tests.  `Journal of Business and Economic\n",
      "        Statistics` 12, 167-76.\n",
      "    \n",
      "    .. [4] MacKinnon, J.G. 2010. \"Critical Values for Cointegration Tests.\"  Queen\"s\n",
      "        University, Dept of Economics, Working Papers.  Available at\n",
      "        http://ideas.repec.org/p/qed/wpaper/1227.html\n",
      "    \n",
      "    Examples\n",
      "    --------\n",
      "    See example notebook\n",
      "\n"
     ]
    }
   ],
   "source": [
    "help(adfuller)"
   ]
  },
  {
   "cell_type": "code",
   "execution_count": 542,
   "id": "d7bd6160",
   "metadata": {},
   "outputs": [
    {
     "name": "stdout",
     "output_type": "stream",
     "text": [
      "Help on function coint in module statsmodels.tsa.stattools:\n",
      "\n",
      "coint(y0, y1, trend='c', method='aeg', maxlag=None, autolag='aic', return_results=None)\n",
      "    Test for no-cointegration of a univariate equation.\n",
      "    \n",
      "    The null hypothesis is no cointegration. Variables in y0 and y1 are\n",
      "    assumed to be integrated of order 1, I(1).\n",
      "    \n",
      "    This uses the augmented Engle-Granger two-step cointegration test.\n",
      "    Constant or trend is included in 1st stage regression, i.e. in\n",
      "    cointegrating equation.\n",
      "    \n",
      "    **Warning:** The autolag default has changed compared to statsmodels 0.8.\n",
      "    In 0.8 autolag was always None, no the keyword is used and defaults to\n",
      "    \"aic\". Use `autolag=None` to avoid the lag search.\n",
      "    \n",
      "    Parameters\n",
      "    ----------\n",
      "    y0 : array_like\n",
      "        The first element in cointegrated system. Must be 1-d.\n",
      "    y1 : array_like\n",
      "        The remaining elements in cointegrated system.\n",
      "    trend : str {\"c\", \"ct\"}\n",
      "        The trend term included in regression for cointegrating equation.\n",
      "    \n",
      "        * \"c\" : constant.\n",
      "        * \"ct\" : constant and linear trend.\n",
      "        * also available quadratic trend \"ctt\", and no constant \"nc\".\n",
      "    \n",
      "    method : {\"aeg\"}\n",
      "        Only \"aeg\" (augmented Engle-Granger) is available.\n",
      "    maxlag : None or int\n",
      "        Argument for `adfuller`, largest or given number of lags.\n",
      "    autolag : str\n",
      "        Argument for `adfuller`, lag selection criterion.\n",
      "    \n",
      "        * If None, then maxlag lags are used without lag search.\n",
      "        * If \"AIC\" (default) or \"BIC\", then the number of lags is chosen\n",
      "          to minimize the corresponding information criterion.\n",
      "        * \"t-stat\" based choice of maxlag.  Starts with maxlag and drops a\n",
      "          lag until the t-statistic on the last lag length is significant\n",
      "          using a 5%-sized test.\n",
      "    return_results : bool\n",
      "        For future compatibility, currently only tuple available.\n",
      "        If True, then a results instance is returned. Otherwise, a tuple\n",
      "        with the test outcome is returned. Set `return_results=False` to\n",
      "        avoid future changes in return.\n",
      "    \n",
      "    Returns\n",
      "    -------\n",
      "    coint_t : float\n",
      "        The t-statistic of unit-root test on residuals.\n",
      "    pvalue : float\n",
      "        MacKinnon\"s approximate, asymptotic p-value based on MacKinnon (1994).\n",
      "    crit_value : dict\n",
      "        Critical values for the test statistic at the 1 %, 5 %, and 10 %\n",
      "        levels based on regression curve. This depends on the number of\n",
      "        observations.\n",
      "    \n",
      "    Notes\n",
      "    -----\n",
      "    The Null hypothesis is that there is no cointegration, the alternative\n",
      "    hypothesis is that there is cointegrating relationship. If the pvalue is\n",
      "    small, below a critical size, then we can reject the hypothesis that there\n",
      "    is no cointegrating relationship.\n",
      "    \n",
      "    P-values and critical values are obtained through regression surface\n",
      "    approximation from MacKinnon 1994 and 2010.\n",
      "    \n",
      "    If the two series are almost perfectly collinear, then computing the\n",
      "    test is numerically unstable. However, the two series will be cointegrated\n",
      "    under the maintained assumption that they are integrated. In this case\n",
      "    the t-statistic will be set to -inf and the pvalue to zero.\n",
      "    \n",
      "    TODO: We could handle gaps in data by dropping rows with nans in the\n",
      "    Auxiliary regressions. Not implemented yet, currently assumes no nans\n",
      "    and no gaps in time series.\n",
      "    \n",
      "    References\n",
      "    ----------\n",
      "    .. [1] MacKinnon, J.G. 1994  \"Approximate Asymptotic Distribution Functions\n",
      "       for Unit-Root and Cointegration Tests.\" Journal of Business & Economics\n",
      "       Statistics, 12.2, 167-76.\n",
      "    .. [2] MacKinnon, J.G. 2010.  \"Critical Values for Cointegration Tests.\"\n",
      "       Queen\"s University, Dept of Economics Working Papers 1227.\n",
      "       http://ideas.repec.org/p/qed/wpaper/1227.html\n",
      "\n"
     ]
    }
   ],
   "source": [
    "help(ts.coint)"
   ]
  },
  {
   "cell_type": "code",
   "execution_count": 543,
   "id": "f59b1b9b",
   "metadata": {},
   "outputs": [
    {
     "name": "stdout",
     "output_type": "stream",
     "text": [
      "Help on function engle_granger in module arch.unitroot._engle_granger:\n",
      "\n",
      "engle_granger(y: 'ArrayLike1D', x: 'ArrayLike2D', trend: 'UnitRootTrend' = 'c', *, lags: 'Optional[int]' = None, max_lags: 'Optional[int]' = None, method: \"Literal[('aic', 'bic', 't-stat')]\" = 'bic') -> 'EngleGrangerTestResults'\n",
      "    Test for cointegration within a set of time series.\n",
      "    \n",
      "    Parameters\n",
      "    ----------\n",
      "    y : array_like\n",
      "        The left-hand-side variable in the cointegrating regression.\n",
      "    x : array_like\n",
      "        The right-hand-side variables in the cointegrating regression.\n",
      "    trend : {\"n\",\"c\",\"ct\",\"ctt\"}, default \"c\"\n",
      "        Trend to include in the cointegrating regression. Trends are:\n",
      "    \n",
      "        * \"n\": No deterministic terms\n",
      "        * \"c\": Constant\n",
      "        * \"ct\": Constant and linear trend\n",
      "        * \"ctt\": Constant, linear and quadratic trends\n",
      "    lags : int, default None\n",
      "        The number of lagged differences to include in the Augmented\n",
      "        Dickey-Fuller test used on the residuals of the\n",
      "    max_lags : int, default None\n",
      "        The maximum number of lags to consider when using automatic\n",
      "        lag-length in the Augmented Dickey-Fuller regression.\n",
      "    method: {\"aic\", \"bic\", \"tstat\"}, default \"bic\"\n",
      "        The method used to select the number of lags included in the\n",
      "        Augmented Dickey-Fuller regression.\n",
      "    \n",
      "    Returns\n",
      "    -------\n",
      "    EngleGrangerTestResults\n",
      "        Results of the Engle-Granger test.\n",
      "    \n",
      "    See Also\n",
      "    --------\n",
      "    arch.unitroot.ADF\n",
      "        Augmented Dickey-Fuller testing.\n",
      "    arch.unitroot.PhillipsPerron\n",
      "        Phillips & Perron's unit root test.\n",
      "    arch.unitroot.cointegration.phillips_ouliaris\n",
      "        Phillips-Ouliaris tests of cointegration.\n",
      "    \n",
      "    Notes\n",
      "    -----\n",
      "    The model estimated is\n",
      "    \n",
      "    .. math::\n",
      "    \n",
      "       Y_t = X_t \\beta + D_t \\gamma + \\epsilon_t\n",
      "    \n",
      "    where :math:`Z_t = [Y_t,X_t]` is being tested for cointegration.\n",
      "    :math:`D_t` is a set of deterministic terms that may include a\n",
      "    constant, a time trend or a quadratic time trend.\n",
      "    \n",
      "    The null hypothesis is that the series are not cointegrated.\n",
      "    \n",
      "    The test is implemented as an ADF of the estimated residuals from the\n",
      "    cross-sectional regression using a set of critical values that is\n",
      "    determined by the number of assumed stochastic trends when the null\n",
      "    hypothesis is true.\n",
      "\n"
     ]
    }
   ],
   "source": [
    "help(engle_granger)"
   ]
  }
 ],
 "metadata": {
  "kernelspec": {
   "display_name": "Python 3",
   "language": "python",
   "name": "python3"
  },
  "language_info": {
   "codemirror_mode": {
    "name": "ipython",
    "version": 3
   },
   "file_extension": ".py",
   "mimetype": "text/x-python",
   "name": "python",
   "nbconvert_exporter": "python",
   "pygments_lexer": "ipython3",
   "version": "3.8.8"
  }
 },
 "nbformat": 4,
 "nbformat_minor": 5
}
